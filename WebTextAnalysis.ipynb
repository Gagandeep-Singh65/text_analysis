{
 "cells": [
  {
   "cell_type": "code",
   "execution_count": 2,
   "id": "02a9fcfe-aab3-4653-9cbc-0cdc3e442918",
   "metadata": {},
   "outputs": [
    {
     "name": "stderr",
     "output_type": "stream",
     "text": [
      "C:\\Users\\gagan\\AppData\\Local\\Temp\\ipykernel_6308\\125688054.py:18: DeprecationWarning: The 'text' argument to find()-type methods is deprecated. Use 'string' instead.\n",
      "  texts = soup.findAll(text=True)\n"
     ]
    },
    {
     "name": "stdout",
     "output_type": "stream",
     "text": [
      "119\n",
      "29\n",
      "0.6081081039992696\n",
      "2723\n",
      "2614\n",
      "2564\n",
      "1794\n",
      "1614\n",
      "1609\n",
      "1565\n",
      "0.09456869003541936\n"
     ]
    },
    {
     "name": "stderr",
     "output_type": "stream",
     "text": [
      "C:\\Users\\gagan\\AppData\\Local\\Temp\\ipykernel_6308\\125688054.py:245: DeprecationWarning: The 'text' argument to find()-type methods is deprecated. Use 'string' instead.\n",
      "  texts = soup.findAll(text=True)\n"
     ]
    },
    {
     "name": "stdout",
     "output_type": "stream",
     "text": [
      "2732\n",
      "99\n",
      "27.595959595959595\n",
      "677\n",
      "the_number_of_words:  2732\n",
      "complex_words:  677\n",
      "percentage of complex word:  24.78038067349927\n",
      "Average_Sentence_Length: 27.595959595959595\n",
      "percentage of complex word:  24.78038067349927\n",
      "Fog Index : 20.95053610778355\n",
      "the_number_of_words:  2732\n",
      "sentence_length: 99\n",
      "Average_Number_of_Words_Per_Sentence: 27.595959595959595\n",
      "word count: 1524\n",
      "Count of Personal Pronoun: 1\n",
      "Sum_character: 15740\n",
      "the_number_of_words:  2732\n",
      "average_word_length: 5.761346998535871\n",
      "5375\n",
      "None\n"
     ]
    },
    {
     "name": "stderr",
     "output_type": "stream",
     "text": [
      "C:\\Users\\gagan\\AppData\\Local\\Temp\\ipykernel_6308\\125688054.py:18: DeprecationWarning: The 'text' argument to find()-type methods is deprecated. Use 'string' instead.\n",
      "  texts = soup.findAll(text=True)\n"
     ]
    },
    {
     "name": "stdout",
     "output_type": "stream",
     "text": [
      "77\n",
      "19\n",
      "0.6041666603732639\n",
      "1661\n",
      "1577\n",
      "1538\n",
      "1118\n",
      "1036\n",
      "1032\n",
      "1006\n",
      "0.09542743529281567\n"
     ]
    },
    {
     "name": "stderr",
     "output_type": "stream",
     "text": [
      "C:\\Users\\gagan\\AppData\\Local\\Temp\\ipykernel_6308\\125688054.py:245: DeprecationWarning: The 'text' argument to find()-type methods is deprecated. Use 'string' instead.\n",
      "  texts = soup.findAll(text=True)\n"
     ]
    },
    {
     "name": "stdout",
     "output_type": "stream",
     "text": [
      "2729\n",
      "98\n",
      "27.846938775510203\n",
      "680\n",
      "the_number_of_words:  2729\n",
      "complex_words:  680\n",
      "percentage of complex word:  24.917552216929277\n",
      "Average_Sentence_Length: 27.846938775510203\n",
      "percentage of complex word:  24.917552216929277\n",
      "Fog Index : 21.10579639697579\n",
      "the_number_of_words:  2729\n",
      "sentence_length: 98\n",
      "Average_Number_of_Words_Per_Sentence: 27.846938775510203\n",
      "word count: 969\n",
      "Count of Personal Pronoun: 1\n",
      "Sum_character: 9522\n",
      "the_number_of_words:  2729\n",
      "average_word_length: 3.4891901795529496\n",
      "3158\n",
      "None\n"
     ]
    },
    {
     "name": "stderr",
     "output_type": "stream",
     "text": [
      "C:\\Users\\gagan\\AppData\\Local\\Temp\\ipykernel_6308\\125688054.py:18: DeprecationWarning: The 'text' argument to find()-type methods is deprecated. Use 'string' instead.\n",
      "  texts = soup.findAll(text=True)\n"
     ]
    },
    {
     "name": "stdout",
     "output_type": "stream",
     "text": [
      "62\n",
      "27\n",
      "0.3932584225476582\n",
      "2196\n",
      "2112\n",
      "2065\n",
      "1471\n",
      "1339\n",
      "1333\n",
      "1294\n",
      "0.06877897985411206\n"
     ]
    },
    {
     "name": "stderr",
     "output_type": "stream",
     "text": [
      "C:\\Users\\gagan\\AppData\\Local\\Temp\\ipykernel_6308\\125688054.py:245: DeprecationWarning: The 'text' argument to find()-type methods is deprecated. Use 'string' instead.\n",
      "  texts = soup.findAll(text=True)\n"
     ]
    },
    {
     "name": "stdout",
     "output_type": "stream",
     "text": [
      "2717\n",
      "95\n",
      "28.6\n",
      "676\n",
      "the_number_of_words:  2717\n",
      "complex_words:  676\n",
      "percentage of complex word:  24.880382775119617\n",
      "Average_Sentence_Length: 28.6\n",
      "percentage of complex word:  24.880382775119617\n",
      "Fog Index : 21.39215311004785\n",
      "the_number_of_words:  2717\n",
      "sentence_length: 95\n",
      "Average_Number_of_Words_Per_Sentence: 28.6\n",
      "word count: 1256\n",
      "Count of Personal Pronoun: 1\n",
      "Sum_character: 12436\n",
      "the_number_of_words:  2717\n",
      "average_word_length: 4.577107103422893\n",
      "4065\n",
      "None\n"
     ]
    },
    {
     "name": "stderr",
     "output_type": "stream",
     "text": [
      "C:\\Users\\gagan\\AppData\\Local\\Temp\\ipykernel_6308\\125688054.py:18: DeprecationWarning: The 'text' argument to find()-type methods is deprecated. Use 'string' instead.\n",
      "  texts = soup.findAll(text=True)\n"
     ]
    },
    {
     "name": "stdout",
     "output_type": "stream",
     "text": [
      "80\n",
      "31\n",
      "0.44144143746449155\n",
      "2280\n",
      "2173\n",
      "2124\n",
      "1555\n",
      "1410\n",
      "1404\n",
      "1370\n",
      "0.0810218977510789\n"
     ]
    },
    {
     "name": "stderr",
     "output_type": "stream",
     "text": [
      "C:\\Users\\gagan\\AppData\\Local\\Temp\\ipykernel_6308\\125688054.py:245: DeprecationWarning: The 'text' argument to find()-type methods is deprecated. Use 'string' instead.\n",
      "  texts = soup.findAll(text=True)\n"
     ]
    },
    {
     "name": "stdout",
     "output_type": "stream",
     "text": [
      "2732\n",
      "98\n",
      "27.877551020408163\n",
      "675\n",
      "the_number_of_words:  2732\n",
      "complex_words:  675\n",
      "percentage of complex word:  24.707174231332356\n",
      "Average_Sentence_Length: 27.877551020408163\n",
      "percentage of complex word:  24.707174231332356\n",
      "Fog Index : 21.033890100696212\n",
      "the_number_of_words:  2732\n",
      "sentence_length: 98\n",
      "Average_Number_of_Words_Per_Sentence: 27.877551020408163\n",
      "word count: 1332\n",
      "Count of Personal Pronoun: 1\n",
      "Sum_character: 13098\n",
      "the_number_of_words:  2732\n",
      "average_word_length: 4.794289897510981\n",
      "4318\n",
      "None\n"
     ]
    },
    {
     "name": "stderr",
     "output_type": "stream",
     "text": [
      "C:\\Users\\gagan\\AppData\\Local\\Temp\\ipykernel_6308\\125688054.py:18: DeprecationWarning: The 'text' argument to find()-type methods is deprecated. Use 'string' instead.\n",
      "  texts = soup.findAll(text=True)\n"
     ]
    },
    {
     "name": "stdout",
     "output_type": "stream",
     "text": [
      "81\n",
      "32\n",
      "0.4336283147466521\n",
      "2266\n",
      "2158\n",
      "2110\n",
      "1547\n",
      "1406\n",
      "1400\n",
      "1365\n",
      "0.08278388272323524\n"
     ]
    },
    {
     "name": "stderr",
     "output_type": "stream",
     "text": [
      "C:\\Users\\gagan\\AppData\\Local\\Temp\\ipykernel_6308\\125688054.py:245: DeprecationWarning: The 'text' argument to find()-type methods is deprecated. Use 'string' instead.\n",
      "  texts = soup.findAll(text=True)\n"
     ]
    },
    {
     "name": "stdout",
     "output_type": "stream",
     "text": [
      "2714\n",
      "98\n",
      "27.693877551020407\n",
      "676\n",
      "the_number_of_words:  2714\n",
      "complex_words:  676\n",
      "percentage of complex word:  24.907885040530584\n",
      "Average_Sentence_Length: 27.693877551020407\n",
      "percentage of complex word:  24.907885040530584\n",
      "Fog Index : 21.0407050366204\n",
      "the_number_of_words:  2714\n",
      "sentence_length: 98\n",
      "Average_Number_of_Words_Per_Sentence: 27.693877551020407\n",
      "word count: 1328\n",
      "Count of Personal Pronoun: 1\n",
      "Sum_character: 13024\n",
      "the_number_of_words:  2714\n",
      "average_word_length: 4.798820928518792\n",
      "4281\n",
      "None\n"
     ]
    },
    {
     "name": "stderr",
     "output_type": "stream",
     "text": [
      "C:\\Users\\gagan\\AppData\\Local\\Temp\\ipykernel_6308\\125688054.py:18: DeprecationWarning: The 'text' argument to find()-type methods is deprecated. Use 'string' instead.\n",
      "  texts = soup.findAll(text=True)\n"
     ]
    },
    {
     "name": "stdout",
     "output_type": "stream",
     "text": [
      "91\n",
      "18\n",
      "0.6697247644979379\n",
      "2224\n",
      "2134\n",
      "2091\n",
      "1503\n",
      "1378\n",
      "1371\n",
      "1324\n",
      "0.08232628392573543\n"
     ]
    },
    {
     "name": "stderr",
     "output_type": "stream",
     "text": [
      "C:\\Users\\gagan\\AppData\\Local\\Temp\\ipykernel_6308\\125688054.py:245: DeprecationWarning: The 'text' argument to find()-type methods is deprecated. Use 'string' instead.\n",
      "  texts = soup.findAll(text=True)\n"
     ]
    },
    {
     "name": "stdout",
     "output_type": "stream",
     "text": [
      "2726\n",
      "102\n",
      "26.725490196078432\n",
      "676\n",
      "the_number_of_words:  2726\n",
      "complex_words:  676\n",
      "percentage of complex word:  24.7982391782832\n",
      "Average_Sentence_Length: 26.725490196078432\n",
      "percentage of complex word:  24.7982391782832\n",
      "Fog Index : 20.609491749744656\n",
      "the_number_of_words:  2726\n",
      "sentence_length: 102\n",
      "Average_Number_of_Words_Per_Sentence: 26.725490196078432\n",
      "word count: 1286\n",
      "Count of Personal Pronoun: 1\n",
      "Sum_character: 12818\n",
      "the_number_of_words:  2726\n",
      "average_word_length: 4.702127659574468\n",
      "4253\n",
      "None\n"
     ]
    },
    {
     "name": "stderr",
     "output_type": "stream",
     "text": [
      "C:\\Users\\gagan\\AppData\\Local\\Temp\\ipykernel_6308\\125688054.py:18: DeprecationWarning: The 'text' argument to find()-type methods is deprecated. Use 'string' instead.\n",
      "  texts = soup.findAll(text=True)\n"
     ]
    },
    {
     "name": "stdout",
     "output_type": "stream",
     "text": [
      "76\n",
      "15\n",
      "0.6703296629634103\n",
      "2129\n",
      "2031\n",
      "1989\n",
      "1451\n",
      "1346\n",
      "1335\n",
      "1301\n",
      "0.06994619518067163\n"
     ]
    },
    {
     "name": "stderr",
     "output_type": "stream",
     "text": [
      "C:\\Users\\gagan\\AppData\\Local\\Temp\\ipykernel_6308\\125688054.py:245: DeprecationWarning: The 'text' argument to find()-type methods is deprecated. Use 'string' instead.\n",
      "  texts = soup.findAll(text=True)\n"
     ]
    },
    {
     "name": "stdout",
     "output_type": "stream",
     "text": [
      "2731\n",
      "97\n",
      "28.15463917525773\n",
      "673\n",
      "the_number_of_words:  2731\n",
      "complex_words:  673\n",
      "percentage of complex word:  24.642987916514098\n",
      "Average_Sentence_Length: 28.15463917525773\n",
      "percentage of complex word:  24.642987916514098\n",
      "Fog Index : 21.119050836708734\n",
      "the_number_of_words:  2731\n",
      "sentence_length: 97\n",
      "Average_Number_of_Words_Per_Sentence: 28.15463917525773\n",
      "word count: 1263\n",
      "Count of Personal Pronoun: 1\n",
      "Sum_character: 12453\n",
      "the_number_of_words:  2731\n",
      "average_word_length: 4.5598681801537895\n",
      "4097\n",
      "None\n"
     ]
    },
    {
     "name": "stderr",
     "output_type": "stream",
     "text": [
      "C:\\Users\\gagan\\AppData\\Local\\Temp\\ipykernel_6308\\125688054.py:18: DeprecationWarning: The 'text' argument to find()-type methods is deprecated. Use 'string' instead.\n",
      "  texts = soup.findAll(text=True)\n"
     ]
    },
    {
     "name": "stdout",
     "output_type": "stream",
     "text": [
      "99\n",
      "13\n",
      "0.7678571360012756\n",
      "2789\n",
      "2668\n",
      "2621\n",
      "1798\n",
      "1634\n",
      "1624\n",
      "1579\n",
      "0.07093096892277963\n"
     ]
    },
    {
     "name": "stderr",
     "output_type": "stream",
     "text": [
      "C:\\Users\\gagan\\AppData\\Local\\Temp\\ipykernel_6308\\125688054.py:245: DeprecationWarning: The 'text' argument to find()-type methods is deprecated. Use 'string' instead.\n",
      "  texts = soup.findAll(text=True)\n"
     ]
    },
    {
     "name": "stdout",
     "output_type": "stream",
     "text": [
      "2724\n",
      "95\n",
      "28.673684210526314\n",
      "667\n",
      "the_number_of_words:  2724\n",
      "complex_words:  667\n",
      "percentage of complex word:  24.48604992657856\n",
      "Average_Sentence_Length: 28.673684210526314\n",
      "percentage of complex word:  24.48604992657856\n",
      "Fog Index : 21.26389365484195\n",
      "the_number_of_words:  2724\n",
      "sentence_length: 95\n",
      "Average_Number_of_Words_Per_Sentence: 28.673684210526314\n",
      "word count: 1543\n",
      "Count of Personal Pronoun: 1\n",
      "Sum_character: 15801\n",
      "the_number_of_words:  2724\n",
      "average_word_length: 5.8006607929515415\n",
      "5232\n",
      "None\n"
     ]
    },
    {
     "name": "stderr",
     "output_type": "stream",
     "text": [
      "C:\\Users\\gagan\\AppData\\Local\\Temp\\ipykernel_6308\\125688054.py:18: DeprecationWarning: The 'text' argument to find()-type methods is deprecated. Use 'string' instead.\n",
      "  texts = soup.findAll(text=True)\n"
     ]
    },
    {
     "name": "stdout",
     "output_type": "stream",
     "text": [
      "44\n",
      "8\n",
      "0.6923076789940831\n",
      "1637\n",
      "1551\n",
      "1516\n",
      "1098\n",
      "1010\n",
      "1002\n",
      "976\n",
      "0.05327868847000134\n"
     ]
    },
    {
     "name": "stderr",
     "output_type": "stream",
     "text": [
      "C:\\Users\\gagan\\AppData\\Local\\Temp\\ipykernel_6308\\125688054.py:245: DeprecationWarning: The 'text' argument to find()-type methods is deprecated. Use 'string' instead.\n",
      "  texts = soup.findAll(text=True)\n"
     ]
    },
    {
     "name": "stdout",
     "output_type": "stream",
     "text": [
      "2727\n",
      "101\n",
      "27.0\n",
      "674\n",
      "the_number_of_words:  2727\n",
      "complex_words:  674\n",
      "percentage of complex word:  24.715804913824716\n",
      "Average_Sentence_Length: 27.0\n",
      "percentage of complex word:  24.715804913824716\n",
      "Fog Index : 20.686321965529885\n",
      "the_number_of_words:  2727\n",
      "sentence_length: 101\n",
      "Average_Number_of_Words_Per_Sentence: 27.0\n",
      "word count: 939\n",
      "Count of Personal Pronoun: 1\n",
      "Sum_character: 9356\n",
      "the_number_of_words:  2727\n",
      "average_word_length: 3.430876420975431\n",
      "3018\n",
      "None\n"
     ]
    },
    {
     "name": "stderr",
     "output_type": "stream",
     "text": [
      "C:\\Users\\gagan\\AppData\\Local\\Temp\\ipykernel_6308\\125688054.py:18: DeprecationWarning: The 'text' argument to find()-type methods is deprecated. Use 'string' instead.\n",
      "  texts = soup.findAll(text=True)\n"
     ]
    },
    {
     "name": "stdout",
     "output_type": "stream",
     "text": [
      "65\n",
      "46\n",
      "0.17117116962908857\n",
      "2070\n",
      "1969\n",
      "1929\n",
      "1411\n",
      "1302\n",
      "1292\n",
      "1258\n",
      "0.08823529404750771\n"
     ]
    },
    {
     "name": "stderr",
     "output_type": "stream",
     "text": [
      "C:\\Users\\gagan\\AppData\\Local\\Temp\\ipykernel_6308\\125688054.py:245: DeprecationWarning: The 'text' argument to find()-type methods is deprecated. Use 'string' instead.\n",
      "  texts = soup.findAll(text=True)\n"
     ]
    },
    {
     "name": "stdout",
     "output_type": "stream",
     "text": [
      "2721\n",
      "92\n",
      "29.57608695652174\n",
      "676\n",
      "the_number_of_words:  2721\n",
      "complex_words:  676\n",
      "percentage of complex word:  24.84380742374127\n",
      "Average_Sentence_Length: 29.57608695652174\n",
      "percentage of complex word:  24.84380742374127\n",
      "Fog Index : 21.767957752105204\n",
      "the_number_of_words:  2721\n",
      "sentence_length: 92\n",
      "Average_Number_of_Words_Per_Sentence: 29.57608695652174\n",
      "word count: 1220\n",
      "Count of Personal Pronoun: 1\n",
      "Sum_character: 12149\n",
      "the_number_of_words:  2721\n",
      "average_word_length: 4.464902609334803\n",
      "4036\n",
      "None\n"
     ]
    },
    {
     "name": "stderr",
     "output_type": "stream",
     "text": [
      "C:\\Users\\gagan\\AppData\\Local\\Temp\\ipykernel_6308\\125688054.py:18: DeprecationWarning: The 'text' argument to find()-type methods is deprecated. Use 'string' instead.\n",
      "  texts = soup.findAll(text=True)\n"
     ]
    },
    {
     "name": "stdout",
     "output_type": "stream",
     "text": [
      "51\n",
      "18\n",
      "0.47826086263390055\n",
      "1476\n",
      "1406\n",
      "1370\n",
      "1015\n",
      "944\n",
      "934\n",
      "909\n",
      "0.07590759067556921\n"
     ]
    },
    {
     "name": "stderr",
     "output_type": "stream",
     "text": [
      "C:\\Users\\gagan\\AppData\\Local\\Temp\\ipykernel_6308\\125688054.py:245: DeprecationWarning: The 'text' argument to find()-type methods is deprecated. Use 'string' instead.\n",
      "  texts = soup.findAll(text=True)\n"
     ]
    },
    {
     "name": "stdout",
     "output_type": "stream",
     "text": [
      "2737\n",
      "99\n",
      "27.646464646464647\n",
      "683\n",
      "the_number_of_words:  2737\n",
      "complex_words:  683\n",
      "percentage of complex word:  24.95432955791012\n",
      "Average_Sentence_Length: 27.646464646464647\n",
      "percentage of complex word:  24.95432955791012\n",
      "Fog Index : 21.040317681749908\n",
      "the_number_of_words:  2737\n",
      "sentence_length: 99\n",
      "Average_Number_of_Words_Per_Sentence: 27.646464646464647\n",
      "word count: 872\n",
      "Count of Personal Pronoun: 1\n",
      "Sum_character: 8443\n",
      "the_number_of_words:  2737\n",
      "average_word_length: 3.084764340518816\n",
      "2782\n",
      "None\n"
     ]
    },
    {
     "name": "stderr",
     "output_type": "stream",
     "text": [
      "C:\\Users\\gagan\\AppData\\Local\\Temp\\ipykernel_6308\\125688054.py:18: DeprecationWarning: The 'text' argument to find()-type methods is deprecated. Use 'string' instead.\n",
      "  texts = soup.findAll(text=True)\n"
     ]
    },
    {
     "name": "stdout",
     "output_type": "stream",
     "text": [
      "82\n",
      "22\n",
      "0.5769230713757397\n",
      "2436\n",
      "2324\n",
      "2282\n",
      "1572\n",
      "1413\n",
      "1369\n",
      "1316\n",
      "0.07902735556304911\n"
     ]
    },
    {
     "name": "stderr",
     "output_type": "stream",
     "text": [
      "C:\\Users\\gagan\\AppData\\Local\\Temp\\ipykernel_6308\\125688054.py:245: DeprecationWarning: The 'text' argument to find()-type methods is deprecated. Use 'string' instead.\n",
      "  texts = soup.findAll(text=True)\n"
     ]
    },
    {
     "name": "stdout",
     "output_type": "stream",
     "text": [
      "2715\n",
      "92\n",
      "29.51086956521739\n",
      "665\n",
      "the_number_of_words:  2715\n",
      "complex_words:  665\n",
      "percentage of complex word:  24.49355432780847\n",
      "Average_Sentence_Length: 29.51086956521739\n",
      "percentage of complex word:  24.49355432780847\n",
      "Fog Index : 21.601769557210346\n",
      "the_number_of_words:  2715\n",
      "sentence_length: 92\n",
      "Average_Number_of_Words_Per_Sentence: 29.51086956521739\n",
      "word count: 1273\n",
      "Count of Personal Pronoun: 2\n",
      "Sum_character: 13255\n",
      "the_number_of_words:  2715\n",
      "average_word_length: 4.8821362799263355\n",
      "4389\n",
      "None\n"
     ]
    },
    {
     "name": "stderr",
     "output_type": "stream",
     "text": [
      "C:\\Users\\gagan\\AppData\\Local\\Temp\\ipykernel_6308\\125688054.py:18: DeprecationWarning: The 'text' argument to find()-type methods is deprecated. Use 'string' instead.\n",
      "  texts = soup.findAll(text=True)\n"
     ]
    },
    {
     "name": "stdout",
     "output_type": "stream",
     "text": [
      "62\n",
      "9\n",
      "0.7464788627256499\n",
      "1624\n",
      "1553\n",
      "1513\n",
      "1136\n",
      "1062\n",
      "1053\n",
      "1012\n",
      "0.07015810269747223\n"
     ]
    },
    {
     "name": "stderr",
     "output_type": "stream",
     "text": [
      "C:\\Users\\gagan\\AppData\\Local\\Temp\\ipykernel_6308\\125688054.py:245: DeprecationWarning: The 'text' argument to find()-type methods is deprecated. Use 'string' instead.\n",
      "  texts = soup.findAll(text=True)\n"
     ]
    },
    {
     "name": "stdout",
     "output_type": "stream",
     "text": [
      "2736\n",
      "92\n",
      "29.73913043478261\n",
      "679\n",
      "the_number_of_words:  2736\n",
      "complex_words:  679\n",
      "percentage of complex word:  24.817251461988306\n",
      "Average_Sentence_Length: 29.73913043478261\n",
      "percentage of complex word:  24.817251461988306\n",
      "Fog Index : 21.82255275870837\n",
      "the_number_of_words:  2736\n",
      "sentence_length: 92\n",
      "Average_Number_of_Words_Per_Sentence: 29.73913043478261\n",
      "word count: 974\n",
      "Count of Personal Pronoun: 1\n",
      "Sum_character: 9259\n",
      "the_number_of_words:  2736\n",
      "average_word_length: 3.3841374269005846\n",
      "3022\n",
      "None\n"
     ]
    },
    {
     "name": "stderr",
     "output_type": "stream",
     "text": [
      "C:\\Users\\gagan\\AppData\\Local\\Temp\\ipykernel_6308\\125688054.py:18: DeprecationWarning: The 'text' argument to find()-type methods is deprecated. Use 'string' instead.\n",
      "  texts = soup.findAll(text=True)\n"
     ]
    },
    {
     "name": "stdout",
     "output_type": "stream",
     "text": [
      "60\n",
      "20\n",
      "0.4999999937500001\n",
      "2151\n",
      "2045\n",
      "2006\n",
      "1437\n",
      "1307\n",
      "1292\n",
      "1241\n",
      "0.06446414176916668\n"
     ]
    },
    {
     "name": "stderr",
     "output_type": "stream",
     "text": [
      "C:\\Users\\gagan\\AppData\\Local\\Temp\\ipykernel_6308\\125688054.py:245: DeprecationWarning: The 'text' argument to find()-type methods is deprecated. Use 'string' instead.\n",
      "  texts = soup.findAll(text=True)\n"
     ]
    },
    {
     "name": "stdout",
     "output_type": "stream",
     "text": [
      "2715\n",
      "92\n",
      "29.51086956521739\n",
      "674\n",
      "the_number_of_words:  2715\n",
      "complex_words:  674\n",
      "percentage of complex word:  24.82504604051565\n",
      "Average_Sentence_Length: 29.51086956521739\n",
      "percentage of complex word:  24.82504604051565\n",
      "Fog Index : 21.73436624229322\n",
      "the_number_of_words:  2715\n",
      "sentence_length: 92\n",
      "Average_Number_of_Words_Per_Sentence: 29.51086956521739\n",
      "word count: 1201\n",
      "Count of Personal Pronoun: 2\n",
      "Sum_character: 11447\n",
      "the_number_of_words:  2715\n",
      "average_word_length: 4.216206261510129\n",
      "3746\n",
      "None\n"
     ]
    },
    {
     "name": "stderr",
     "output_type": "stream",
     "text": [
      "C:\\Users\\gagan\\AppData\\Local\\Temp\\ipykernel_6308\\125688054.py:18: DeprecationWarning: The 'text' argument to find()-type methods is deprecated. Use 'string' instead.\n",
      "  texts = soup.findAll(text=True)\n"
     ]
    },
    {
     "name": "stdout",
     "output_type": "stream",
     "text": [
      "65\n",
      "20\n",
      "0.5294117584775088\n",
      "1968\n",
      "1887\n",
      "1844\n",
      "1344\n",
      "1248\n",
      "1235\n",
      "1198\n",
      "0.07095158591740268\n"
     ]
    },
    {
     "name": "stderr",
     "output_type": "stream",
     "text": [
      "C:\\Users\\gagan\\AppData\\Local\\Temp\\ipykernel_6308\\125688054.py:245: DeprecationWarning: The 'text' argument to find()-type methods is deprecated. Use 'string' instead.\n",
      "  texts = soup.findAll(text=True)\n"
     ]
    },
    {
     "name": "stdout",
     "output_type": "stream",
     "text": [
      "2723\n",
      "98\n",
      "27.785714285714285\n",
      "672\n",
      "the_number_of_words:  2723\n",
      "complex_words:  672\n",
      "percentage of complex word:  24.67866323907455\n",
      "Average_Sentence_Length: 27.785714285714285\n",
      "percentage of complex word:  24.67866323907455\n",
      "Fog Index : 20.985751009915532\n",
      "the_number_of_words:  2723\n",
      "sentence_length: 98\n",
      "Average_Number_of_Words_Per_Sentence: 27.785714285714285\n",
      "word count: 1158\n",
      "Count of Personal Pronoun: 1\n",
      "Sum_character: 11109\n",
      "the_number_of_words:  2723\n",
      "average_word_length: 4.079691516709511\n",
      "3643\n",
      "None\n"
     ]
    },
    {
     "name": "stderr",
     "output_type": "stream",
     "text": [
      "C:\\Users\\gagan\\AppData\\Local\\Temp\\ipykernel_6308\\125688054.py:18: DeprecationWarning: The 'text' argument to find()-type methods is deprecated. Use 'string' instead.\n",
      "  texts = soup.findAll(text=True)\n"
     ]
    },
    {
     "name": "stdout",
     "output_type": "stream",
     "text": [
      "72\n",
      "30\n",
      "0.4117647018454441\n",
      "2417\n",
      "2302\n",
      "2256\n",
      "1551\n",
      "1355\n",
      "1338\n",
      "1294\n",
      "0.07882534769797113\n"
     ]
    },
    {
     "name": "stderr",
     "output_type": "stream",
     "text": [
      "C:\\Users\\gagan\\AppData\\Local\\Temp\\ipykernel_6308\\125688054.py:245: DeprecationWarning: The 'text' argument to find()-type methods is deprecated. Use 'string' instead.\n",
      "  texts = soup.findAll(text=True)\n"
     ]
    },
    {
     "name": "stdout",
     "output_type": "stream",
     "text": [
      "2728\n",
      "101\n",
      "27.00990099009901\n",
      "675\n",
      "the_number_of_words:  2728\n",
      "complex_words:  675\n",
      "percentage of complex word:  24.74340175953079\n",
      "Average_Sentence_Length: 27.00990099009901\n",
      "percentage of complex word:  24.74340175953079\n",
      "Fog Index : 20.70132109985192\n",
      "the_number_of_words:  2728\n",
      "sentence_length: 101\n",
      "Average_Number_of_Words_Per_Sentence: 27.00990099009901\n",
      "word count: 1255\n",
      "Count of Personal Pronoun: 2\n",
      "Sum_character: 12725\n",
      "the_number_of_words:  2728\n",
      "average_word_length: 4.66458944281525\n",
      "4215\n",
      "None\n"
     ]
    },
    {
     "name": "stderr",
     "output_type": "stream",
     "text": [
      "C:\\Users\\gagan\\AppData\\Local\\Temp\\ipykernel_6308\\125688054.py:18: DeprecationWarning: The 'text' argument to find()-type methods is deprecated. Use 'string' instead.\n",
      "  texts = soup.findAll(text=True)\n"
     ]
    },
    {
     "name": "stdout",
     "output_type": "stream",
     "text": [
      "75\n",
      "33\n",
      "0.38888888528806587\n",
      "2183\n",
      "2082\n",
      "2034\n",
      "1458\n",
      "1328\n",
      "1320\n",
      "1281\n",
      "0.08430913342364627\n"
     ]
    },
    {
     "name": "stderr",
     "output_type": "stream",
     "text": [
      "C:\\Users\\gagan\\AppData\\Local\\Temp\\ipykernel_6308\\125688054.py:245: DeprecationWarning: The 'text' argument to find()-type methods is deprecated. Use 'string' instead.\n",
      "  texts = soup.findAll(text=True)\n"
     ]
    },
    {
     "name": "stdout",
     "output_type": "stream",
     "text": [
      "2728\n",
      "104\n",
      "26.23076923076923\n",
      "676\n",
      "the_number_of_words:  2728\n",
      "complex_words:  676\n",
      "percentage of complex word:  24.780058651026394\n",
      "Average_Sentence_Length: 26.23076923076923\n",
      "percentage of complex word:  24.780058651026394\n",
      "Fog Index : 20.40433115271825\n",
      "the_number_of_words:  2728\n",
      "sentence_length: 104\n",
      "Average_Number_of_Words_Per_Sentence: 26.23076923076923\n",
      "word count: 1242\n",
      "Count of Personal Pronoun: 2\n",
      "Sum_character: 12370\n",
      "the_number_of_words:  2728\n",
      "average_word_length: 4.534457478005865\n",
      "3999\n",
      "None\n"
     ]
    },
    {
     "name": "stderr",
     "output_type": "stream",
     "text": [
      "C:\\Users\\gagan\\AppData\\Local\\Temp\\ipykernel_6308\\125688054.py:18: DeprecationWarning: The 'text' argument to find()-type methods is deprecated. Use 'string' instead.\n",
      "  texts = soup.findAll(text=True)\n"
     ]
    },
    {
     "name": "stdout",
     "output_type": "stream",
     "text": [
      "113\n",
      "34\n",
      "0.5374149623305104\n",
      "2905\n",
      "2772\n",
      "2730\n",
      "1997\n",
      "1833\n",
      "1822\n",
      "1752\n",
      "0.08390410954115061\n"
     ]
    },
    {
     "name": "stderr",
     "output_type": "stream",
     "text": [
      "C:\\Users\\gagan\\AppData\\Local\\Temp\\ipykernel_6308\\125688054.py:245: DeprecationWarning: The 'text' argument to find()-type methods is deprecated. Use 'string' instead.\n",
      "  texts = soup.findAll(text=True)\n"
     ]
    },
    {
     "name": "stdout",
     "output_type": "stream",
     "text": [
      "2737\n",
      "98\n",
      "27.928571428571427\n",
      "679\n",
      "the_number_of_words:  2737\n",
      "complex_words:  679\n",
      "percentage of complex word:  24.808184143222505\n",
      "Average_Sentence_Length: 27.928571428571427\n",
      "percentage of complex word:  24.808184143222505\n",
      "Fog Index : 21.094702228717576\n",
      "the_number_of_words:  2737\n",
      "sentence_length: 98\n",
      "Average_Number_of_Words_Per_Sentence: 27.928571428571427\n",
      "word count: 1715\n",
      "Count of Personal Pronoun: 2\n",
      "Sum_character: 16989\n",
      "the_number_of_words:  2737\n",
      "average_word_length: 6.207161125319693\n",
      "5625\n",
      "None\n"
     ]
    },
    {
     "name": "stderr",
     "output_type": "stream",
     "text": [
      "C:\\Users\\gagan\\AppData\\Local\\Temp\\ipykernel_6308\\125688054.py:18: DeprecationWarning: The 'text' argument to find()-type methods is deprecated. Use 'string' instead.\n",
      "  texts = soup.findAll(text=True)\n"
     ]
    },
    {
     "name": "stdout",
     "output_type": "stream",
     "text": [
      "98\n",
      "37\n",
      "0.45185184850480115\n",
      "2476\n",
      "2357\n",
      "2316\n",
      "1603\n",
      "1411\n",
      "1402\n",
      "1338\n",
      "0.10089686091113836\n"
     ]
    },
    {
     "name": "stderr",
     "output_type": "stream",
     "text": [
      "C:\\Users\\gagan\\AppData\\Local\\Temp\\ipykernel_6308\\125688054.py:245: DeprecationWarning: The 'text' argument to find()-type methods is deprecated. Use 'string' instead.\n",
      "  texts = soup.findAll(text=True)\n"
     ]
    },
    {
     "name": "stdout",
     "output_type": "stream",
     "text": [
      "2732\n",
      "104\n",
      "26.26923076923077\n",
      "675\n",
      "the_number_of_words:  2732\n",
      "complex_words:  675\n",
      "percentage of complex word:  24.707174231332356\n",
      "Average_Sentence_Length: 26.26923076923077\n",
      "percentage of complex word:  24.707174231332356\n",
      "Fog Index : 20.390562000225252\n",
      "the_number_of_words:  2732\n",
      "sentence_length: 104\n",
      "Average_Number_of_Words_Per_Sentence: 26.26923076923077\n",
      "word count: 1300\n",
      "Count of Personal Pronoun: 1\n",
      "Sum_character: 13334\n",
      "the_number_of_words:  2732\n",
      "average_word_length: 4.880673499267935\n",
      "4407\n",
      "None\n"
     ]
    },
    {
     "name": "stderr",
     "output_type": "stream",
     "text": [
      "C:\\Users\\gagan\\AppData\\Local\\Temp\\ipykernel_6308\\125688054.py:18: DeprecationWarning: The 'text' argument to find()-type methods is deprecated. Use 'string' instead.\n",
      "  texts = soup.findAll(text=True)\n"
     ]
    },
    {
     "name": "stdout",
     "output_type": "stream",
     "text": [
      "107\n",
      "40\n",
      "0.45578230982461015\n",
      "2779\n",
      "2660\n",
      "2611\n",
      "1823\n",
      "1647\n",
      "1637\n",
      "1576\n",
      "0.09327411161594282\n"
     ]
    },
    {
     "name": "stderr",
     "output_type": "stream",
     "text": [
      "C:\\Users\\gagan\\AppData\\Local\\Temp\\ipykernel_6308\\125688054.py:245: DeprecationWarning: The 'text' argument to find()-type methods is deprecated. Use 'string' instead.\n",
      "  texts = soup.findAll(text=True)\n"
     ]
    },
    {
     "name": "stdout",
     "output_type": "stream",
     "text": [
      "2731\n",
      "99\n",
      "27.585858585858585\n",
      "677\n",
      "the_number_of_words:  2731\n",
      "complex_words:  677\n",
      "percentage of complex word:  24.789454412303186\n",
      "Average_Sentence_Length: 27.585858585858585\n",
      "percentage of complex word:  24.789454412303186\n",
      "Fog Index : 20.95012519926471\n",
      "the_number_of_words:  2731\n",
      "sentence_length: 99\n",
      "Average_Number_of_Words_Per_Sentence: 27.585858585858585\n",
      "word count: 1539\n",
      "Count of Personal Pronoun: 1\n",
      "Sum_character: 15757\n",
      "the_number_of_words:  2731\n",
      "average_word_length: 5.769681435371659\n",
      "5302\n",
      "None\n"
     ]
    },
    {
     "name": "stderr",
     "output_type": "stream",
     "text": [
      "C:\\Users\\gagan\\AppData\\Local\\Temp\\ipykernel_6308\\125688054.py:18: DeprecationWarning: The 'text' argument to find()-type methods is deprecated. Use 'string' instead.\n",
      "  texts = soup.findAll(text=True)\n"
     ]
    },
    {
     "name": "stdout",
     "output_type": "stream",
     "text": [
      "103\n",
      "25\n",
      "0.6093749952392579\n",
      "2721\n",
      "2628\n",
      "2574\n",
      "1760\n",
      "1515\n",
      "1506\n",
      "1419\n",
      "0.09020436921056774\n"
     ]
    },
    {
     "name": "stderr",
     "output_type": "stream",
     "text": [
      "C:\\Users\\gagan\\AppData\\Local\\Temp\\ipykernel_6308\\125688054.py:245: DeprecationWarning: The 'text' argument to find()-type methods is deprecated. Use 'string' instead.\n",
      "  texts = soup.findAll(text=True)\n"
     ]
    },
    {
     "name": "stdout",
     "output_type": "stream",
     "text": [
      "2719\n",
      "92\n",
      "29.554347826086957\n",
      "671\n",
      "the_number_of_words:  2719\n",
      "complex_words:  671\n",
      "percentage of complex word:  24.67819051121736\n",
      "Average_Sentence_Length: 29.554347826086957\n",
      "percentage of complex word:  24.67819051121736\n",
      "Fog Index : 21.69301533492173\n",
      "the_number_of_words:  2719\n",
      "sentence_length: 92\n",
      "Average_Number_of_Words_Per_Sentence: 29.554347826086957\n",
      "word count: 1382\n",
      "Count of Personal Pronoun: 2\n",
      "Sum_character: 14428\n",
      "the_number_of_words:  2719\n",
      "average_word_length: 5.306362633321074\n",
      "4864\n",
      "None\n"
     ]
    },
    {
     "name": "stderr",
     "output_type": "stream",
     "text": [
      "C:\\Users\\gagan\\AppData\\Local\\Temp\\ipykernel_6308\\125688054.py:18: DeprecationWarning: The 'text' argument to find()-type methods is deprecated. Use 'string' instead.\n",
      "  texts = soup.findAll(text=True)\n"
     ]
    },
    {
     "name": "stdout",
     "output_type": "stream",
     "text": [
      "101\n",
      "30\n",
      "0.5419847286871395\n",
      "2798\n",
      "2676\n",
      "2625\n",
      "1842\n",
      "1617\n",
      "1603\n",
      "1553\n",
      "0.08435286536744825\n"
     ]
    },
    {
     "name": "stderr",
     "output_type": "stream",
     "text": [
      "C:\\Users\\gagan\\AppData\\Local\\Temp\\ipykernel_6308\\125688054.py:245: DeprecationWarning: The 'text' argument to find()-type methods is deprecated. Use 'string' instead.\n",
      "  texts = soup.findAll(text=True)\n"
     ]
    },
    {
     "name": "stdout",
     "output_type": "stream",
     "text": [
      "2721\n",
      "95\n",
      "28.642105263157895\n",
      "670\n",
      "the_number_of_words:  2721\n",
      "complex_words:  670\n",
      "percentage of complex word:  24.62330025725836\n",
      "Average_Sentence_Length: 28.642105263157895\n",
      "percentage of complex word:  24.62330025725836\n",
      "Fog Index : 21.3061622081665\n",
      "the_number_of_words:  2721\n",
      "sentence_length: 95\n",
      "Average_Number_of_Words_Per_Sentence: 28.642105263157895\n",
      "word count: 1517\n",
      "Count of Personal Pronoun: 4\n",
      "Sum_character: 15320\n",
      "the_number_of_words:  2721\n",
      "average_word_length: 5.630282984196986\n",
      "5069\n",
      "None\n"
     ]
    },
    {
     "name": "stderr",
     "output_type": "stream",
     "text": [
      "C:\\Users\\gagan\\AppData\\Local\\Temp\\ipykernel_6308\\125688054.py:18: DeprecationWarning: The 'text' argument to find()-type methods is deprecated. Use 'string' instead.\n",
      "  texts = soup.findAll(text=True)\n"
     ]
    },
    {
     "name": "stdout",
     "output_type": "stream",
     "text": [
      "84\n",
      "24\n",
      "0.5555555504115227\n",
      "2359\n",
      "2267\n",
      "2222\n",
      "1548\n",
      "1388\n",
      "1380\n",
      "1334\n",
      "0.08095952017919075\n"
     ]
    },
    {
     "name": "stderr",
     "output_type": "stream",
     "text": [
      "C:\\Users\\gagan\\AppData\\Local\\Temp\\ipykernel_6308\\125688054.py:245: DeprecationWarning: The 'text' argument to find()-type methods is deprecated. Use 'string' instead.\n",
      "  texts = soup.findAll(text=True)\n"
     ]
    },
    {
     "name": "stdout",
     "output_type": "stream",
     "text": [
      "2733\n",
      "95\n",
      "28.768421052631577\n",
      "675\n",
      "the_number_of_words:  2733\n",
      "complex_words:  675\n",
      "percentage of complex word:  24.69813391877058\n",
      "Average_Sentence_Length: 28.768421052631577\n",
      "percentage of complex word:  24.69813391877058\n",
      "Fog Index : 21.386621988560865\n",
      "the_number_of_words:  2733\n",
      "sentence_length: 95\n",
      "Average_Number_of_Words_Per_Sentence: 28.768421052631577\n",
      "word count: 1294\n",
      "Count of Personal Pronoun: 4\n",
      "Sum_character: 12920\n",
      "the_number_of_words:  2733\n",
      "average_word_length: 4.727405781192829\n",
      "4257\n",
      "None\n"
     ]
    },
    {
     "name": "stderr",
     "output_type": "stream",
     "text": [
      "C:\\Users\\gagan\\AppData\\Local\\Temp\\ipykernel_6308\\125688054.py:18: DeprecationWarning: The 'text' argument to find()-type methods is deprecated. Use 'string' instead.\n",
      "  texts = soup.findAll(text=True)\n"
     ]
    },
    {
     "name": "stdout",
     "output_type": "stream",
     "text": [
      "65\n",
      "16\n",
      "0.6049382641365647\n",
      "1797\n",
      "1712\n",
      "1679\n",
      "1248\n",
      "1131\n",
      "1121\n",
      "1083\n",
      "0.07479224369825277\n"
     ]
    },
    {
     "name": "stderr",
     "output_type": "stream",
     "text": [
      "C:\\Users\\gagan\\AppData\\Local\\Temp\\ipykernel_6308\\125688054.py:245: DeprecationWarning: The 'text' argument to find()-type methods is deprecated. Use 'string' instead.\n",
      "  texts = soup.findAll(text=True)\n"
     ]
    },
    {
     "name": "stdout",
     "output_type": "stream",
     "text": [
      "2732\n",
      "99\n",
      "27.595959595959595\n",
      "680\n",
      "the_number_of_words:  2732\n",
      "complex_words:  680\n",
      "percentage of complex word:  24.890190336749633\n",
      "Average_Sentence_Length: 27.595959595959595\n",
      "percentage of complex word:  24.890190336749633\n",
      "Fog Index : 20.994459973083693\n",
      "the_number_of_words:  2732\n",
      "sentence_length: 99\n",
      "Average_Number_of_Words_Per_Sentence: 27.595959595959595\n",
      "word count: 1045\n",
      "Count of Personal Pronoun: 1\n",
      "Sum_character: 10101\n",
      "the_number_of_words:  2732\n",
      "average_word_length: 3.697291361639824\n",
      "3329\n",
      "None\n"
     ]
    },
    {
     "name": "stderr",
     "output_type": "stream",
     "text": [
      "C:\\Users\\gagan\\AppData\\Local\\Temp\\ipykernel_6308\\125688054.py:18: DeprecationWarning: The 'text' argument to find()-type methods is deprecated. Use 'string' instead.\n",
      "  texts = soup.findAll(text=True)\n"
     ]
    },
    {
     "name": "stdout",
     "output_type": "stream",
     "text": [
      "41\n",
      "9\n",
      "0.6399999872000003\n",
      "1025\n",
      "974\n",
      "944\n",
      "773\n",
      "741\n",
      "737\n",
      "718\n",
      "0.06963788291136785\n"
     ]
    },
    {
     "name": "stderr",
     "output_type": "stream",
     "text": [
      "C:\\Users\\gagan\\AppData\\Local\\Temp\\ipykernel_6308\\125688054.py:245: DeprecationWarning: The 'text' argument to find()-type methods is deprecated. Use 'string' instead.\n",
      "  texts = soup.findAll(text=True)\n"
     ]
    },
    {
     "name": "stdout",
     "output_type": "stream",
     "text": [
      "2719\n",
      "96\n",
      "28.322916666666668\n",
      "684\n",
      "the_number_of_words:  2719\n",
      "complex_words:  684\n",
      "percentage of complex word:  25.156307465980138\n",
      "Average_Sentence_Length: 28.322916666666668\n",
      "percentage of complex word:  25.156307465980138\n",
      "Fog Index : 21.391689653058723\n",
      "the_number_of_words:  2719\n",
      "sentence_length: 96\n",
      "Average_Number_of_Words_Per_Sentence: 28.322916666666668\n",
      "word count: 677\n",
      "Count of Personal Pronoun: 1\n",
      "Sum_character: 6040\n",
      "the_number_of_words:  2719\n",
      "average_word_length: 2.221404928282457\n",
      "1946\n",
      "None\n"
     ]
    },
    {
     "name": "stderr",
     "output_type": "stream",
     "text": [
      "C:\\Users\\gagan\\AppData\\Local\\Temp\\ipykernel_6308\\125688054.py:18: DeprecationWarning: The 'text' argument to find()-type methods is deprecated. Use 'string' instead.\n",
      "  texts = soup.findAll(text=True)\n"
     ]
    },
    {
     "name": "stdout",
     "output_type": "stream",
     "text": [
      "73\n",
      "16\n",
      "0.6404494310061862\n",
      "1783\n",
      "1709\n",
      "1672\n",
      "1226\n",
      "1122\n",
      "1114\n",
      "1075\n",
      "0.082790697597404\n"
     ]
    },
    {
     "name": "stderr",
     "output_type": "stream",
     "text": [
      "C:\\Users\\gagan\\AppData\\Local\\Temp\\ipykernel_6308\\125688054.py:245: DeprecationWarning: The 'text' argument to find()-type methods is deprecated. Use 'string' instead.\n",
      "  texts = soup.findAll(text=True)\n"
     ]
    },
    {
     "name": "stdout",
     "output_type": "stream",
     "text": [
      "2737\n",
      "103\n",
      "26.57281553398058\n",
      "679\n",
      "the_number_of_words:  2737\n",
      "complex_words:  679\n",
      "percentage of complex word:  24.808184143222505\n",
      "Average_Sentence_Length: 26.57281553398058\n",
      "percentage of complex word:  24.808184143222505\n",
      "Fog Index : 20.552399870881235\n",
      "the_number_of_words:  2737\n",
      "sentence_length: 103\n",
      "Average_Number_of_Words_Per_Sentence: 26.57281553398058\n",
      "word count: 1035\n",
      "Count of Personal Pronoun: 1\n",
      "Sum_character: 9895\n",
      "the_number_of_words:  2737\n",
      "average_word_length: 3.6152721958348555\n",
      "3237\n",
      "None\n"
     ]
    },
    {
     "name": "stderr",
     "output_type": "stream",
     "text": [
      "C:\\Users\\gagan\\AppData\\Local\\Temp\\ipykernel_6308\\125688054.py:18: DeprecationWarning: The 'text' argument to find()-type methods is deprecated. Use 'string' instead.\n",
      "  texts = soup.findAll(text=True)\n"
     ]
    },
    {
     "name": "stdout",
     "output_type": "stream",
     "text": [
      "108\n",
      "39\n",
      "0.46938775190892684\n",
      "3213\n",
      "3097\n",
      "3046\n",
      "2046\n",
      "1789\n",
      "1781\n",
      "1682\n",
      "0.08739595714185733\n"
     ]
    },
    {
     "name": "stderr",
     "output_type": "stream",
     "text": [
      "C:\\Users\\gagan\\AppData\\Local\\Temp\\ipykernel_6308\\125688054.py:245: DeprecationWarning: The 'text' argument to find()-type methods is deprecated. Use 'string' instead.\n",
      "  texts = soup.findAll(text=True)\n"
     ]
    },
    {
     "name": "stdout",
     "output_type": "stream",
     "text": [
      "2723\n",
      "95\n",
      "28.66315789473684\n",
      "676\n",
      "the_number_of_words:  2723\n",
      "complex_words:  676\n",
      "percentage of complex word:  24.825560044069043\n",
      "Average_Sentence_Length: 28.66315789473684\n",
      "percentage of complex word:  24.825560044069043\n",
      "Fog Index : 21.395487175522355\n",
      "the_number_of_words:  2723\n",
      "sentence_length: 95\n",
      "Average_Number_of_Words_Per_Sentence: 28.66315789473684\n",
      "word count: 1644\n",
      "Count of Personal Pronoun: 2\n",
      "Sum_character: 17162\n",
      "the_number_of_words:  2723\n",
      "average_word_length: 6.302607418288652\n",
      "5808\n",
      "None\n"
     ]
    },
    {
     "name": "stderr",
     "output_type": "stream",
     "text": [
      "C:\\Users\\gagan\\AppData\\Local\\Temp\\ipykernel_6308\\125688054.py:18: DeprecationWarning: The 'text' argument to find()-type methods is deprecated. Use 'string' instead.\n",
      "  texts = soup.findAll(text=True)\n"
     ]
    },
    {
     "name": "stdout",
     "output_type": "stream",
     "text": [
      "95\n",
      "56\n",
      "0.25827814398491294\n",
      "3020\n",
      "2925\n",
      "2891\n",
      "2042\n",
      "1819\n",
      "1806\n",
      "1745\n",
      "0.0865329512398092\n"
     ]
    },
    {
     "name": "stderr",
     "output_type": "stream",
     "text": [
      "C:\\Users\\gagan\\AppData\\Local\\Temp\\ipykernel_6308\\125688054.py:245: DeprecationWarning: The 'text' argument to find()-type methods is deprecated. Use 'string' instead.\n",
      "  texts = soup.findAll(text=True)\n"
     ]
    },
    {
     "name": "stdout",
     "output_type": "stream",
     "text": [
      "2736\n",
      "102\n",
      "26.823529411764707\n",
      "678\n",
      "the_number_of_words:  2736\n",
      "complex_words:  678\n",
      "percentage of complex word:  24.780701754385966\n",
      "Average_Sentence_Length: 26.823529411764707\n",
      "percentage of complex word:  24.780701754385966\n",
      "Fog Index : 20.64169246646027\n",
      "the_number_of_words:  2736\n",
      "sentence_length: 102\n",
      "Average_Number_of_Words_Per_Sentence: 26.823529411764707\n",
      "word count: 1708\n",
      "Count of Personal Pronoun: 2\n",
      "Sum_character: 16767\n",
      "the_number_of_words:  2736\n",
      "average_word_length: 6.128289473684211\n",
      "5554\n",
      "None\n"
     ]
    },
    {
     "name": "stderr",
     "output_type": "stream",
     "text": [
      "C:\\Users\\gagan\\AppData\\Local\\Temp\\ipykernel_6308\\125688054.py:18: DeprecationWarning: The 'text' argument to find()-type methods is deprecated. Use 'string' instead.\n",
      "  texts = soup.findAll(text=True)\n"
     ]
    },
    {
     "name": "stdout",
     "output_type": "stream",
     "text": [
      "82\n",
      "27\n",
      "0.5045871513340628\n",
      "2269\n",
      "2169\n",
      "2129\n",
      "1520\n",
      "1393\n",
      "1385\n",
      "1342\n",
      "0.08122205657136955\n"
     ]
    },
    {
     "name": "stderr",
     "output_type": "stream",
     "text": [
      "C:\\Users\\gagan\\AppData\\Local\\Temp\\ipykernel_6308\\125688054.py:245: DeprecationWarning: The 'text' argument to find()-type methods is deprecated. Use 'string' instead.\n",
      "  texts = soup.findAll(text=True)\n"
     ]
    },
    {
     "name": "stdout",
     "output_type": "stream",
     "text": [
      "2727\n",
      "101\n",
      "27.0\n",
      "669\n",
      "the_number_of_words:  2727\n",
      "complex_words:  669\n",
      "percentage of complex word:  24.532453245324533\n",
      "Average_Sentence_Length: 27.0\n",
      "percentage of complex word:  24.532453245324533\n",
      "Fog Index : 20.612981298129814\n",
      "the_number_of_words:  2727\n",
      "sentence_length: 101\n",
      "Average_Number_of_Words_Per_Sentence: 27.0\n",
      "word count: 1305\n",
      "Count of Personal Pronoun: 2\n",
      "Sum_character: 12963\n",
      "the_number_of_words:  2727\n",
      "average_word_length: 4.7535753575357536\n",
      "4333\n",
      "None\n"
     ]
    },
    {
     "name": "stderr",
     "output_type": "stream",
     "text": [
      "C:\\Users\\gagan\\AppData\\Local\\Temp\\ipykernel_6308\\125688054.py:18: DeprecationWarning: The 'text' argument to find()-type methods is deprecated. Use 'string' instead.\n",
      "  texts = soup.findAll(text=True)\n"
     ]
    },
    {
     "name": "stdout",
     "output_type": "stream",
     "text": [
      "73\n",
      "32\n",
      "0.39047618675736967\n",
      "2282\n",
      "2189\n",
      "2140\n",
      "1564\n",
      "1397\n",
      "1388\n",
      "1337\n",
      "0.07853403135487357\n"
     ]
    },
    {
     "name": "stderr",
     "output_type": "stream",
     "text": [
      "C:\\Users\\gagan\\AppData\\Local\\Temp\\ipykernel_6308\\125688054.py:245: DeprecationWarning: The 'text' argument to find()-type methods is deprecated. Use 'string' instead.\n",
      "  texts = soup.findAll(text=True)\n"
     ]
    },
    {
     "name": "stdout",
     "output_type": "stream",
     "text": [
      "2727\n",
      "101\n",
      "27.0\n",
      "678\n",
      "the_number_of_words:  2727\n",
      "complex_words:  678\n",
      "percentage of complex word:  24.86248624862486\n",
      "Average_Sentence_Length: 27.0\n",
      "percentage of complex word:  24.86248624862486\n",
      "Fog Index : 20.744994499449945\n",
      "the_number_of_words:  2727\n",
      "sentence_length: 101\n",
      "Average_Number_of_Words_Per_Sentence: 27.0\n",
      "word count: 1300\n",
      "Count of Personal Pronoun: 1\n",
      "Sum_character: 12584\n",
      "the_number_of_words:  2727\n",
      "average_word_length: 4.614594792812615\n",
      "4148\n",
      "None\n"
     ]
    },
    {
     "name": "stderr",
     "output_type": "stream",
     "text": [
      "C:\\Users\\gagan\\AppData\\Local\\Temp\\ipykernel_6308\\125688054.py:18: DeprecationWarning: The 'text' argument to find()-type methods is deprecated. Use 'string' instead.\n",
      "  texts = soup.findAll(text=True)\n"
     ]
    },
    {
     "name": "stdout",
     "output_type": "stream",
     "text": [
      "104\n",
      "30\n",
      "0.5522388018489641\n",
      "2770\n",
      "2643\n",
      "2609\n",
      "1724\n",
      "1502\n",
      "1493\n",
      "1432\n",
      "0.09357541892906744\n"
     ]
    },
    {
     "name": "stderr",
     "output_type": "stream",
     "text": [
      "C:\\Users\\gagan\\AppData\\Local\\Temp\\ipykernel_6308\\125688054.py:245: DeprecationWarning: The 'text' argument to find()-type methods is deprecated. Use 'string' instead.\n",
      "  texts = soup.findAll(text=True)\n"
     ]
    },
    {
     "name": "stdout",
     "output_type": "stream",
     "text": [
      "2739\n",
      "98\n",
      "27.948979591836736\n",
      "677\n",
      "the_number_of_words:  2739\n",
      "complex_words:  677\n",
      "percentage of complex word:  24.717050018254838\n",
      "Average_Sentence_Length: 27.948979591836736\n",
      "percentage of complex word:  24.717050018254838\n",
      "Fog Index : 21.06641184403663\n",
      "the_number_of_words:  2739\n",
      "sentence_length: 98\n",
      "Average_Number_of_Words_Per_Sentence: 27.948979591836736\n",
      "word count: 1396\n",
      "Count of Personal Pronoun: 6\n",
      "Sum_character: 14765\n",
      "the_number_of_words:  2739\n",
      "average_word_length: 5.390653523183643\n",
      "4959\n",
      "None\n"
     ]
    },
    {
     "name": "stderr",
     "output_type": "stream",
     "text": [
      "C:\\Users\\gagan\\AppData\\Local\\Temp\\ipykernel_6308\\125688054.py:18: DeprecationWarning: The 'text' argument to find()-type methods is deprecated. Use 'string' instead.\n",
      "  texts = soup.findAll(text=True)\n"
     ]
    },
    {
     "name": "stdout",
     "output_type": "stream",
     "text": [
      "102\n",
      "26\n",
      "0.5937499953613282\n",
      "2749\n",
      "2643\n",
      "2599\n",
      "1847\n",
      "1643\n",
      "1634\n",
      "1537\n",
      "0.08327911510521853\n"
     ]
    },
    {
     "name": "stderr",
     "output_type": "stream",
     "text": [
      "C:\\Users\\gagan\\AppData\\Local\\Temp\\ipykernel_6308\\125688054.py:245: DeprecationWarning: The 'text' argument to find()-type methods is deprecated. Use 'string' instead.\n",
      "  texts = soup.findAll(text=True)\n"
     ]
    },
    {
     "name": "stdout",
     "output_type": "stream",
     "text": [
      "2729\n",
      "98\n",
      "27.846938775510203\n",
      "667\n",
      "the_number_of_words:  2729\n",
      "complex_words:  667\n",
      "percentage of complex word:  24.44118724807622\n",
      "Average_Sentence_Length: 27.846938775510203\n",
      "percentage of complex word:  24.44118724807622\n",
      "Fog Index : 20.91525040943457\n",
      "the_number_of_words:  2729\n",
      "sentence_length: 98\n",
      "Average_Number_of_Words_Per_Sentence: 27.846938775510203\n",
      "word count: 1499\n",
      "Count of Personal Pronoun: 1\n",
      "Sum_character: 15160\n",
      "the_number_of_words:  2729\n",
      "average_word_length: 5.555148406009527\n",
      "5024\n",
      "None\n"
     ]
    },
    {
     "name": "stderr",
     "output_type": "stream",
     "text": [
      "C:\\Users\\gagan\\AppData\\Local\\Temp\\ipykernel_6308\\125688054.py:18: DeprecationWarning: The 'text' argument to find()-type methods is deprecated. Use 'string' instead.\n",
      "  texts = soup.findAll(text=True)\n"
     ]
    },
    {
     "name": "stdout",
     "output_type": "stream",
     "text": [
      "56\n",
      "8\n",
      "0.7499999882812503\n",
      "1563\n",
      "1493\n",
      "1460\n",
      "1110\n",
      "1027\n",
      "1019\n",
      "976\n",
      "0.06557377042461704\n"
     ]
    },
    {
     "name": "stderr",
     "output_type": "stream",
     "text": [
      "C:\\Users\\gagan\\AppData\\Local\\Temp\\ipykernel_6308\\125688054.py:245: DeprecationWarning: The 'text' argument to find()-type methods is deprecated. Use 'string' instead.\n",
      "  texts = soup.findAll(text=True)\n"
     ]
    },
    {
     "name": "stdout",
     "output_type": "stream",
     "text": [
      "2728\n",
      "95\n",
      "28.71578947368421\n",
      "674\n",
      "the_number_of_words:  2728\n",
      "complex_words:  674\n",
      "percentage of complex word:  24.70674486803519\n",
      "Average_Sentence_Length: 28.71578947368421\n",
      "percentage of complex word:  24.70674486803519\n",
      "Fog Index : 21.369013736687762\n",
      "the_number_of_words:  2728\n",
      "sentence_length: 95\n",
      "Average_Number_of_Words_Per_Sentence: 28.71578947368421\n",
      "word count: 938\n",
      "Count of Personal Pronoun: 1\n",
      "Sum_character: 9087\n",
      "the_number_of_words:  2728\n",
      "average_word_length: 3.3310117302052786\n",
      "3028\n",
      "None\n"
     ]
    },
    {
     "name": "stderr",
     "output_type": "stream",
     "text": [
      "C:\\Users\\gagan\\AppData\\Local\\Temp\\ipykernel_6308\\125688054.py:18: DeprecationWarning: The 'text' argument to find()-type methods is deprecated. Use 'string' instead.\n",
      "  texts = soup.findAll(text=True)\n"
     ]
    },
    {
     "name": "stdout",
     "output_type": "stream",
     "text": [
      "142\n",
      "44\n",
      "0.5268817175974101\n",
      "2841\n",
      "2722\n",
      "2675\n",
      "1758\n",
      "1517\n",
      "1512\n",
      "1428\n",
      "0.13025210074912316\n"
     ]
    },
    {
     "name": "stderr",
     "output_type": "stream",
     "text": [
      "C:\\Users\\gagan\\AppData\\Local\\Temp\\ipykernel_6308\\125688054.py:245: DeprecationWarning: The 'text' argument to find()-type methods is deprecated. Use 'string' instead.\n",
      "  texts = soup.findAll(text=True)\n"
     ]
    },
    {
     "name": "stdout",
     "output_type": "stream",
     "text": [
      "2731\n",
      "92\n",
      "29.684782608695652\n",
      "683\n",
      "the_number_of_words:  2731\n",
      "complex_words:  683\n",
      "percentage of complex word:  25.009154155986817\n",
      "Average_Sentence_Length: 29.684782608695652\n",
      "percentage of complex word:  25.009154155986817\n",
      "Fog Index : 21.877574705872988\n",
      "the_number_of_words:  2731\n",
      "sentence_length: 92\n",
      "Average_Number_of_Words_Per_Sentence: 29.684782608695652\n",
      "word count: 1390\n",
      "Count of Personal Pronoun: 1\n",
      "Sum_character: 14825\n",
      "the_number_of_words:  2731\n",
      "average_word_length: 5.4284145001830835\n",
      "4997\n",
      "None\n"
     ]
    },
    {
     "name": "stderr",
     "output_type": "stream",
     "text": [
      "C:\\Users\\gagan\\AppData\\Local\\Temp\\ipykernel_6308\\125688054.py:18: DeprecationWarning: The 'text' argument to find()-type methods is deprecated. Use 'string' instead.\n",
      "  texts = soup.findAll(text=True)\n"
     ]
    },
    {
     "name": "stdout",
     "output_type": "stream",
     "text": [
      "66\n",
      "7\n",
      "0.8082191670106964\n",
      "1976\n",
      "1895\n",
      "1857\n",
      "1342\n",
      "1218\n",
      "1214\n",
      "1176\n",
      "0.06207482987918806\n"
     ]
    },
    {
     "name": "stderr",
     "output_type": "stream",
     "text": [
      "C:\\Users\\gagan\\AppData\\Local\\Temp\\ipykernel_6308\\125688054.py:245: DeprecationWarning: The 'text' argument to find()-type methods is deprecated. Use 'string' instead.\n",
      "  texts = soup.findAll(text=True)\n"
     ]
    },
    {
     "name": "stdout",
     "output_type": "stream",
     "text": [
      "2730\n",
      "98\n",
      "27.857142857142858\n",
      "680\n",
      "the_number_of_words:  2730\n",
      "complex_words:  680\n",
      "percentage of complex word:  24.90842490842491\n",
      "Average_Sentence_Length: 27.857142857142858\n",
      "percentage of complex word:  24.90842490842491\n",
      "Fog Index : 21.10622710622711\n",
      "the_number_of_words:  2730\n",
      "sentence_length: 98\n",
      "Average_Number_of_Words_Per_Sentence: 27.857142857142858\n",
      "word count: 1138\n",
      "Count of Personal Pronoun: 1\n",
      "Sum_character: 11097\n",
      "the_number_of_words:  2730\n",
      "average_word_length: 4.064835164835165\n",
      "3683\n",
      "None\n"
     ]
    },
    {
     "name": "stderr",
     "output_type": "stream",
     "text": [
      "C:\\Users\\gagan\\AppData\\Local\\Temp\\ipykernel_6308\\125688054.py:18: DeprecationWarning: The 'text' argument to find()-type methods is deprecated. Use 'string' instead.\n",
      "  texts = soup.findAll(text=True)\n"
     ]
    },
    {
     "name": "stdout",
     "output_type": "stream",
     "text": [
      "49\n",
      "13\n",
      "0.5806451519250783\n",
      "1740\n",
      "1673\n",
      "1637\n",
      "1208\n",
      "1105\n",
      "1098\n",
      "1068\n",
      "0.05805243440257262\n"
     ]
    },
    {
     "name": "stderr",
     "output_type": "stream",
     "text": [
      "C:\\Users\\gagan\\AppData\\Local\\Temp\\ipykernel_6308\\125688054.py:245: DeprecationWarning: The 'text' argument to find()-type methods is deprecated. Use 'string' instead.\n",
      "  texts = soup.findAll(text=True)\n"
     ]
    },
    {
     "name": "stdout",
     "output_type": "stream",
     "text": [
      "2728\n",
      "95\n",
      "28.71578947368421\n",
      "677\n",
      "the_number_of_words:  2728\n",
      "complex_words:  677\n",
      "percentage of complex word:  24.816715542521994\n",
      "Average_Sentence_Length: 28.71578947368421\n",
      "percentage of complex word:  24.816715542521994\n",
      "Fog Index : 21.413002006482483\n",
      "the_number_of_words:  2728\n",
      "sentence_length: 95\n",
      "Average_Number_of_Words_Per_Sentence: 28.71578947368421\n",
      "word count: 1032\n",
      "Count of Personal Pronoun: 1\n",
      "Sum_character: 10038\n",
      "the_number_of_words:  2728\n",
      "average_word_length: 3.679618768328446\n",
      "3336\n",
      "None\n"
     ]
    },
    {
     "name": "stderr",
     "output_type": "stream",
     "text": [
      "C:\\Users\\gagan\\AppData\\Local\\Temp\\ipykernel_6308\\125688054.py:18: DeprecationWarning: The 'text' argument to find()-type methods is deprecated. Use 'string' instead.\n",
      "  texts = soup.findAll(text=True)\n"
     ]
    },
    {
     "name": "stdout",
     "output_type": "stream",
     "text": [
      "41\n",
      "12\n",
      "0.5471698009967962\n",
      "1366\n",
      "1307\n",
      "1276\n",
      "985\n",
      "913\n",
      "909\n",
      "884\n",
      "0.059954751063399606\n"
     ]
    },
    {
     "name": "stderr",
     "output_type": "stream",
     "text": [
      "C:\\Users\\gagan\\AppData\\Local\\Temp\\ipykernel_6308\\125688054.py:245: DeprecationWarning: The 'text' argument to find()-type methods is deprecated. Use 'string' instead.\n",
      "  texts = soup.findAll(text=True)\n"
     ]
    },
    {
     "name": "stdout",
     "output_type": "stream",
     "text": [
      "2734\n",
      "98\n",
      "27.897959183673468\n",
      "681\n",
      "the_number_of_words:  2734\n",
      "complex_words:  681\n",
      "percentage of complex word:  24.90855888807608\n",
      "Average_Sentence_Length: 27.897959183673468\n",
      "percentage of complex word:  24.90855888807608\n",
      "Fog Index : 21.12260722869982\n",
      "the_number_of_words:  2734\n",
      "sentence_length: 98\n",
      "Average_Number_of_Words_Per_Sentence: 27.897959183673468\n",
      "word count: 847\n",
      "Count of Personal Pronoun: 1\n",
      "Sum_character: 7970\n",
      "the_number_of_words:  2734\n",
      "average_word_length: 2.9151426481346014\n",
      "2615\n",
      "None\n"
     ]
    },
    {
     "name": "stderr",
     "output_type": "stream",
     "text": [
      "C:\\Users\\gagan\\AppData\\Local\\Temp\\ipykernel_6308\\125688054.py:18: DeprecationWarning: The 'text' argument to find()-type methods is deprecated. Use 'string' instead.\n",
      "  texts = soup.findAll(text=True)\n"
     ]
    },
    {
     "name": "stdout",
     "output_type": "stream",
     "text": [
      "41\n",
      "9\n",
      "0.6399999872000003\n",
      "1025\n",
      "974\n",
      "944\n",
      "773\n",
      "741\n",
      "737\n",
      "718\n",
      "0.06963788291136785\n"
     ]
    },
    {
     "name": "stderr",
     "output_type": "stream",
     "text": [
      "C:\\Users\\gagan\\AppData\\Local\\Temp\\ipykernel_6308\\125688054.py:245: DeprecationWarning: The 'text' argument to find()-type methods is deprecated. Use 'string' instead.\n",
      "  texts = soup.findAll(text=True)\n"
     ]
    },
    {
     "name": "stdout",
     "output_type": "stream",
     "text": [
      "2724\n",
      "96\n",
      "28.375\n",
      "674\n",
      "the_number_of_words:  2724\n",
      "complex_words:  674\n",
      "percentage of complex word:  24.74302496328928\n",
      "Average_Sentence_Length: 28.375\n",
      "percentage of complex word:  24.74302496328928\n",
      "Fog Index : 21.247209985315713\n",
      "the_number_of_words:  2724\n",
      "sentence_length: 96\n",
      "Average_Number_of_Words_Per_Sentence: 28.375\n",
      "word count: 677\n",
      "Count of Personal Pronoun: 1\n",
      "Sum_character: 6040\n",
      "the_number_of_words:  2724\n",
      "average_word_length: 2.2173274596182084\n",
      "1946\n",
      "None\n"
     ]
    },
    {
     "name": "stderr",
     "output_type": "stream",
     "text": [
      "C:\\Users\\gagan\\AppData\\Local\\Temp\\ipykernel_6308\\125688054.py:18: DeprecationWarning: The 'text' argument to find()-type methods is deprecated. Use 'string' instead.\n",
      "  texts = soup.findAll(text=True)\n"
     ]
    },
    {
     "name": "stdout",
     "output_type": "stream",
     "text": [
      "72\n",
      "70\n",
      "0.014084506943066852\n",
      "2426\n",
      "2325\n",
      "2286\n",
      "1581\n",
      "1451\n",
      "1437\n",
      "1390\n",
      "0.1021582733077998\n"
     ]
    },
    {
     "name": "stderr",
     "output_type": "stream",
     "text": [
      "C:\\Users\\gagan\\AppData\\Local\\Temp\\ipykernel_6308\\125688054.py:245: DeprecationWarning: The 'text' argument to find()-type methods is deprecated. Use 'string' instead.\n",
      "  texts = soup.findAll(text=True)\n"
     ]
    },
    {
     "name": "stdout",
     "output_type": "stream",
     "text": [
      "2723\n",
      "96\n",
      "28.364583333333332\n",
      "677\n",
      "the_number_of_words:  2723\n",
      "complex_words:  677\n",
      "percentage of complex word:  24.862284245317664\n",
      "Average_Sentence_Length: 28.364583333333332\n",
      "percentage of complex word:  24.862284245317664\n",
      "Fog Index : 21.2907470314604\n",
      "the_number_of_words:  2723\n",
      "sentence_length: 96\n",
      "Average_Number_of_Words_Per_Sentence: 28.364583333333332\n",
      "word count: 1353\n",
      "Count of Personal Pronoun: 1\n",
      "Sum_character: 13392\n",
      "the_number_of_words:  2723\n",
      "average_word_length: 4.918105031215571\n",
      "4456\n",
      "None\n"
     ]
    },
    {
     "name": "stderr",
     "output_type": "stream",
     "text": [
      "C:\\Users\\gagan\\AppData\\Local\\Temp\\ipykernel_6308\\125688054.py:18: DeprecationWarning: The 'text' argument to find()-type methods is deprecated. Use 'string' instead.\n",
      "  texts = soup.findAll(text=True)\n"
     ]
    },
    {
     "name": "stdout",
     "output_type": "stream",
     "text": [
      "57\n",
      "19\n",
      "0.4999999934210527\n",
      "1786\n",
      "1712\n",
      "1673\n",
      "1205\n",
      "1112\n",
      "1101\n",
      "1057\n",
      "0.07190160825742516\n"
     ]
    },
    {
     "name": "stderr",
     "output_type": "stream",
     "text": [
      "C:\\Users\\gagan\\AppData\\Local\\Temp\\ipykernel_6308\\125688054.py:245: DeprecationWarning: The 'text' argument to find()-type methods is deprecated. Use 'string' instead.\n",
      "  texts = soup.findAll(text=True)\n"
     ]
    },
    {
     "name": "stdout",
     "output_type": "stream",
     "text": [
      "2719\n",
      "98\n",
      "27.744897959183675\n",
      "666\n",
      "the_number_of_words:  2719\n",
      "complex_words:  666\n",
      "percentage of complex word:  24.494299374770137\n",
      "Average_Sentence_Length: 27.744897959183675\n",
      "percentage of complex word:  24.494299374770137\n",
      "Fog Index : 20.895678933581525\n",
      "the_number_of_words:  2719\n",
      "sentence_length: 98\n",
      "Average_Number_of_Words_Per_Sentence: 27.744897959183675\n",
      "word count: 1021\n",
      "Count of Personal Pronoun: 2\n",
      "Sum_character: 9904\n",
      "the_number_of_words:  2719\n",
      "average_word_length: 3.642515630746598\n",
      "3271\n",
      "None\n"
     ]
    },
    {
     "name": "stderr",
     "output_type": "stream",
     "text": [
      "C:\\Users\\gagan\\AppData\\Local\\Temp\\ipykernel_6308\\125688054.py:18: DeprecationWarning: The 'text' argument to find()-type methods is deprecated. Use 'string' instead.\n",
      "  texts = soup.findAll(text=True)\n"
     ]
    },
    {
     "name": "stdout",
     "output_type": "stream",
     "text": [
      "104\n",
      "32\n",
      "0.5294117608131488\n",
      "2995\n",
      "2898\n",
      "2839\n",
      "1827\n",
      "1627\n",
      "1622\n",
      "1544\n",
      "0.08808290149735563\n"
     ]
    },
    {
     "name": "stderr",
     "output_type": "stream",
     "text": [
      "C:\\Users\\gagan\\AppData\\Local\\Temp\\ipykernel_6308\\125688054.py:245: DeprecationWarning: The 'text' argument to find()-type methods is deprecated. Use 'string' instead.\n",
      "  texts = soup.findAll(text=True)\n"
     ]
    },
    {
     "name": "stdout",
     "output_type": "stream",
     "text": [
      "2728\n",
      "98\n",
      "27.836734693877553\n",
      "669\n",
      "the_number_of_words:  2728\n",
      "complex_words:  669\n",
      "percentage of complex word:  24.523460410557185\n",
      "Average_Sentence_Length: 27.836734693877553\n",
      "percentage of complex word:  24.523460410557185\n",
      "Fog Index : 20.944078041773896\n",
      "the_number_of_words:  2728\n",
      "sentence_length: 98\n",
      "Average_Number_of_Words_Per_Sentence: 27.836734693877553\n",
      "word count: 1506\n",
      "Count of Personal Pronoun: 1\n",
      "Sum_character: 16034\n",
      "the_number_of_words:  2728\n",
      "average_word_length: 5.877565982404692\n",
      "5373\n",
      "None\n"
     ]
    },
    {
     "name": "stderr",
     "output_type": "stream",
     "text": [
      "C:\\Users\\gagan\\AppData\\Local\\Temp\\ipykernel_6308\\125688054.py:18: DeprecationWarning: The 'text' argument to find()-type methods is deprecated. Use 'string' instead.\n",
      "  texts = soup.findAll(text=True)\n"
     ]
    },
    {
     "name": "stdout",
     "output_type": "stream",
     "text": [
      "82\n",
      "8\n",
      "0.8222222130864199\n",
      "1725\n",
      "1659\n",
      "1624\n",
      "1205\n",
      "1104\n",
      "1099\n",
      "1074\n",
      "0.08379888260353921\n"
     ]
    },
    {
     "name": "stderr",
     "output_type": "stream",
     "text": [
      "C:\\Users\\gagan\\AppData\\Local\\Temp\\ipykernel_6308\\125688054.py:245: DeprecationWarning: The 'text' argument to find()-type methods is deprecated. Use 'string' instead.\n",
      "  texts = soup.findAll(text=True)\n"
     ]
    },
    {
     "name": "stdout",
     "output_type": "stream",
     "text": [
      "2730\n",
      "92\n",
      "29.67391304347826\n",
      "674\n",
      "the_number_of_words:  2730\n",
      "complex_words:  674\n",
      "percentage of complex word:  24.68864468864469\n",
      "Average_Sentence_Length: 29.67391304347826\n",
      "percentage of complex word:  24.68864468864469\n",
      "Fog Index : 21.74502309284918\n",
      "the_number_of_words:  2730\n",
      "sentence_length: 92\n",
      "Average_Number_of_Words_Per_Sentence: 29.67391304347826\n",
      "word count: 1035\n",
      "Count of Personal Pronoun: 1\n",
      "Sum_character: 9805\n",
      "the_number_of_words:  2730\n",
      "average_word_length: 3.5915750915750917\n",
      "3217\n",
      "None\n"
     ]
    },
    {
     "name": "stderr",
     "output_type": "stream",
     "text": [
      "C:\\Users\\gagan\\AppData\\Local\\Temp\\ipykernel_6308\\125688054.py:18: DeprecationWarning: The 'text' argument to find()-type methods is deprecated. Use 'string' instead.\n",
      "  texts = soup.findAll(text=True)\n"
     ]
    },
    {
     "name": "stdout",
     "output_type": "stream",
     "text": [
      "46\n",
      "8\n",
      "0.7037036906721539\n",
      "1447\n",
      "1383\n",
      "1345\n",
      "1028\n",
      "961\n",
      "953\n",
      "925\n",
      "0.05837837831526662\n"
     ]
    },
    {
     "name": "stderr",
     "output_type": "stream",
     "text": [
      "C:\\Users\\gagan\\AppData\\Local\\Temp\\ipykernel_6308\\125688054.py:245: DeprecationWarning: The 'text' argument to find()-type methods is deprecated. Use 'string' instead.\n",
      "  texts = soup.findAll(text=True)\n"
     ]
    },
    {
     "name": "stdout",
     "output_type": "stream",
     "text": [
      "2735\n",
      "95\n",
      "28.789473684210527\n",
      "676\n",
      "the_number_of_words:  2735\n",
      "complex_words:  676\n",
      "percentage of complex word:  24.716636197440586\n",
      "Average_Sentence_Length: 28.789473684210527\n",
      "percentage of complex word:  24.716636197440586\n",
      "Fog Index : 21.402443952660448\n",
      "the_number_of_words:  2735\n",
      "sentence_length: 95\n",
      "Average_Number_of_Words_Per_Sentence: 28.789473684210527\n",
      "word count: 888\n",
      "Count of Personal Pronoun: 1\n",
      "Sum_character: 8223\n",
      "the_number_of_words:  2735\n",
      "average_word_length: 3.006581352833638\n",
      "2696\n",
      "None\n"
     ]
    },
    {
     "name": "stderr",
     "output_type": "stream",
     "text": [
      "C:\\Users\\gagan\\AppData\\Local\\Temp\\ipykernel_6308\\125688054.py:18: DeprecationWarning: The 'text' argument to find()-type methods is deprecated. Use 'string' instead.\n",
      "  texts = soup.findAll(text=True)\n"
     ]
    },
    {
     "name": "stdout",
     "output_type": "stream",
     "text": [
      "66\n",
      "14\n",
      "0.6499999918750001\n",
      "2176\n",
      "2096\n",
      "2052\n",
      "1473\n",
      "1338\n",
      "1332\n",
      "1282\n",
      "0.06240249605116809\n"
     ]
    },
    {
     "name": "stderr",
     "output_type": "stream",
     "text": [
      "C:\\Users\\gagan\\AppData\\Local\\Temp\\ipykernel_6308\\125688054.py:245: DeprecationWarning: The 'text' argument to find()-type methods is deprecated. Use 'string' instead.\n",
      "  texts = soup.findAll(text=True)\n"
     ]
    },
    {
     "name": "stdout",
     "output_type": "stream",
     "text": [
      "2729\n",
      "95\n",
      "28.726315789473684\n",
      "678\n",
      "the_number_of_words:  2729\n",
      "complex_words:  678\n",
      "percentage of complex word:  24.844265298644192\n",
      "Average_Sentence_Length: 28.726315789473684\n",
      "percentage of complex word:  24.844265298644192\n",
      "Fog Index : 21.428232435247153\n",
      "the_number_of_words:  2729\n",
      "sentence_length: 95\n",
      "Average_Number_of_Words_Per_Sentence: 28.726315789473684\n",
      "word count: 1243\n",
      "Count of Personal Pronoun: 1\n",
      "Sum_character: 11740\n",
      "the_number_of_words:  2729\n",
      "average_word_length: 4.301942103334555\n",
      "3879\n",
      "None\n"
     ]
    },
    {
     "name": "stderr",
     "output_type": "stream",
     "text": [
      "C:\\Users\\gagan\\AppData\\Local\\Temp\\ipykernel_6308\\125688054.py:18: DeprecationWarning: The 'text' argument to find()-type methods is deprecated. Use 'string' instead.\n",
      "  texts = soup.findAll(text=True)\n"
     ]
    },
    {
     "name": "stdout",
     "output_type": "stream",
     "text": [
      "65\n",
      "18\n",
      "0.5662650534184933\n",
      "1665\n",
      "1575\n",
      "1545\n",
      "1195\n",
      "1115\n",
      "1110\n",
      "1059\n",
      "0.07837582617717107\n"
     ]
    },
    {
     "name": "stderr",
     "output_type": "stream",
     "text": [
      "C:\\Users\\gagan\\AppData\\Local\\Temp\\ipykernel_6308\\125688054.py:245: DeprecationWarning: The 'text' argument to find()-type methods is deprecated. Use 'string' instead.\n",
      "  texts = soup.findAll(text=True)\n"
     ]
    },
    {
     "name": "stdout",
     "output_type": "stream",
     "text": [
      "2734\n",
      "100\n",
      "27.34\n",
      "677\n",
      "the_number_of_words:  2734\n",
      "complex_words:  677\n",
      "percentage of complex word:  24.762253108997808\n",
      "Average_Sentence_Length: 27.34\n",
      "percentage of complex word:  24.762253108997808\n",
      "Fog Index : 20.840901243599124\n",
      "the_number_of_words:  2734\n",
      "sentence_length: 100\n",
      "Average_Number_of_Words_Per_Sentence: 27.34\n",
      "word count: 1013\n",
      "Count of Personal Pronoun: 1\n",
      "Sum_character: 9638\n",
      "the_number_of_words:  2734\n",
      "average_word_length: 3.525237746891002\n",
      "3201\n",
      "None\n"
     ]
    },
    {
     "name": "stderr",
     "output_type": "stream",
     "text": [
      "C:\\Users\\gagan\\AppData\\Local\\Temp\\ipykernel_6308\\125688054.py:18: DeprecationWarning: The 'text' argument to find()-type methods is deprecated. Use 'string' instead.\n",
      "  texts = soup.findAll(text=True)\n"
     ]
    },
    {
     "name": "stdout",
     "output_type": "stream",
     "text": [
      "55\n",
      "15\n",
      "0.5714285632653062\n",
      "1422\n",
      "1369\n",
      "1336\n",
      "986\n",
      "907\n",
      "903\n",
      "874\n",
      "0.08009153308914012\n"
     ]
    },
    {
     "name": "stderr",
     "output_type": "stream",
     "text": [
      "C:\\Users\\gagan\\AppData\\Local\\Temp\\ipykernel_6308\\125688054.py:245: DeprecationWarning: The 'text' argument to find()-type methods is deprecated. Use 'string' instead.\n",
      "  texts = soup.findAll(text=True)\n"
     ]
    },
    {
     "name": "stdout",
     "output_type": "stream",
     "text": [
      "2736\n",
      "101\n",
      "27.08910891089109\n",
      "690\n",
      "the_number_of_words:  2736\n",
      "complex_words:  690\n",
      "percentage of complex word:  25.219298245614034\n",
      "Average_Sentence_Length: 27.08910891089109\n",
      "percentage of complex word:  25.219298245614034\n",
      "Fog Index : 20.92336286260205\n",
      "the_number_of_words:  2736\n",
      "sentence_length: 101\n",
      "Average_Number_of_Words_Per_Sentence: 27.08910891089109\n",
      "word count: 833\n",
      "Count of Personal Pronoun: 1\n",
      "Sum_character: 8157\n",
      "the_number_of_words:  2736\n",
      "average_word_length: 2.981359649122807\n",
      "2679\n",
      "None\n"
     ]
    },
    {
     "name": "stderr",
     "output_type": "stream",
     "text": [
      "C:\\Users\\gagan\\AppData\\Local\\Temp\\ipykernel_6308\\125688054.py:18: DeprecationWarning: The 'text' argument to find()-type methods is deprecated. Use 'string' instead.\n",
      "  texts = soup.findAll(text=True)\n"
     ]
    },
    {
     "name": "stdout",
     "output_type": "stream",
     "text": [
      "46\n",
      "8\n",
      "0.7037036906721539\n",
      "1195\n",
      "1144\n",
      "1112\n",
      "878\n",
      "834\n",
      "829\n",
      "803\n",
      "0.06724782058873248\n"
     ]
    },
    {
     "name": "stderr",
     "output_type": "stream",
     "text": [
      "C:\\Users\\gagan\\AppData\\Local\\Temp\\ipykernel_6308\\125688054.py:245: DeprecationWarning: The 'text' argument to find()-type methods is deprecated. Use 'string' instead.\n",
      "  texts = soup.findAll(text=True)\n"
     ]
    },
    {
     "name": "stdout",
     "output_type": "stream",
     "text": [
      "2725\n",
      "95\n",
      "28.68421052631579\n",
      "676\n",
      "the_number_of_words:  2725\n",
      "complex_words:  676\n",
      "percentage of complex word:  24.807339449541285\n",
      "Average_Sentence_Length: 28.68421052631579\n",
      "percentage of complex word:  24.807339449541285\n",
      "Fog Index : 21.39661999034283\n",
      "the_number_of_words:  2725\n",
      "sentence_length: 95\n",
      "Average_Number_of_Words_Per_Sentence: 28.68421052631579\n",
      "word count: 766\n",
      "Count of Personal Pronoun: 1\n",
      "Sum_character: 7085\n",
      "the_number_of_words:  2725\n",
      "average_word_length: 2.6\n",
      "2319\n",
      "None\n"
     ]
    },
    {
     "name": "stderr",
     "output_type": "stream",
     "text": [
      "C:\\Users\\gagan\\AppData\\Local\\Temp\\ipykernel_6308\\125688054.py:18: DeprecationWarning: The 'text' argument to find()-type methods is deprecated. Use 'string' instead.\n",
      "  texts = soup.findAll(text=True)\n"
     ]
    },
    {
     "name": "stdout",
     "output_type": "stream",
     "text": [
      "58\n",
      "34\n",
      "0.2608695623818526\n",
      "1844\n",
      "1774\n",
      "1735\n",
      "1238\n",
      "1121\n",
      "1116\n",
      "1083\n",
      "0.08494921506468216\n"
     ]
    },
    {
     "name": "stderr",
     "output_type": "stream",
     "text": [
      "C:\\Users\\gagan\\AppData\\Local\\Temp\\ipykernel_6308\\125688054.py:245: DeprecationWarning: The 'text' argument to find()-type methods is deprecated. Use 'string' instead.\n",
      "  texts = soup.findAll(text=True)\n"
     ]
    },
    {
     "name": "stdout",
     "output_type": "stream",
     "text": [
      "2724\n",
      "98\n",
      "27.79591836734694\n",
      "676\n",
      "the_number_of_words:  2724\n",
      "complex_words:  676\n",
      "percentage of complex word:  24.816446402349488\n",
      "Average_Sentence_Length: 27.79591836734694\n",
      "percentage of complex word:  24.816446402349488\n",
      "Fog Index : 21.04494590787857\n",
      "the_number_of_words:  2724\n",
      "sentence_length: 98\n",
      "Average_Number_of_Words_Per_Sentence: 27.79591836734694\n",
      "word count: 1046\n",
      "Count of Personal Pronoun: 4\n",
      "Sum_character: 10173\n",
      "the_number_of_words:  2724\n",
      "average_word_length: 3.734581497797357\n",
      "3337\n",
      "None\n"
     ]
    },
    {
     "name": "stderr",
     "output_type": "stream",
     "text": [
      "C:\\Users\\gagan\\AppData\\Local\\Temp\\ipykernel_6308\\125688054.py:18: DeprecationWarning: The 'text' argument to find()-type methods is deprecated. Use 'string' instead.\n",
      "  texts = soup.findAll(text=True)\n"
     ]
    },
    {
     "name": "stdout",
     "output_type": "stream",
     "text": [
      "48\n",
      "9\n",
      "0.6842105143120962\n",
      "1226\n",
      "1178\n",
      "1145\n",
      "890\n",
      "828\n",
      "824\n",
      "800\n",
      "0.0712499999109375\n"
     ]
    },
    {
     "name": "stderr",
     "output_type": "stream",
     "text": [
      "C:\\Users\\gagan\\AppData\\Local\\Temp\\ipykernel_6308\\125688054.py:245: DeprecationWarning: The 'text' argument to find()-type methods is deprecated. Use 'string' instead.\n",
      "  texts = soup.findAll(text=True)\n"
     ]
    },
    {
     "name": "stdout",
     "output_type": "stream",
     "text": [
      "2722\n",
      "98\n",
      "27.775510204081634\n",
      "672\n",
      "the_number_of_words:  2722\n",
      "complex_words:  672\n",
      "percentage of complex word:  24.687729610580455\n",
      "Average_Sentence_Length: 27.775510204081634\n",
      "percentage of complex word:  24.687729610580455\n",
      "Fog Index : 20.985295925864836\n",
      "the_number_of_words:  2722\n",
      "sentence_length: 98\n",
      "Average_Number_of_Words_Per_Sentence: 27.775510204081634\n",
      "word count: 762\n",
      "Count of Personal Pronoun: 1\n",
      "Sum_character: 7138\n",
      "the_number_of_words:  2722\n",
      "average_word_length: 2.6223365172667155\n",
      "2352\n",
      "None\n"
     ]
    },
    {
     "name": "stderr",
     "output_type": "stream",
     "text": [
      "C:\\Users\\gagan\\AppData\\Local\\Temp\\ipykernel_6308\\125688054.py:18: DeprecationWarning: The 'text' argument to find()-type methods is deprecated. Use 'string' instead.\n",
      "  texts = soup.findAll(text=True)\n"
     ]
    },
    {
     "name": "stdout",
     "output_type": "stream",
     "text": [
      "88\n",
      "21\n",
      "0.614678893443313\n",
      "2241\n",
      "2130\n",
      "2092\n",
      "1528\n",
      "1416\n",
      "1407\n",
      "1377\n",
      "0.07915758890402498\n"
     ]
    },
    {
     "name": "stderr",
     "output_type": "stream",
     "text": [
      "C:\\Users\\gagan\\AppData\\Local\\Temp\\ipykernel_6308\\125688054.py:245: DeprecationWarning: The 'text' argument to find()-type methods is deprecated. Use 'string' instead.\n",
      "  texts = soup.findAll(text=True)\n"
     ]
    },
    {
     "name": "stdout",
     "output_type": "stream",
     "text": [
      "2723\n",
      "98\n",
      "27.785714285714285\n",
      "672\n",
      "the_number_of_words:  2723\n",
      "complex_words:  672\n",
      "percentage of complex word:  24.67866323907455\n",
      "Average_Sentence_Length: 27.785714285714285\n",
      "percentage of complex word:  24.67866323907455\n",
      "Fog Index : 20.985751009915532\n",
      "the_number_of_words:  2723\n",
      "sentence_length: 98\n",
      "Average_Number_of_Words_Per_Sentence: 27.785714285714285\n",
      "word count: 1335\n",
      "Count of Personal Pronoun: 1\n",
      "Sum_character: 13172\n",
      "the_number_of_words:  2723\n",
      "average_word_length: 4.837311788468601\n",
      "4404\n",
      "None\n"
     ]
    },
    {
     "name": "stderr",
     "output_type": "stream",
     "text": [
      "C:\\Users\\gagan\\AppData\\Local\\Temp\\ipykernel_6308\\125688054.py:18: DeprecationWarning: The 'text' argument to find()-type methods is deprecated. Use 'string' instead.\n",
      "  texts = soup.findAll(text=True)\n"
     ]
    },
    {
     "name": "stdout",
     "output_type": "stream",
     "text": [
      "51\n",
      "22\n",
      "0.39726026853068125\n",
      "1584\n",
      "1506\n",
      "1469\n",
      "1094\n",
      "1005\n",
      "993\n",
      "960\n",
      "0.07604166658745659\n"
     ]
    },
    {
     "name": "stderr",
     "output_type": "stream",
     "text": [
      "C:\\Users\\gagan\\AppData\\Local\\Temp\\ipykernel_6308\\125688054.py:245: DeprecationWarning: The 'text' argument to find()-type methods is deprecated. Use 'string' instead.\n",
      "  texts = soup.findAll(text=True)\n"
     ]
    },
    {
     "name": "stdout",
     "output_type": "stream",
     "text": [
      "2718\n",
      "95\n",
      "28.610526315789475\n",
      "671\n",
      "the_number_of_words:  2718\n",
      "complex_words:  671\n",
      "percentage of complex word:  24.687270051508463\n",
      "Average_Sentence_Length: 28.610526315789475\n",
      "percentage of complex word:  24.687270051508463\n",
      "Fog Index : 21.319118546919174\n",
      "the_number_of_words:  2718\n",
      "sentence_length: 95\n",
      "Average_Number_of_Words_Per_Sentence: 28.610526315789475\n",
      "word count: 921\n",
      "Count of Personal Pronoun: 1\n",
      "Sum_character: 8894\n",
      "the_number_of_words:  2718\n",
      "average_word_length: 3.2722590139808685\n",
      "2892\n",
      "None\n"
     ]
    },
    {
     "name": "stderr",
     "output_type": "stream",
     "text": [
      "C:\\Users\\gagan\\AppData\\Local\\Temp\\ipykernel_6308\\125688054.py:18: DeprecationWarning: The 'text' argument to find()-type methods is deprecated. Use 'string' instead.\n",
      "  texts = soup.findAll(text=True)\n"
     ]
    },
    {
     "name": "stdout",
     "output_type": "stream",
     "text": [
      "59\n",
      "40\n",
      "0.19191918998061425\n",
      "2104\n",
      "2023\n",
      "1984\n",
      "1387\n",
      "1235\n",
      "1229\n",
      "1192\n",
      "0.08305369120549186\n"
     ]
    },
    {
     "name": "stderr",
     "output_type": "stream",
     "text": [
      "C:\\Users\\gagan\\AppData\\Local\\Temp\\ipykernel_6308\\125688054.py:245: DeprecationWarning: The 'text' argument to find()-type methods is deprecated. Use 'string' instead.\n",
      "  texts = soup.findAll(text=True)\n"
     ]
    },
    {
     "name": "stdout",
     "output_type": "stream",
     "text": [
      "2724\n",
      "95\n",
      "28.673684210526314\n",
      "676\n",
      "the_number_of_words:  2724\n",
      "complex_words:  676\n",
      "percentage of complex word:  24.816446402349488\n",
      "Average_Sentence_Length: 28.673684210526314\n",
      "percentage of complex word:  24.816446402349488\n",
      "Fog Index : 21.396052245150322\n",
      "the_number_of_words:  2724\n",
      "sentence_length: 95\n",
      "Average_Number_of_Words_Per_Sentence: 28.673684210526314\n",
      "word count: 1154\n",
      "Count of Personal Pronoun: 1\n",
      "Sum_character: 11432\n",
      "the_number_of_words:  2724\n",
      "average_word_length: 4.196769456681351\n",
      "3806\n",
      "None\n"
     ]
    },
    {
     "name": "stderr",
     "output_type": "stream",
     "text": [
      "C:\\Users\\gagan\\AppData\\Local\\Temp\\ipykernel_6308\\125688054.py:18: DeprecationWarning: The 'text' argument to find()-type methods is deprecated. Use 'string' instead.\n",
      "  texts = soup.findAll(text=True)\n"
     ]
    },
    {
     "name": "stdout",
     "output_type": "stream",
     "text": [
      "67\n",
      "46\n",
      "0.18584070631999375\n",
      "2745\n",
      "2638\n",
      "2592\n",
      "1782\n",
      "1614\n",
      "1607\n",
      "1544\n",
      "0.07318652845000873\n"
     ]
    },
    {
     "name": "stderr",
     "output_type": "stream",
     "text": [
      "C:\\Users\\gagan\\AppData\\Local\\Temp\\ipykernel_6308\\125688054.py:245: DeprecationWarning: The 'text' argument to find()-type methods is deprecated. Use 'string' instead.\n",
      "  texts = soup.findAll(text=True)\n"
     ]
    },
    {
     "name": "stdout",
     "output_type": "stream",
     "text": [
      "2735\n",
      "105\n",
      "26.047619047619047\n",
      "677\n",
      "the_number_of_words:  2735\n",
      "complex_words:  677\n",
      "percentage of complex word:  24.753199268738573\n",
      "Average_Sentence_Length: 26.047619047619047\n",
      "percentage of complex word:  24.753199268738573\n",
      "Fog Index : 20.32032732654305\n",
      "the_number_of_words:  2735\n",
      "sentence_length: 105\n",
      "Average_Number_of_Words_Per_Sentence: 26.047619047619047\n",
      "word count: 1508\n",
      "Count of Personal Pronoun: 2\n",
      "Sum_character: 15572\n",
      "the_number_of_words:  2735\n",
      "average_word_length: 5.693601462522852\n",
      "5101\n",
      "None\n"
     ]
    },
    {
     "name": "stderr",
     "output_type": "stream",
     "text": [
      "C:\\Users\\gagan\\AppData\\Local\\Temp\\ipykernel_6308\\125688054.py:18: DeprecationWarning: The 'text' argument to find()-type methods is deprecated. Use 'string' instead.\n",
      "  texts = soup.findAll(text=True)\n"
     ]
    },
    {
     "name": "stdout",
     "output_type": "stream",
     "text": [
      "88\n",
      "30\n",
      "0.4915254195633439\n",
      "2796\n",
      "2698\n",
      "2655\n",
      "1711\n",
      "1507\n",
      "1498\n",
      "1441\n",
      "0.08188757801395725\n"
     ]
    },
    {
     "name": "stderr",
     "output_type": "stream",
     "text": [
      "C:\\Users\\gagan\\AppData\\Local\\Temp\\ipykernel_6308\\125688054.py:245: DeprecationWarning: The 'text' argument to find()-type methods is deprecated. Use 'string' instead.\n",
      "  texts = soup.findAll(text=True)\n"
     ]
    },
    {
     "name": "stdout",
     "output_type": "stream",
     "text": [
      "2731\n",
      "96\n",
      "28.447916666666668\n",
      "673\n",
      "the_number_of_words:  2731\n",
      "complex_words:  673\n",
      "percentage of complex word:  24.642987916514098\n",
      "Average_Sentence_Length: 28.447916666666668\n",
      "percentage of complex word:  24.642987916514098\n",
      "Fog Index : 21.23636183327231\n",
      "the_number_of_words:  2731\n",
      "sentence_length: 96\n",
      "Average_Number_of_Words_Per_Sentence: 28.447916666666668\n",
      "word count: 1403\n",
      "Count of Personal Pronoun: 1\n",
      "Sum_character: 14596\n",
      "the_number_of_words:  2731\n",
      "average_word_length: 5.34456243134383\n",
      "4851\n",
      "None\n"
     ]
    },
    {
     "name": "stderr",
     "output_type": "stream",
     "text": [
      "C:\\Users\\gagan\\AppData\\Local\\Temp\\ipykernel_6308\\125688054.py:18: DeprecationWarning: The 'text' argument to find()-type methods is deprecated. Use 'string' instead.\n",
      "  texts = soup.findAll(text=True)\n"
     ]
    },
    {
     "name": "stdout",
     "output_type": "stream",
     "text": [
      "76\n",
      "27\n",
      "0.47572815072108593\n",
      "2490\n",
      "2398\n",
      "2349\n",
      "1648\n",
      "1461\n",
      "1451\n",
      "1374\n",
      "0.07496360984354904\n"
     ]
    },
    {
     "name": "stderr",
     "output_type": "stream",
     "text": [
      "C:\\Users\\gagan\\AppData\\Local\\Temp\\ipykernel_6308\\125688054.py:245: DeprecationWarning: The 'text' argument to find()-type methods is deprecated. Use 'string' instead.\n",
      "  texts = soup.findAll(text=True)\n"
     ]
    },
    {
     "name": "stdout",
     "output_type": "stream",
     "text": [
      "2711\n",
      "96\n",
      "28.239583333333332\n",
      "670\n",
      "the_number_of_words:  2711\n",
      "complex_words:  670\n",
      "percentage of complex word:  24.714127628181483\n",
      "Average_Sentence_Length: 28.239583333333332\n",
      "percentage of complex word:  24.714127628181483\n",
      "Fog Index : 21.181484384605927\n",
      "the_number_of_words:  2711\n",
      "sentence_length: 96\n",
      "Average_Number_of_Words_Per_Sentence: 28.239583333333332\n",
      "word count: 1334\n",
      "Count of Personal Pronoun: 3\n",
      "Sum_character: 13324\n",
      "the_number_of_words:  2711\n",
      "average_word_length: 4.914791589819255\n",
      "4363\n",
      "None\n"
     ]
    },
    {
     "name": "stderr",
     "output_type": "stream",
     "text": [
      "C:\\Users\\gagan\\AppData\\Local\\Temp\\ipykernel_6308\\125688054.py:18: DeprecationWarning: The 'text' argument to find()-type methods is deprecated. Use 'string' instead.\n",
      "  texts = soup.findAll(text=True)\n"
     ]
    },
    {
     "name": "stdout",
     "output_type": "stream",
     "text": [
      "64\n",
      "11\n",
      "0.7066666572444446\n",
      "1912\n",
      "1845\n",
      "1804\n",
      "1199\n",
      "1090\n",
      "1084\n",
      "1047\n",
      "0.07163323775393195\n"
     ]
    },
    {
     "name": "stderr",
     "output_type": "stream",
     "text": [
      "C:\\Users\\gagan\\AppData\\Local\\Temp\\ipykernel_6308\\125688054.py:245: DeprecationWarning: The 'text' argument to find()-type methods is deprecated. Use 'string' instead.\n",
      "  texts = soup.findAll(text=True)\n"
     ]
    },
    {
     "name": "stdout",
     "output_type": "stream",
     "text": [
      "2714\n",
      "92\n",
      "29.5\n",
      "673\n",
      "the_number_of_words:  2714\n",
      "complex_words:  673\n",
      "percentage of complex word:  24.797347089167282\n",
      "Average_Sentence_Length: 29.5\n",
      "percentage of complex word:  24.797347089167282\n",
      "Fog Index : 21.718938835666915\n",
      "the_number_of_words:  2714\n",
      "sentence_length: 92\n",
      "Average_Number_of_Words_Per_Sentence: 29.5\n",
      "word count: 1011\n",
      "Count of Personal Pronoun: 1\n",
      "Sum_character: 10223\n",
      "the_number_of_words:  2714\n",
      "average_word_length: 3.766764922623434\n",
      "3381\n",
      "None\n"
     ]
    },
    {
     "name": "stderr",
     "output_type": "stream",
     "text": [
      "C:\\Users\\gagan\\AppData\\Local\\Temp\\ipykernel_6308\\125688054.py:18: DeprecationWarning: The 'text' argument to find()-type methods is deprecated. Use 'string' instead.\n",
      "  texts = soup.findAll(text=True)\n"
     ]
    },
    {
     "name": "stdout",
     "output_type": "stream",
     "text": [
      "88\n",
      "14\n",
      "0.7254901889657824\n",
      "2444\n",
      "2370\n",
      "2324\n",
      "1489\n",
      "1282\n",
      "1276\n",
      "1233\n",
      "0.08272506076015809\n"
     ]
    },
    {
     "name": "stderr",
     "output_type": "stream",
     "text": [
      "C:\\Users\\gagan\\AppData\\Local\\Temp\\ipykernel_6308\\125688054.py:245: DeprecationWarning: The 'text' argument to find()-type methods is deprecated. Use 'string' instead.\n",
      "  texts = soup.findAll(text=True)\n"
     ]
    },
    {
     "name": "stdout",
     "output_type": "stream",
     "text": [
      "2738\n",
      "99\n",
      "27.656565656565657\n",
      "673\n",
      "the_number_of_words:  2738\n",
      "complex_words:  673\n",
      "percentage of complex word:  24.579985390796203\n",
      "Average_Sentence_Length: 27.656565656565657\n",
      "percentage of complex word:  24.579985390796203\n",
      "Fog Index : 20.894620418944744\n",
      "the_number_of_words:  2738\n",
      "sentence_length: 99\n",
      "Average_Number_of_Words_Per_Sentence: 27.656565656565657\n",
      "word count: 1195\n",
      "Count of Personal Pronoun: 1\n",
      "Sum_character: 12721\n",
      "the_number_of_words:  2738\n",
      "average_word_length: 4.64609203798393\n",
      "4199\n",
      "None\n"
     ]
    },
    {
     "name": "stderr",
     "output_type": "stream",
     "text": [
      "C:\\Users\\gagan\\AppData\\Local\\Temp\\ipykernel_6308\\125688054.py:18: DeprecationWarning: The 'text' argument to find()-type methods is deprecated. Use 'string' instead.\n",
      "  texts = soup.findAll(text=True)\n"
     ]
    },
    {
     "name": "stdout",
     "output_type": "stream",
     "text": [
      "64\n",
      "14\n",
      "0.6410256328073637\n",
      "1497\n",
      "1428\n",
      "1397\n",
      "1031\n",
      "923\n",
      "918\n",
      "883\n",
      "0.08833522073801221\n"
     ]
    },
    {
     "name": "stderr",
     "output_type": "stream",
     "text": [
      "C:\\Users\\gagan\\AppData\\Local\\Temp\\ipykernel_6308\\125688054.py:245: DeprecationWarning: The 'text' argument to find()-type methods is deprecated. Use 'string' instead.\n",
      "  texts = soup.findAll(text=True)\n"
     ]
    },
    {
     "name": "stdout",
     "output_type": "stream",
     "text": [
      "2721\n",
      "95\n",
      "28.642105263157895\n",
      "672\n",
      "the_number_of_words:  2721\n",
      "complex_words:  672\n",
      "percentage of complex word:  24.696802646085995\n",
      "Average_Sentence_Length: 28.642105263157895\n",
      "percentage of complex word:  24.696802646085995\n",
      "Fog Index : 21.335563163697557\n",
      "the_number_of_words:  2721\n",
      "sentence_length: 95\n",
      "Average_Number_of_Words_Per_Sentence: 28.642105263157895\n",
      "word count: 847\n",
      "Count of Personal Pronoun: 1\n",
      "Sum_character: 8301\n",
      "the_number_of_words:  2721\n",
      "average_word_length: 3.0507166482910693\n",
      "2749\n",
      "None\n"
     ]
    },
    {
     "name": "stderr",
     "output_type": "stream",
     "text": [
      "C:\\Users\\gagan\\AppData\\Local\\Temp\\ipykernel_6308\\125688054.py:18: DeprecationWarning: The 'text' argument to find()-type methods is deprecated. Use 'string' instead.\n",
      "  texts = soup.findAll(text=True)\n"
     ]
    },
    {
     "name": "stdout",
     "output_type": "stream",
     "text": [
      "80\n",
      "18\n",
      "0.6326530547688464\n",
      "2611\n",
      "2505\n",
      "2461\n",
      "1726\n",
      "1570\n",
      "1555\n",
      "1462\n",
      "0.06703146370244085\n"
     ]
    },
    {
     "name": "stderr",
     "output_type": "stream",
     "text": [
      "C:\\Users\\gagan\\AppData\\Local\\Temp\\ipykernel_6308\\125688054.py:245: DeprecationWarning: The 'text' argument to find()-type methods is deprecated. Use 'string' instead.\n",
      "  texts = soup.findAll(text=True)\n"
     ]
    },
    {
     "name": "stdout",
     "output_type": "stream",
     "text": [
      "2717\n",
      "95\n",
      "28.6\n",
      "675\n",
      "the_number_of_words:  2717\n",
      "complex_words:  675\n",
      "percentage of complex word:  24.843577475156422\n",
      "Average_Sentence_Length: 28.6\n",
      "percentage of complex word:  24.843577475156422\n",
      "Fog Index : 21.37743099006257\n",
      "the_number_of_words:  2717\n",
      "sentence_length: 95\n",
      "Average_Number_of_Words_Per_Sentence: 28.6\n",
      "word count: 1424\n",
      "Count of Personal Pronoun: 2\n",
      "Sum_character: 14474\n",
      "the_number_of_words:  2717\n",
      "average_word_length: 5.3271991166728005\n",
      "4852\n",
      "None\n"
     ]
    },
    {
     "name": "stderr",
     "output_type": "stream",
     "text": [
      "C:\\Users\\gagan\\AppData\\Local\\Temp\\ipykernel_6308\\125688054.py:18: DeprecationWarning: The 'text' argument to find()-type methods is deprecated. Use 'string' instead.\n",
      "  texts = soup.findAll(text=True)\n"
     ]
    },
    {
     "name": "stdout",
     "output_type": "stream",
     "text": [
      "65\n",
      "71\n",
      "-0.04411764673442907\n",
      "2011\n",
      "1950\n",
      "1913\n",
      "1315\n",
      "1170\n",
      "1164\n",
      "1134\n",
      "0.11992945315702869\n"
     ]
    },
    {
     "name": "stderr",
     "output_type": "stream",
     "text": [
      "C:\\Users\\gagan\\AppData\\Local\\Temp\\ipykernel_6308\\125688054.py:245: DeprecationWarning: The 'text' argument to find()-type methods is deprecated. Use 'string' instead.\n",
      "  texts = soup.findAll(text=True)\n"
     ]
    },
    {
     "name": "stdout",
     "output_type": "stream",
     "text": [
      "2726\n",
      "92\n",
      "29.630434782608695\n",
      "682\n",
      "the_number_of_words:  2726\n",
      "complex_words:  682\n",
      "percentage of complex word:  25.018341892883345\n",
      "Average_Sentence_Length: 29.630434782608695\n",
      "percentage of complex word:  25.018341892883345\n",
      "Fog Index : 21.85951067019682\n",
      "the_number_of_words:  2726\n",
      "sentence_length: 92\n",
      "Average_Number_of_Words_Per_Sentence: 29.630434782608695\n",
      "word count: 1097\n",
      "Count of Personal Pronoun: 2\n",
      "Sum_character: 10886\n",
      "the_number_of_words:  2726\n",
      "average_word_length: 3.9933969185619955\n",
      "3579\n",
      "None\n"
     ]
    },
    {
     "name": "stderr",
     "output_type": "stream",
     "text": [
      "C:\\Users\\gagan\\AppData\\Local\\Temp\\ipykernel_6308\\125688054.py:18: DeprecationWarning: The 'text' argument to find()-type methods is deprecated. Use 'string' instead.\n",
      "  texts = soup.findAll(text=True)\n"
     ]
    },
    {
     "name": "stdout",
     "output_type": "stream",
     "text": [
      "98\n",
      "24\n",
      "0.6065573720773986\n",
      "2215\n",
      "2124\n",
      "2078\n",
      "1413\n",
      "1265\n",
      "1260\n",
      "1218\n",
      "0.10016420353024284\n"
     ]
    },
    {
     "name": "stderr",
     "output_type": "stream",
     "text": [
      "C:\\Users\\gagan\\AppData\\Local\\Temp\\ipykernel_6308\\125688054.py:245: DeprecationWarning: The 'text' argument to find()-type methods is deprecated. Use 'string' instead.\n",
      "  texts = soup.findAll(text=True)\n"
     ]
    },
    {
     "name": "stdout",
     "output_type": "stream",
     "text": [
      "2733\n",
      "101\n",
      "27.059405940594058\n",
      "672\n",
      "the_number_of_words:  2733\n",
      "complex_words:  672\n",
      "percentage of complex word:  24.588364434687158\n",
      "Average_Sentence_Length: 27.059405940594058\n",
      "percentage of complex word:  24.588364434687158\n",
      "Fog Index : 20.659108150112488\n",
      "the_number_of_words:  2733\n",
      "sentence_length: 101\n",
      "Average_Number_of_Words_Per_Sentence: 27.059405940594058\n",
      "word count: 1178\n",
      "Count of Personal Pronoun: 1\n",
      "Sum_character: 11653\n",
      "the_number_of_words:  2733\n",
      "average_word_length: 4.2638126600804975\n",
      "3797\n",
      "None\n"
     ]
    },
    {
     "name": "stderr",
     "output_type": "stream",
     "text": [
      "C:\\Users\\gagan\\AppData\\Local\\Temp\\ipykernel_6308\\125688054.py:18: DeprecationWarning: The 'text' argument to find()-type methods is deprecated. Use 'string' instead.\n",
      "  texts = soup.findAll(text=True)\n"
     ]
    },
    {
     "name": "stdout",
     "output_type": "stream",
     "text": [
      "66\n",
      "51\n",
      "0.12820512710935789\n",
      "2237\n",
      "2142\n",
      "2107\n",
      "1508\n",
      "1385\n",
      "1380\n",
      "1306\n",
      "0.08958652366800418\n"
     ]
    },
    {
     "name": "stderr",
     "output_type": "stream",
     "text": [
      "C:\\Users\\gagan\\AppData\\Local\\Temp\\ipykernel_6308\\125688054.py:245: DeprecationWarning: The 'text' argument to find()-type methods is deprecated. Use 'string' instead.\n",
      "  texts = soup.findAll(text=True)\n"
     ]
    },
    {
     "name": "stdout",
     "output_type": "stream",
     "text": [
      "2722\n",
      "95\n",
      "28.652631578947368\n",
      "671\n",
      "the_number_of_words:  2722\n",
      "complex_words:  671\n",
      "percentage of complex word:  24.650991917707568\n",
      "Average_Sentence_Length: 28.652631578947368\n",
      "percentage of complex word:  24.650991917707568\n",
      "Fog Index : 21.321449398661976\n",
      "the_number_of_words:  2722\n",
      "sentence_length: 95\n",
      "Average_Number_of_Words_Per_Sentence: 28.652631578947368\n",
      "word count: 1270\n",
      "Count of Personal Pronoun: 1\n",
      "Sum_character: 12140\n",
      "the_number_of_words:  2722\n",
      "average_word_length: 4.459955914768552\n",
      "3951\n",
      "None\n"
     ]
    },
    {
     "name": "stderr",
     "output_type": "stream",
     "text": [
      "C:\\Users\\gagan\\AppData\\Local\\Temp\\ipykernel_6308\\125688054.py:18: DeprecationWarning: The 'text' argument to find()-type methods is deprecated. Use 'string' instead.\n",
      "  texts = soup.findAll(text=True)\n"
     ]
    },
    {
     "name": "stdout",
     "output_type": "stream",
     "text": [
      "73\n",
      "29\n",
      "0.4313725447904653\n",
      "2464\n",
      "2373\n",
      "2330\n",
      "1635\n",
      "1478\n",
      "1470\n",
      "1428\n",
      "0.07142857137855141\n"
     ]
    },
    {
     "name": "stderr",
     "output_type": "stream",
     "text": [
      "C:\\Users\\gagan\\AppData\\Local\\Temp\\ipykernel_6308\\125688054.py:245: DeprecationWarning: The 'text' argument to find()-type methods is deprecated. Use 'string' instead.\n",
      "  texts = soup.findAll(text=True)\n"
     ]
    },
    {
     "name": "stdout",
     "output_type": "stream",
     "text": [
      "2726\n",
      "95\n",
      "28.694736842105264\n",
      "678\n",
      "the_number_of_words:  2726\n",
      "complex_words:  678\n",
      "percentage of complex word:  24.87160674981658\n",
      "Average_Sentence_Length: 28.694736842105264\n",
      "percentage of complex word:  24.87160674981658\n",
      "Fog Index : 21.42653743676874\n",
      "the_number_of_words:  2726\n",
      "sentence_length: 95\n",
      "Average_Number_of_Words_Per_Sentence: 28.694736842105264\n",
      "word count: 1389\n",
      "Count of Personal Pronoun: 1\n",
      "Sum_character: 13726\n",
      "the_number_of_words:  2726\n",
      "average_word_length: 5.035216434336023\n",
      "4550\n",
      "None\n"
     ]
    },
    {
     "name": "stderr",
     "output_type": "stream",
     "text": [
      "C:\\Users\\gagan\\AppData\\Local\\Temp\\ipykernel_6308\\125688054.py:18: DeprecationWarning: The 'text' argument to find()-type methods is deprecated. Use 'string' instead.\n",
      "  texts = soup.findAll(text=True)\n"
     ]
    },
    {
     "name": "stdout",
     "output_type": "stream",
     "text": [
      "67\n",
      "75\n",
      "-0.05633802777226741\n",
      "2075\n",
      "2008\n",
      "1971\n",
      "1356\n",
      "1209\n",
      "1205\n",
      "1171\n",
      "0.1212638769246252\n"
     ]
    },
    {
     "name": "stderr",
     "output_type": "stream",
     "text": [
      "C:\\Users\\gagan\\AppData\\Local\\Temp\\ipykernel_6308\\125688054.py:245: DeprecationWarning: The 'text' argument to find()-type methods is deprecated. Use 'string' instead.\n",
      "  texts = soup.findAll(text=True)\n"
     ]
    },
    {
     "name": "stdout",
     "output_type": "stream",
     "text": [
      "2736\n",
      "101\n",
      "27.08910891089109\n",
      "681\n",
      "the_number_of_words:  2736\n",
      "complex_words:  681\n",
      "percentage of complex word:  24.890350877192983\n",
      "Average_Sentence_Length: 27.08910891089109\n",
      "percentage of complex word:  24.890350877192983\n",
      "Fog Index : 20.79178391523363\n",
      "the_number_of_words:  2736\n",
      "sentence_length: 101\n",
      "Average_Number_of_Words_Per_Sentence: 27.08910891089109\n",
      "word count: 1132\n",
      "Count of Personal Pronoun: 2\n",
      "Sum_character: 11224\n",
      "the_number_of_words:  2736\n",
      "average_word_length: 4.10233918128655\n",
      "3687\n",
      "None\n"
     ]
    },
    {
     "name": "stderr",
     "output_type": "stream",
     "text": [
      "C:\\Users\\gagan\\AppData\\Local\\Temp\\ipykernel_6308\\125688054.py:18: DeprecationWarning: The 'text' argument to find()-type methods is deprecated. Use 'string' instead.\n",
      "  texts = soup.findAll(text=True)\n"
     ]
    },
    {
     "name": "stdout",
     "output_type": "stream",
     "text": [
      "85\n",
      "44\n",
      "0.31782945490054687\n",
      "2625\n",
      "2532\n",
      "2489\n",
      "1651\n",
      "1480\n",
      "1473\n",
      "1385\n",
      "0.09314079415657704\n"
     ]
    },
    {
     "name": "stderr",
     "output_type": "stream",
     "text": [
      "C:\\Users\\gagan\\AppData\\Local\\Temp\\ipykernel_6308\\125688054.py:245: DeprecationWarning: The 'text' argument to find()-type methods is deprecated. Use 'string' instead.\n",
      "  texts = soup.findAll(text=True)\n"
     ]
    },
    {
     "name": "stdout",
     "output_type": "stream",
     "text": [
      "2727\n",
      "98\n",
      "27.8265306122449\n",
      "672\n",
      "the_number_of_words:  2727\n",
      "complex_words:  672\n",
      "percentage of complex word:  24.64246424642464\n",
      "Average_Sentence_Length: 27.8265306122449\n",
      "percentage of complex word:  24.64246424642464\n",
      "Fog Index : 20.98759794346782\n",
      "the_number_of_words:  2727\n",
      "sentence_length: 98\n",
      "Average_Number_of_Words_Per_Sentence: 27.8265306122449\n",
      "word count: 1336\n",
      "Count of Personal Pronoun: 1\n",
      "Sum_character: 13798\n",
      "the_number_of_words:  2727\n",
      "average_word_length: 5.05977264393106\n",
      "4572\n",
      "None\n"
     ]
    },
    {
     "name": "stderr",
     "output_type": "stream",
     "text": [
      "C:\\Users\\gagan\\AppData\\Local\\Temp\\ipykernel_6308\\125688054.py:18: DeprecationWarning: The 'text' argument to find()-type methods is deprecated. Use 'string' instead.\n",
      "  texts = soup.findAll(text=True)\n"
     ]
    },
    {
     "name": "stdout",
     "output_type": "stream",
     "text": [
      "57\n",
      "20\n",
      "0.4805194742789679\n",
      "1831\n",
      "1748\n",
      "1715\n",
      "1243\n",
      "1156\n",
      "1142\n",
      "1110\n",
      "0.06936936930687443\n"
     ]
    },
    {
     "name": "stderr",
     "output_type": "stream",
     "text": [
      "C:\\Users\\gagan\\AppData\\Local\\Temp\\ipykernel_6308\\125688054.py:245: DeprecationWarning: The 'text' argument to find()-type methods is deprecated. Use 'string' instead.\n",
      "  texts = soup.findAll(text=True)\n"
     ]
    },
    {
     "name": "stdout",
     "output_type": "stream",
     "text": [
      "2735\n",
      "101\n",
      "27.07920792079208\n",
      "672\n",
      "the_number_of_words:  2735\n",
      "complex_words:  672\n",
      "percentage of complex word:  24.570383912248627\n",
      "Average_Sentence_Length: 27.07920792079208\n",
      "percentage of complex word:  24.570383912248627\n",
      "Fog Index : 20.65983673321628\n",
      "the_number_of_words:  2735\n",
      "sentence_length: 101\n",
      "Average_Number_of_Words_Per_Sentence: 27.07920792079208\n",
      "word count: 1073\n",
      "Count of Personal Pronoun: 1\n",
      "Sum_character: 10364\n",
      "the_number_of_words:  2735\n",
      "average_word_length: 3.789396709323583\n",
      "3393\n",
      "None\n"
     ]
    },
    {
     "name": "stderr",
     "output_type": "stream",
     "text": [
      "C:\\Users\\gagan\\AppData\\Local\\Temp\\ipykernel_6308\\125688054.py:18: DeprecationWarning: The 'text' argument to find()-type methods is deprecated. Use 'string' instead.\n",
      "  texts = soup.findAll(text=True)\n"
     ]
    },
    {
     "name": "stdout",
     "output_type": "stream",
     "text": [
      "72\n",
      "28\n",
      "0.4399999956000001\n",
      "2245\n",
      "2149\n",
      "2109\n",
      "1506\n",
      "1394\n",
      "1371\n",
      "1319\n",
      "0.07581501131477254\n"
     ]
    },
    {
     "name": "stderr",
     "output_type": "stream",
     "text": [
      "C:\\Users\\gagan\\AppData\\Local\\Temp\\ipykernel_6308\\125688054.py:245: DeprecationWarning: The 'text' argument to find()-type methods is deprecated. Use 'string' instead.\n",
      "  texts = soup.findAll(text=True)\n"
     ]
    },
    {
     "name": "stdout",
     "output_type": "stream",
     "text": [
      "2735\n",
      "98\n",
      "27.908163265306122\n",
      "678\n",
      "the_number_of_words:  2735\n",
      "complex_words:  678\n",
      "percentage of complex word:  24.789762340036564\n",
      "Average_Sentence_Length: 27.908163265306122\n",
      "percentage of complex word:  24.789762340036564\n",
      "Fog Index : 21.079170242137078\n",
      "the_number_of_words:  2735\n",
      "sentence_length: 98\n",
      "Average_Number_of_Words_Per_Sentence: 27.908163265306122\n",
      "word count: 1281\n",
      "Count of Personal Pronoun: 1\n",
      "Sum_character: 12776\n",
      "the_number_of_words:  2735\n",
      "average_word_length: 4.671297989031078\n",
      "4193\n",
      "None\n"
     ]
    },
    {
     "name": "stderr",
     "output_type": "stream",
     "text": [
      "C:\\Users\\gagan\\AppData\\Local\\Temp\\ipykernel_6308\\125688054.py:18: DeprecationWarning: The 'text' argument to find()-type methods is deprecated. Use 'string' instead.\n",
      "  texts = soup.findAll(text=True)\n"
     ]
    },
    {
     "name": "stdout",
     "output_type": "stream",
     "text": [
      "72\n",
      "53\n",
      "0.151999998784\n",
      "2757\n",
      "2647\n",
      "2600\n",
      "1790\n",
      "1611\n",
      "1600\n",
      "1544\n",
      "0.08095854917036363\n"
     ]
    },
    {
     "name": "stderr",
     "output_type": "stream",
     "text": [
      "C:\\Users\\gagan\\AppData\\Local\\Temp\\ipykernel_6308\\125688054.py:245: DeprecationWarning: The 'text' argument to find()-type methods is deprecated. Use 'string' instead.\n",
      "  texts = soup.findAll(text=True)\n"
     ]
    },
    {
     "name": "stdout",
     "output_type": "stream",
     "text": [
      "2734\n",
      "104\n",
      "26.28846153846154\n",
      "676\n",
      "the_number_of_words:  2734\n",
      "complex_words:  676\n",
      "percentage of complex word:  24.72567666422824\n",
      "Average_Sentence_Length: 26.28846153846154\n",
      "percentage of complex word:  24.72567666422824\n",
      "Fog Index : 20.405655281075912\n",
      "the_number_of_words:  2734\n",
      "sentence_length: 104\n",
      "Average_Number_of_Words_Per_Sentence: 26.28846153846154\n",
      "word count: 1482\n",
      "Count of Personal Pronoun: 1\n",
      "Sum_character: 14975\n",
      "the_number_of_words:  2734\n",
      "average_word_length: 5.477322604242867\n",
      "4928\n",
      "None\n"
     ]
    },
    {
     "name": "stderr",
     "output_type": "stream",
     "text": [
      "C:\\Users\\gagan\\AppData\\Local\\Temp\\ipykernel_6308\\125688054.py:18: DeprecationWarning: The 'text' argument to find()-type methods is deprecated. Use 'string' instead.\n",
      "  texts = soup.findAll(text=True)\n"
     ]
    },
    {
     "name": "stdout",
     "output_type": "stream",
     "text": [
      "71\n",
      "19\n",
      "0.5777777713580248\n",
      "4504\n",
      "4336\n",
      "4149\n",
      "3018\n",
      "2850\n",
      "2761\n",
      "2600\n",
      "0.03461538460207101\n"
     ]
    },
    {
     "name": "stderr",
     "output_type": "stream",
     "text": [
      "C:\\Users\\gagan\\AppData\\Local\\Temp\\ipykernel_6308\\125688054.py:245: DeprecationWarning: The 'text' argument to find()-type methods is deprecated. Use 'string' instead.\n",
      "  texts = soup.findAll(text=True)\n"
     ]
    },
    {
     "name": "stdout",
     "output_type": "stream",
     "text": [
      "2717\n",
      "92\n",
      "29.532608695652176\n",
      "674\n",
      "the_number_of_words:  2717\n",
      "complex_words:  674\n",
      "percentage of complex word:  24.806772175193228\n",
      "Average_Sentence_Length: 29.532608695652176\n",
      "percentage of complex word:  24.806772175193228\n",
      "Fog Index : 21.735752348338163\n",
      "the_number_of_words:  2717\n",
      "sentence_length: 92\n",
      "Average_Number_of_Words_Per_Sentence: 29.532608695652176\n",
      "word count: 2393\n",
      "Count of Personal Pronoun: 6\n",
      "Sum_character: 23529\n",
      "the_number_of_words:  2717\n",
      "average_word_length: 8.65991902834008\n",
      "7366\n",
      "None\n"
     ]
    },
    {
     "name": "stderr",
     "output_type": "stream",
     "text": [
      "C:\\Users\\gagan\\AppData\\Local\\Temp\\ipykernel_6308\\125688054.py:18: DeprecationWarning: The 'text' argument to find()-type methods is deprecated. Use 'string' instead.\n",
      "  texts = soup.findAll(text=True)\n"
     ]
    },
    {
     "name": "stdout",
     "output_type": "stream",
     "text": [
      "71\n",
      "50\n",
      "0.17355371757393623\n",
      "2807\n",
      "2710\n",
      "2660\n",
      "1750\n",
      "1573\n",
      "1555\n",
      "1499\n",
      "0.08072048026636391\n"
     ]
    },
    {
     "name": "stderr",
     "output_type": "stream",
     "text": [
      "C:\\Users\\gagan\\AppData\\Local\\Temp\\ipykernel_6308\\125688054.py:245: DeprecationWarning: The 'text' argument to find()-type methods is deprecated. Use 'string' instead.\n",
      "  texts = soup.findAll(text=True)\n"
     ]
    },
    {
     "name": "stdout",
     "output_type": "stream",
     "text": [
      "2727\n",
      "101\n",
      "27.0\n",
      "676\n",
      "the_number_of_words:  2727\n",
      "complex_words:  676\n",
      "percentage of complex word:  24.78914558122479\n",
      "Average_Sentence_Length: 27.0\n",
      "percentage of complex word:  24.78914558122479\n",
      "Fog Index : 20.715658232489915\n",
      "the_number_of_words:  2727\n",
      "sentence_length: 101\n",
      "Average_Number_of_Words_Per_Sentence: 27.0\n",
      "word count: 1461\n",
      "Count of Personal Pronoun: 2\n",
      "Sum_character: 15162\n",
      "the_number_of_words:  2727\n",
      "average_word_length: 5.55995599559956\n",
      "5076\n",
      "None\n"
     ]
    },
    {
     "name": "stderr",
     "output_type": "stream",
     "text": [
      "C:\\Users\\gagan\\AppData\\Local\\Temp\\ipykernel_6308\\125688054.py:18: DeprecationWarning: The 'text' argument to find()-type methods is deprecated. Use 'string' instead.\n",
      "  texts = soup.findAll(text=True)\n"
     ]
    },
    {
     "name": "stdout",
     "output_type": "stream",
     "text": [
      "64\n",
      "61\n",
      "0.023999999808\n",
      "2547\n",
      "2438\n",
      "2395\n",
      "1745\n",
      "1594\n",
      "1586\n",
      "1544\n",
      "0.08095854917036363\n"
     ]
    },
    {
     "name": "stderr",
     "output_type": "stream",
     "text": [
      "C:\\Users\\gagan\\AppData\\Local\\Temp\\ipykernel_6308\\125688054.py:245: DeprecationWarning: The 'text' argument to find()-type methods is deprecated. Use 'string' instead.\n",
      "  texts = soup.findAll(text=True)\n"
     ]
    },
    {
     "name": "stdout",
     "output_type": "stream",
     "text": [
      "2724\n",
      "93\n",
      "29.29032258064516\n",
      "672\n",
      "the_number_of_words:  2724\n",
      "complex_words:  672\n",
      "percentage of complex word:  24.669603524229075\n",
      "Average_Sentence_Length: 29.29032258064516\n",
      "percentage of complex word:  24.669603524229075\n",
      "Fog Index : 21.583970441949695\n",
      "the_number_of_words:  2724\n",
      "sentence_length: 93\n",
      "Average_Number_of_Words_Per_Sentence: 29.29032258064516\n",
      "word count: 1507\n",
      "Count of Personal Pronoun: 1\n",
      "Sum_character: 14733\n",
      "the_number_of_words:  2724\n",
      "average_word_length: 5.408590308370044\n",
      "4892\n",
      "None\n"
     ]
    },
    {
     "name": "stderr",
     "output_type": "stream",
     "text": [
      "C:\\Users\\gagan\\AppData\\Local\\Temp\\ipykernel_6308\\125688054.py:18: DeprecationWarning: The 'text' argument to find()-type methods is deprecated. Use 'string' instead.\n",
      "  texts = soup.findAll(text=True)\n"
     ]
    },
    {
     "name": "stdout",
     "output_type": "stream",
     "text": [
      "40\n",
      "10\n",
      "0.5999999880000003\n",
      "1259\n",
      "1191\n",
      "1155\n",
      "904\n",
      "851\n",
      "843\n",
      "819\n",
      "0.06105006097551885\n"
     ]
    },
    {
     "name": "stderr",
     "output_type": "stream",
     "text": [
      "C:\\Users\\gagan\\AppData\\Local\\Temp\\ipykernel_6308\\125688054.py:245: DeprecationWarning: The 'text' argument to find()-type methods is deprecated. Use 'string' instead.\n",
      "  texts = soup.findAll(text=True)\n"
     ]
    },
    {
     "name": "stdout",
     "output_type": "stream",
     "text": [
      "2740\n",
      "104\n",
      "26.346153846153847\n",
      "680\n",
      "the_number_of_words:  2740\n",
      "complex_words:  680\n",
      "percentage of complex word:  24.817518248175183\n",
      "Average_Sentence_Length: 26.346153846153847\n",
      "percentage of complex word:  24.817518248175183\n",
      "Fog Index : 20.465468837731613\n",
      "the_number_of_words:  2740\n",
      "sentence_length: 104\n",
      "Average_Number_of_Words_Per_Sentence: 26.346153846153847\n",
      "word count: 781\n",
      "Count of Personal Pronoun: 1\n",
      "Sum_character: 7303\n",
      "the_number_of_words:  2740\n",
      "average_word_length: 2.6653284671532846\n",
      "2367\n",
      "None\n"
     ]
    },
    {
     "name": "stderr",
     "output_type": "stream",
     "text": [
      "C:\\Users\\gagan\\AppData\\Local\\Temp\\ipykernel_6308\\125688054.py:18: DeprecationWarning: The 'text' argument to find()-type methods is deprecated. Use 'string' instead.\n",
      "  texts = soup.findAll(text=True)\n"
     ]
    },
    {
     "name": "stdout",
     "output_type": "stream",
     "text": [
      "81\n",
      "12\n",
      "0.741935475893167\n",
      "2064\n",
      "1979\n",
      "1938\n",
      "1412\n",
      "1265\n",
      "1257\n",
      "1227\n",
      "0.07579462096512256\n"
     ]
    },
    {
     "name": "stderr",
     "output_type": "stream",
     "text": [
      "C:\\Users\\gagan\\AppData\\Local\\Temp\\ipykernel_6308\\125688054.py:245: DeprecationWarning: The 'text' argument to find()-type methods is deprecated. Use 'string' instead.\n",
      "  texts = soup.findAll(text=True)\n"
     ]
    },
    {
     "name": "stdout",
     "output_type": "stream",
     "text": [
      "2722\n",
      "96\n",
      "28.354166666666668\n",
      "673\n",
      "the_number_of_words:  2722\n",
      "complex_words:  673\n",
      "percentage of complex word:  24.72446730345334\n",
      "Average_Sentence_Length: 28.354166666666668\n",
      "percentage of complex word:  24.72446730345334\n",
      "Fog Index : 21.231453588048005\n",
      "the_number_of_words:  2722\n",
      "sentence_length: 96\n",
      "Average_Number_of_Words_Per_Sentence: 28.354166666666668\n",
      "word count: 1189\n",
      "Count of Personal Pronoun: 1\n",
      "Sum_character: 11439\n",
      "the_number_of_words:  2722\n",
      "average_word_length: 4.202424687729611\n",
      "3692\n",
      "None\n"
     ]
    },
    {
     "name": "stderr",
     "output_type": "stream",
     "text": [
      "C:\\Users\\gagan\\AppData\\Local\\Temp\\ipykernel_6308\\125688054.py:18: DeprecationWarning: The 'text' argument to find()-type methods is deprecated. Use 'string' instead.\n",
      "  texts = soup.findAll(text=True)\n"
     ]
    },
    {
     "name": "stdout",
     "output_type": "stream",
     "text": [
      "80\n",
      "38\n",
      "0.3559322003734559\n",
      "2870\n",
      "2765\n",
      "2716\n",
      "1746\n",
      "1498\n",
      "1493\n",
      "1436\n",
      "0.08217270189263738\n"
     ]
    },
    {
     "name": "stderr",
     "output_type": "stream",
     "text": [
      "C:\\Users\\gagan\\AppData\\Local\\Temp\\ipykernel_6308\\125688054.py:245: DeprecationWarning: The 'text' argument to find()-type methods is deprecated. Use 'string' instead.\n",
      "  texts = soup.findAll(text=True)\n"
     ]
    },
    {
     "name": "stdout",
     "output_type": "stream",
     "text": [
      "2725\n",
      "98\n",
      "27.806122448979593\n",
      "675\n",
      "the_number_of_words:  2725\n",
      "complex_words:  675\n",
      "percentage of complex word:  24.770642201834864\n",
      "Average_Sentence_Length: 27.806122448979593\n",
      "percentage of complex word:  24.770642201834864\n",
      "Fog Index : 21.03070586032578\n",
      "the_number_of_words:  2725\n",
      "sentence_length: 98\n",
      "Average_Number_of_Words_Per_Sentence: 27.806122448979593\n",
      "word count: 1398\n",
      "Count of Personal Pronoun: 1\n",
      "Sum_character: 15314\n",
      "the_number_of_words:  2725\n",
      "average_word_length: 5.619816513761468\n",
      "5085\n",
      "None\n"
     ]
    },
    {
     "name": "stderr",
     "output_type": "stream",
     "text": [
      "C:\\Users\\gagan\\AppData\\Local\\Temp\\ipykernel_6308\\125688054.py:18: DeprecationWarning: The 'text' argument to find()-type methods is deprecated. Use 'string' instead.\n",
      "  texts = soup.findAll(text=True)\n"
     ]
    },
    {
     "name": "stdout",
     "output_type": "stream",
     "text": [
      "86\n",
      "23\n",
      "0.5779816460735628\n",
      "2809\n",
      "2715\n",
      "2667\n",
      "1832\n",
      "1632\n",
      "1628\n",
      "1557\n",
      "0.0700064225626163\n"
     ]
    },
    {
     "name": "stderr",
     "output_type": "stream",
     "text": [
      "C:\\Users\\gagan\\AppData\\Local\\Temp\\ipykernel_6308\\125688054.py:245: DeprecationWarning: The 'text' argument to find()-type methods is deprecated. Use 'string' instead.\n",
      "  texts = soup.findAll(text=True)\n"
     ]
    },
    {
     "name": "stdout",
     "output_type": "stream",
     "text": [
      "2718\n",
      "96\n",
      "28.3125\n",
      "672\n",
      "the_number_of_words:  2718\n",
      "complex_words:  672\n",
      "percentage of complex word:  24.724061810154527\n",
      "Average_Sentence_Length: 28.3125\n",
      "percentage of complex word:  24.724061810154527\n",
      "Fog Index : 21.21462472406181\n",
      "the_number_of_words:  2718\n",
      "sentence_length: 96\n",
      "Average_Number_of_Words_Per_Sentence: 28.3125\n",
      "word count: 1519\n",
      "Count of Personal Pronoun: 1\n",
      "Sum_character: 15360\n",
      "the_number_of_words:  2718\n",
      "average_word_length: 5.6512141280353205\n",
      "5036\n",
      "None\n"
     ]
    },
    {
     "name": "stderr",
     "output_type": "stream",
     "text": [
      "C:\\Users\\gagan\\AppData\\Local\\Temp\\ipykernel_6308\\125688054.py:18: DeprecationWarning: The 'text' argument to find()-type methods is deprecated. Use 'string' instead.\n",
      "  texts = soup.findAll(text=True)\n"
     ]
    },
    {
     "name": "stdout",
     "output_type": "stream",
     "text": [
      "66\n",
      "38\n",
      "0.26923076664201184\n",
      "2134\n",
      "2046\n",
      "2009\n",
      "1451\n",
      "1310\n",
      "1291\n",
      "1240\n",
      "0.0838709676742976\n"
     ]
    },
    {
     "name": "stderr",
     "output_type": "stream",
     "text": [
      "C:\\Users\\gagan\\AppData\\Local\\Temp\\ipykernel_6308\\125688054.py:245: DeprecationWarning: The 'text' argument to find()-type methods is deprecated. Use 'string' instead.\n",
      "  texts = soup.findAll(text=True)\n"
     ]
    },
    {
     "name": "stdout",
     "output_type": "stream",
     "text": [
      "2735\n",
      "98\n",
      "27.908163265306122\n",
      "678\n",
      "the_number_of_words:  2735\n",
      "complex_words:  678\n",
      "percentage of complex word:  24.789762340036564\n",
      "Average_Sentence_Length: 27.908163265306122\n",
      "percentage of complex word:  24.789762340036564\n",
      "Fog Index : 21.079170242137078\n",
      "the_number_of_words:  2735\n",
      "sentence_length: 98\n",
      "Average_Number_of_Words_Per_Sentence: 27.908163265306122\n",
      "word count: 1200\n",
      "Count of Personal Pronoun: 1\n",
      "Sum_character: 11792\n",
      "the_number_of_words:  2735\n",
      "average_word_length: 4.311517367458866\n",
      "3850\n",
      "None\n"
     ]
    },
    {
     "name": "stderr",
     "output_type": "stream",
     "text": [
      "C:\\Users\\gagan\\AppData\\Local\\Temp\\ipykernel_6308\\125688054.py:18: DeprecationWarning: The 'text' argument to find()-type methods is deprecated. Use 'string' instead.\n",
      "  texts = soup.findAll(text=True)\n"
     ]
    },
    {
     "name": "stdout",
     "output_type": "stream",
     "text": [
      "56\n",
      "48\n",
      "0.07692307618343196\n",
      "2829\n",
      "2721\n",
      "2659\n",
      "1870\n",
      "1727\n",
      "1709\n",
      "1637\n",
      "0.06353084907542403\n"
     ]
    },
    {
     "name": "stderr",
     "output_type": "stream",
     "text": [
      "C:\\Users\\gagan\\AppData\\Local\\Temp\\ipykernel_6308\\125688054.py:245: DeprecationWarning: The 'text' argument to find()-type methods is deprecated. Use 'string' instead.\n",
      "  texts = soup.findAll(text=True)\n"
     ]
    },
    {
     "name": "stdout",
     "output_type": "stream",
     "text": [
      "2737\n",
      "101\n",
      "27.099009900990097\n",
      "674\n",
      "the_number_of_words:  2737\n",
      "complex_words:  674\n",
      "percentage of complex word:  24.62550237486299\n",
      "Average_Sentence_Length: 27.099009900990097\n",
      "percentage of complex word:  24.62550237486299\n",
      "Fog Index : 20.689804910341238\n",
      "the_number_of_words:  2737\n",
      "sentence_length: 101\n",
      "Average_Number_of_Words_Per_Sentence: 27.099009900990097\n",
      "word count: 1593\n",
      "Count of Personal Pronoun: 1\n",
      "Sum_character: 15691\n",
      "the_number_of_words:  2737\n",
      "average_word_length: 5.732919254658385\n",
      "5104\n",
      "None\n"
     ]
    },
    {
     "name": "stderr",
     "output_type": "stream",
     "text": [
      "C:\\Users\\gagan\\AppData\\Local\\Temp\\ipykernel_6308\\125688054.py:18: DeprecationWarning: The 'text' argument to find()-type methods is deprecated. Use 'string' instead.\n",
      "  texts = soup.findAll(text=True)\n"
     ]
    },
    {
     "name": "stdout",
     "output_type": "stream",
     "text": [
      "53\n",
      "45\n",
      "0.08163265222823825\n",
      "2002\n",
      "1926\n",
      "1884\n",
      "1341\n",
      "1229\n",
      "1221\n",
      "1181\n",
      "0.08298052490856855\n"
     ]
    },
    {
     "name": "stderr",
     "output_type": "stream",
     "text": [
      "C:\\Users\\gagan\\AppData\\Local\\Temp\\ipykernel_6308\\125688054.py:245: DeprecationWarning: The 'text' argument to find()-type methods is deprecated. Use 'string' instead.\n",
      "  texts = soup.findAll(text=True)\n"
     ]
    },
    {
     "name": "stdout",
     "output_type": "stream",
     "text": [
      "2730\n",
      "96\n",
      "28.4375\n",
      "670\n",
      "the_number_of_words:  2730\n",
      "complex_words:  670\n",
      "percentage of complex word:  24.54212454212454\n",
      "Average_Sentence_Length: 28.4375\n",
      "percentage of complex word:  24.54212454212454\n",
      "Fog Index : 21.191849816849818\n",
      "the_number_of_words:  2730\n",
      "sentence_length: 96\n",
      "Average_Number_of_Words_Per_Sentence: 28.4375\n",
      "word count: 1144\n",
      "Count of Personal Pronoun: 1\n",
      "Sum_character: 11092\n",
      "the_number_of_words:  2730\n",
      "average_word_length: 4.063003663003663\n",
      "3638\n",
      "None\n"
     ]
    },
    {
     "name": "stderr",
     "output_type": "stream",
     "text": [
      "C:\\Users\\gagan\\AppData\\Local\\Temp\\ipykernel_6308\\125688054.py:18: DeprecationWarning: The 'text' argument to find()-type methods is deprecated. Use 'string' instead.\n",
      "  texts = soup.findAll(text=True)\n"
     ]
    },
    {
     "name": "stdout",
     "output_type": "stream",
     "text": [
      "77\n",
      "48\n",
      "0.23199999814400002\n",
      "2252\n",
      "2150\n",
      "2110\n",
      "1432\n",
      "1288\n",
      "1279\n",
      "1247\n",
      "0.10024057730534035\n"
     ]
    },
    {
     "name": "stderr",
     "output_type": "stream",
     "text": [
      "C:\\Users\\gagan\\AppData\\Local\\Temp\\ipykernel_6308\\125688054.py:245: DeprecationWarning: The 'text' argument to find()-type methods is deprecated. Use 'string' instead.\n",
      "  texts = soup.findAll(text=True)\n"
     ]
    },
    {
     "name": "stdout",
     "output_type": "stream",
     "text": [
      "2717\n",
      "95\n",
      "28.6\n",
      "670\n",
      "the_number_of_words:  2717\n",
      "complex_words:  670\n",
      "percentage of complex word:  24.65955097534045\n",
      "Average_Sentence_Length: 28.6\n",
      "percentage of complex word:  24.65955097534045\n",
      "Fog Index : 21.30382039013618\n",
      "the_number_of_words:  2717\n",
      "sentence_length: 95\n",
      "Average_Number_of_Words_Per_Sentence: 28.6\n",
      "word count: 1211\n",
      "Count of Personal Pronoun: 1\n",
      "Sum_character: 12113\n",
      "the_number_of_words:  2717\n",
      "average_word_length: 4.458225984541774\n",
      "4032\n",
      "None\n"
     ]
    },
    {
     "name": "stderr",
     "output_type": "stream",
     "text": [
      "C:\\Users\\gagan\\AppData\\Local\\Temp\\ipykernel_6308\\125688054.py:18: DeprecationWarning: The 'text' argument to find()-type methods is deprecated. Use 'string' instead.\n",
      "  texts = soup.findAll(text=True)\n"
     ]
    },
    {
     "name": "stdout",
     "output_type": "stream",
     "text": [
      "68\n",
      "35\n",
      "0.32038834640399666\n",
      "2135\n",
      "2041\n",
      "1999\n",
      "1416\n",
      "1230\n",
      "1222\n",
      "1174\n",
      "0.08773424183327576\n"
     ]
    },
    {
     "name": "stderr",
     "output_type": "stream",
     "text": [
      "C:\\Users\\gagan\\AppData\\Local\\Temp\\ipykernel_6308\\125688054.py:245: DeprecationWarning: The 'text' argument to find()-type methods is deprecated. Use 'string' instead.\n",
      "  texts = soup.findAll(text=True)\n"
     ]
    },
    {
     "name": "stdout",
     "output_type": "stream",
     "text": [
      "2717\n",
      "93\n",
      "29.21505376344086\n",
      "669\n",
      "the_number_of_words:  2717\n",
      "complex_words:  669\n",
      "percentage of complex word:  24.622745675377256\n",
      "Average_Sentence_Length: 29.21505376344086\n",
      "percentage of complex word:  24.622745675377256\n",
      "Fog Index : 21.53511977552725\n",
      "the_number_of_words:  2717\n",
      "sentence_length: 93\n",
      "Average_Number_of_Words_Per_Sentence: 29.21505376344086\n",
      "word count: 1137\n",
      "Count of Personal Pronoun: 2\n",
      "Sum_character: 11639\n",
      "the_number_of_words:  2717\n",
      "average_word_length: 4.283768862716231\n",
      "3862\n",
      "None\n"
     ]
    },
    {
     "name": "stderr",
     "output_type": "stream",
     "text": [
      "C:\\Users\\gagan\\AppData\\Local\\Temp\\ipykernel_6308\\125688054.py:18: DeprecationWarning: The 'text' argument to find()-type methods is deprecated. Use 'string' instead.\n",
      "  texts = soup.findAll(text=True)\n"
     ]
    },
    {
     "name": "stdout",
     "output_type": "stream",
     "text": [
      "63\n",
      "46\n",
      "0.1559633013214376\n",
      "2358\n",
      "2249\n",
      "2197\n",
      "1633\n",
      "1511\n",
      "1476\n",
      "1428\n",
      "0.07633053215943239\n"
     ]
    },
    {
     "name": "stderr",
     "output_type": "stream",
     "text": [
      "C:\\Users\\gagan\\AppData\\Local\\Temp\\ipykernel_6308\\125688054.py:245: DeprecationWarning: The 'text' argument to find()-type methods is deprecated. Use 'string' instead.\n",
      "  texts = soup.findAll(text=True)\n"
     ]
    },
    {
     "name": "stdout",
     "output_type": "stream",
     "text": [
      "2727\n",
      "98\n",
      "27.8265306122449\n",
      "680\n",
      "the_number_of_words:  2727\n",
      "complex_words:  680\n",
      "percentage of complex word:  24.935826916024936\n",
      "Average_Sentence_Length: 27.8265306122449\n",
      "percentage of complex word:  24.935826916024936\n",
      "Fog Index : 21.104943011307935\n",
      "the_number_of_words:  2727\n",
      "sentence_length: 98\n",
      "Average_Number_of_Words_Per_Sentence: 27.8265306122449\n",
      "word count: 1390\n",
      "Count of Personal Pronoun: 1\n",
      "Sum_character: 13253\n",
      "the_number_of_words:  2727\n",
      "average_word_length: 4.85991932526586\n",
      "4328\n",
      "None\n"
     ]
    },
    {
     "name": "stderr",
     "output_type": "stream",
     "text": [
      "C:\\Users\\gagan\\AppData\\Local\\Temp\\ipykernel_6308\\125688054.py:18: DeprecationWarning: The 'text' argument to find()-type methods is deprecated. Use 'string' instead.\n",
      "  texts = soup.findAll(text=True)\n"
     ]
    },
    {
     "name": "stdout",
     "output_type": "stream",
     "text": [
      "44\n",
      "10\n",
      "0.6296296179698219\n",
      "1242\n",
      "1179\n",
      "1144\n",
      "874\n",
      "823\n",
      "813\n",
      "789\n",
      "0.0684410645520392\n"
     ]
    },
    {
     "name": "stderr",
     "output_type": "stream",
     "text": [
      "C:\\Users\\gagan\\AppData\\Local\\Temp\\ipykernel_6308\\125688054.py:245: DeprecationWarning: The 'text' argument to find()-type methods is deprecated. Use 'string' instead.\n",
      "  texts = soup.findAll(text=True)\n"
     ]
    },
    {
     "name": "stdout",
     "output_type": "stream",
     "text": [
      "2732\n",
      "95\n",
      "28.757894736842104\n",
      "681\n",
      "the_number_of_words:  2732\n",
      "complex_words:  681\n",
      "percentage of complex word:  24.92679355783309\n",
      "Average_Sentence_Length: 28.757894736842104\n",
      "percentage of complex word:  24.92679355783309\n",
      "Fog Index : 21.473875317870082\n",
      "the_number_of_words:  2732\n",
      "sentence_length: 95\n",
      "Average_Number_of_Words_Per_Sentence: 28.757894736842104\n",
      "word count: 752\n",
      "Count of Personal Pronoun: 1\n",
      "Sum_character: 7076\n",
      "the_number_of_words:  2732\n",
      "average_word_length: 2.5900439238653004\n",
      "2300\n",
      "None\n"
     ]
    },
    {
     "name": "stderr",
     "output_type": "stream",
     "text": [
      "C:\\Users\\gagan\\AppData\\Local\\Temp\\ipykernel_6308\\125688054.py:18: DeprecationWarning: The 'text' argument to find()-type methods is deprecated. Use 'string' instead.\n",
      "  texts = soup.findAll(text=True)\n"
     ]
    },
    {
     "name": "stdout",
     "output_type": "stream",
     "text": [
      "66\n",
      "51\n",
      "0.12820512710935789\n",
      "2177\n",
      "2085\n",
      "2040\n",
      "1421\n",
      "1297\n",
      "1289\n",
      "1236\n",
      "0.09466019409817135\n"
     ]
    },
    {
     "name": "stderr",
     "output_type": "stream",
     "text": [
      "C:\\Users\\gagan\\AppData\\Local\\Temp\\ipykernel_6308\\125688054.py:245: DeprecationWarning: The 'text' argument to find()-type methods is deprecated. Use 'string' instead.\n",
      "  texts = soup.findAll(text=True)\n"
     ]
    },
    {
     "name": "stdout",
     "output_type": "stream",
     "text": [
      "2724\n",
      "96\n",
      "28.375\n",
      "667\n",
      "the_number_of_words:  2724\n",
      "complex_words:  667\n",
      "percentage of complex word:  24.48604992657856\n",
      "Average_Sentence_Length: 28.375\n",
      "percentage of complex word:  24.48604992657856\n",
      "Fog Index : 21.144419970631425\n",
      "the_number_of_words:  2724\n",
      "sentence_length: 96\n",
      "Average_Number_of_Words_Per_Sentence: 28.375\n",
      "word count: 1197\n",
      "Count of Personal Pronoun: 1\n",
      "Sum_character: 11698\n",
      "the_number_of_words:  2724\n",
      "average_word_length: 4.2944199706314246\n",
      "3867\n",
      "None\n"
     ]
    },
    {
     "name": "stderr",
     "output_type": "stream",
     "text": [
      "C:\\Users\\gagan\\AppData\\Local\\Temp\\ipykernel_6308\\125688054.py:18: DeprecationWarning: The 'text' argument to find()-type methods is deprecated. Use 'string' instead.\n",
      "  texts = soup.findAll(text=True)\n"
     ]
    },
    {
     "name": "stdout",
     "output_type": "stream",
     "text": [
      "50\n",
      "31\n",
      "0.23456789833866792\n",
      "1684\n",
      "1618\n",
      "1578\n",
      "1171\n",
      "1087\n",
      "1081\n",
      "1047\n",
      "0.07736389677424652\n"
     ]
    },
    {
     "name": "stderr",
     "output_type": "stream",
     "text": [
      "C:\\Users\\gagan\\AppData\\Local\\Temp\\ipykernel_6308\\125688054.py:245: DeprecationWarning: The 'text' argument to find()-type methods is deprecated. Use 'string' instead.\n",
      "  texts = soup.findAll(text=True)\n"
     ]
    },
    {
     "name": "stdout",
     "output_type": "stream",
     "text": [
      "2717\n",
      "99\n",
      "27.444444444444443\n",
      "676\n",
      "the_number_of_words:  2717\n",
      "complex_words:  676\n",
      "percentage of complex word:  24.880382775119617\n",
      "Average_Sentence_Length: 27.444444444444443\n",
      "percentage of complex word:  24.880382775119617\n",
      "Fog Index : 20.929930887825623\n",
      "the_number_of_words:  2717\n",
      "sentence_length: 99\n",
      "Average_Number_of_Words_Per_Sentence: 27.444444444444443\n",
      "word count: 1001\n",
      "Count of Personal Pronoun: 2\n",
      "Sum_character: 9433\n",
      "the_number_of_words:  2717\n",
      "average_word_length: 3.471843945528156\n",
      "3076\n",
      "None\n"
     ]
    },
    {
     "name": "stderr",
     "output_type": "stream",
     "text": [
      "C:\\Users\\gagan\\AppData\\Local\\Temp\\ipykernel_6308\\125688054.py:18: DeprecationWarning: The 'text' argument to find()-type methods is deprecated. Use 'string' instead.\n",
      "  texts = soup.findAll(text=True)\n"
     ]
    },
    {
     "name": "stdout",
     "output_type": "stream",
     "text": [
      "65\n",
      "57\n",
      "0.06557376995431337\n",
      "2137\n",
      "2067\n",
      "2026\n",
      "1419\n",
      "1299\n",
      "1292\n",
      "1246\n",
      "0.09791332255384162\n"
     ]
    },
    {
     "name": "stderr",
     "output_type": "stream",
     "text": [
      "C:\\Users\\gagan\\AppData\\Local\\Temp\\ipykernel_6308\\125688054.py:245: DeprecationWarning: The 'text' argument to find()-type methods is deprecated. Use 'string' instead.\n",
      "  texts = soup.findAll(text=True)\n"
     ]
    },
    {
     "name": "stdout",
     "output_type": "stream",
     "text": [
      "2740\n",
      "101\n",
      "27.128712871287128\n",
      "677\n",
      "the_number_of_words:  2740\n",
      "complex_words:  677\n",
      "percentage of complex word:  24.708029197080293\n",
      "Average_Sentence_Length: 27.128712871287128\n",
      "percentage of complex word:  24.708029197080293\n",
      "Fog Index : 20.73469682734697\n",
      "the_number_of_words:  2740\n",
      "sentence_length: 101\n",
      "Average_Number_of_Words_Per_Sentence: 27.128712871287128\n",
      "word count: 1210\n",
      "Count of Personal Pronoun: 1\n",
      "Sum_character: 12042\n",
      "the_number_of_words:  2740\n",
      "average_word_length: 4.394890510948905\n",
      "3978\n",
      "None\n"
     ]
    },
    {
     "name": "stderr",
     "output_type": "stream",
     "text": [
      "C:\\Users\\gagan\\AppData\\Local\\Temp\\ipykernel_6308\\125688054.py:18: DeprecationWarning: The 'text' argument to find()-type methods is deprecated. Use 'string' instead.\n",
      "  texts = soup.findAll(text=True)\n"
     ]
    },
    {
     "name": "stdout",
     "output_type": "stream",
     "text": [
      "65\n",
      "40\n",
      "0.23809523582766443\n",
      "2119\n",
      "2018\n",
      "1980\n",
      "1367\n",
      "1198\n",
      "1191\n",
      "1154\n",
      "0.09098786820538313\n"
     ]
    },
    {
     "name": "stderr",
     "output_type": "stream",
     "text": [
      "C:\\Users\\gagan\\AppData\\Local\\Temp\\ipykernel_6308\\125688054.py:245: DeprecationWarning: The 'text' argument to find()-type methods is deprecated. Use 'string' instead.\n",
      "  texts = soup.findAll(text=True)\n"
     ]
    },
    {
     "name": "stdout",
     "output_type": "stream",
     "text": [
      "2728\n",
      "98\n",
      "27.836734693877553\n",
      "675\n",
      "the_number_of_words:  2728\n",
      "complex_words:  675\n",
      "percentage of complex word:  24.74340175953079\n",
      "Average_Sentence_Length: 27.836734693877553\n",
      "percentage of complex word:  24.74340175953079\n",
      "Fog Index : 21.03205458136334\n",
      "the_number_of_words:  2728\n",
      "sentence_length: 98\n",
      "Average_Number_of_Words_Per_Sentence: 27.836734693877553\n",
      "word count: 1117\n",
      "Count of Personal Pronoun: 1\n",
      "Sum_character: 11391\n",
      "the_number_of_words:  2728\n",
      "average_word_length: 4.17558651026393\n",
      "3756\n",
      "None\n"
     ]
    },
    {
     "name": "stderr",
     "output_type": "stream",
     "text": [
      "C:\\Users\\gagan\\AppData\\Local\\Temp\\ipykernel_6308\\125688054.py:18: DeprecationWarning: The 'text' argument to find()-type methods is deprecated. Use 'string' instead.\n",
      "  texts = soup.findAll(text=True)\n"
     ]
    },
    {
     "name": "stdout",
     "output_type": "stream",
     "text": [
      "47\n",
      "10\n",
      "0.6491227956294247\n",
      "1439\n",
      "1372\n",
      "1337\n",
      "1044\n",
      "994\n",
      "974\n",
      "938\n",
      "0.06076759055355267\n"
     ]
    },
    {
     "name": "stderr",
     "output_type": "stream",
     "text": [
      "C:\\Users\\gagan\\AppData\\Local\\Temp\\ipykernel_6308\\125688054.py:245: DeprecationWarning: The 'text' argument to find()-type methods is deprecated. Use 'string' instead.\n",
      "  texts = soup.findAll(text=True)\n"
     ]
    },
    {
     "name": "stdout",
     "output_type": "stream",
     "text": [
      "2729\n",
      "98\n",
      "27.846938775510203\n",
      "682\n",
      "the_number_of_words:  2729\n",
      "complex_words:  682\n",
      "percentage of complex word:  24.990839135214365\n",
      "Average_Sentence_Length: 27.846938775510203\n",
      "percentage of complex word:  24.990839135214365\n",
      "Fog Index : 21.135111164289828\n",
      "the_number_of_words:  2729\n",
      "sentence_length: 98\n",
      "Average_Number_of_Words_Per_Sentence: 27.846938775510203\n",
      "word count: 898\n",
      "Count of Personal Pronoun: 1\n",
      "Sum_character: 8370\n",
      "the_number_of_words:  2729\n",
      "average_word_length: 3.0670575302308536\n",
      "2717\n",
      "None\n"
     ]
    },
    {
     "name": "stderr",
     "output_type": "stream",
     "text": [
      "C:\\Users\\gagan\\AppData\\Local\\Temp\\ipykernel_6308\\125688054.py:18: DeprecationWarning: The 'text' argument to find()-type methods is deprecated. Use 'string' instead.\n",
      "  texts = soup.findAll(text=True)\n"
     ]
    },
    {
     "name": "stdout",
     "output_type": "stream",
     "text": [
      "61\n",
      "9\n",
      "0.7428571322448981\n",
      "1695\n",
      "1623\n",
      "1579\n",
      "1184\n",
      "1097\n",
      "1092\n",
      "1048\n",
      "0.06679389306603635\n"
     ]
    },
    {
     "name": "stderr",
     "output_type": "stream",
     "text": [
      "C:\\Users\\gagan\\AppData\\Local\\Temp\\ipykernel_6308\\125688054.py:245: DeprecationWarning: The 'text' argument to find()-type methods is deprecated. Use 'string' instead.\n",
      "  texts = soup.findAll(text=True)\n"
     ]
    },
    {
     "name": "stdout",
     "output_type": "stream",
     "text": [
      "2723\n",
      "95\n",
      "28.66315789473684\n",
      "676\n",
      "the_number_of_words:  2723\n",
      "complex_words:  676\n",
      "percentage of complex word:  24.825560044069043\n",
      "Average_Sentence_Length: 28.66315789473684\n",
      "percentage of complex word:  24.825560044069043\n",
      "Fog Index : 21.395487175522355\n",
      "the_number_of_words:  2723\n",
      "sentence_length: 95\n",
      "Average_Number_of_Words_Per_Sentence: 28.66315789473684\n",
      "word count: 1009\n",
      "Count of Personal Pronoun: 1\n",
      "Sum_character: 9390\n",
      "the_number_of_words:  2723\n",
      "average_word_length: 3.448402497245685\n",
      "3077\n",
      "None\n"
     ]
    },
    {
     "name": "stderr",
     "output_type": "stream",
     "text": [
      "C:\\Users\\gagan\\AppData\\Local\\Temp\\ipykernel_6308\\125688054.py:18: DeprecationWarning: The 'text' argument to find()-type methods is deprecated. Use 'string' instead.\n",
      "  texts = soup.findAll(text=True)\n"
     ]
    },
    {
     "name": "stdout",
     "output_type": "stream",
     "text": [
      "70\n",
      "53\n",
      "0.13821138099015137\n",
      "2132\n",
      "2030\n",
      "1981\n",
      "1422\n",
      "1319\n",
      "1308\n",
      "1275\n",
      "0.0964705881596309\n"
     ]
    },
    {
     "name": "stderr",
     "output_type": "stream",
     "text": [
      "C:\\Users\\gagan\\AppData\\Local\\Temp\\ipykernel_6308\\125688054.py:245: DeprecationWarning: The 'text' argument to find()-type methods is deprecated. Use 'string' instead.\n",
      "  texts = soup.findAll(text=True)\n"
     ]
    },
    {
     "name": "stdout",
     "output_type": "stream",
     "text": [
      "2722\n",
      "96\n",
      "28.354166666666668\n",
      "672\n",
      "the_number_of_words:  2722\n",
      "complex_words:  672\n",
      "percentage of complex word:  24.687729610580455\n",
      "Average_Sentence_Length: 28.354166666666668\n",
      "percentage of complex word:  24.687729610580455\n",
      "Fog Index : 21.21675851089885\n",
      "the_number_of_words:  2722\n",
      "sentence_length: 96\n",
      "Average_Number_of_Words_Per_Sentence: 28.354166666666668\n",
      "word count: 1238\n",
      "Count of Personal Pronoun: 1\n",
      "Sum_character: 12108\n",
      "the_number_of_words:  2722\n",
      "average_word_length: 4.448199853049228\n",
      "3945\n",
      "None\n"
     ]
    },
    {
     "name": "stderr",
     "output_type": "stream",
     "text": [
      "C:\\Users\\gagan\\AppData\\Local\\Temp\\ipykernel_6308\\125688054.py:18: DeprecationWarning: The 'text' argument to find()-type methods is deprecated. Use 'string' instead.\n",
      "  texts = soup.findAll(text=True)\n"
     ]
    },
    {
     "name": "stdout",
     "output_type": "stream",
     "text": [
      "65\n",
      "30\n",
      "0.36842104875346265\n",
      "1765\n",
      "1689\n",
      "1641\n",
      "1121\n",
      "1011\n",
      "1005\n",
      "962\n",
      "0.09875259864994533\n"
     ]
    },
    {
     "name": "stderr",
     "output_type": "stream",
     "text": [
      "C:\\Users\\gagan\\AppData\\Local\\Temp\\ipykernel_6308\\125688054.py:245: DeprecationWarning: The 'text' argument to find()-type methods is deprecated. Use 'string' instead.\n",
      "  texts = soup.findAll(text=True)\n"
     ]
    },
    {
     "name": "stdout",
     "output_type": "stream",
     "text": [
      "2725\n",
      "95\n",
      "28.68421052631579\n",
      "675\n",
      "the_number_of_words:  2725\n",
      "complex_words:  675\n",
      "percentage of complex word:  24.770642201834864\n",
      "Average_Sentence_Length: 28.68421052631579\n",
      "percentage of complex word:  24.770642201834864\n",
      "Fog Index : 21.381941091260263\n",
      "the_number_of_words:  2725\n",
      "sentence_length: 95\n",
      "Average_Number_of_Words_Per_Sentence: 28.68421052631579\n",
      "word count: 917\n",
      "Count of Personal Pronoun: 1\n",
      "Sum_character: 9258\n",
      "the_number_of_words:  2725\n",
      "average_word_length: 3.3974311926605503\n",
      "3060\n",
      "None\n"
     ]
    },
    {
     "name": "stderr",
     "output_type": "stream",
     "text": [
      "C:\\Users\\gagan\\AppData\\Local\\Temp\\ipykernel_6308\\125688054.py:18: DeprecationWarning: The 'text' argument to find()-type methods is deprecated. Use 'string' instead.\n",
      "  texts = soup.findAll(text=True)\n"
     ]
    },
    {
     "name": "stdout",
     "output_type": "stream",
     "text": [
      "46\n",
      "37\n",
      "0.10843373363332852\n",
      "2068\n",
      "1972\n",
      "1934\n",
      "1383\n",
      "1295\n",
      "1257\n",
      "1206\n",
      "0.06882255384011396\n"
     ]
    },
    {
     "name": "stderr",
     "output_type": "stream",
     "text": [
      "C:\\Users\\gagan\\AppData\\Local\\Temp\\ipykernel_6308\\125688054.py:245: DeprecationWarning: The 'text' argument to find()-type methods is deprecated. Use 'string' instead.\n",
      "  texts = soup.findAll(text=True)\n"
     ]
    },
    {
     "name": "stdout",
     "output_type": "stream",
     "text": [
      "2735\n",
      "101\n",
      "27.07920792079208\n",
      "677\n",
      "the_number_of_words:  2735\n",
      "complex_words:  677\n",
      "percentage of complex word:  24.753199268738573\n",
      "Average_Sentence_Length: 27.07920792079208\n",
      "percentage of complex word:  24.753199268738573\n",
      "Fog Index : 20.732962875812262\n",
      "the_number_of_words:  2735\n",
      "sentence_length: 101\n",
      "Average_Number_of_Words_Per_Sentence: 27.07920792079208\n",
      "word count: 1169\n",
      "Count of Personal Pronoun: 2\n",
      "Sum_character: 11666\n",
      "the_number_of_words:  2735\n",
      "average_word_length: 4.2654478976234005\n",
      "3801\n",
      "None\n"
     ]
    },
    {
     "name": "stderr",
     "output_type": "stream",
     "text": [
      "C:\\Users\\gagan\\AppData\\Local\\Temp\\ipykernel_6308\\125688054.py:18: DeprecationWarning: The 'text' argument to find()-type methods is deprecated. Use 'string' instead.\n",
      "  texts = soup.findAll(text=True)\n"
     ]
    },
    {
     "name": "stdout",
     "output_type": "stream",
     "text": [
      "58\n",
      "34\n",
      "0.2608695623818526\n",
      "2042\n",
      "1955\n",
      "1915\n",
      "1329\n",
      "1216\n",
      "1208\n",
      "1173\n",
      "0.07843137248215569\n"
     ]
    },
    {
     "name": "stderr",
     "output_type": "stream",
     "text": [
      "C:\\Users\\gagan\\AppData\\Local\\Temp\\ipykernel_6308\\125688054.py:245: DeprecationWarning: The 'text' argument to find()-type methods is deprecated. Use 'string' instead.\n",
      "  texts = soup.findAll(text=True)\n"
     ]
    },
    {
     "name": "stdout",
     "output_type": "stream",
     "text": [
      "2719\n",
      "96\n",
      "28.322916666666668\n",
      "674\n",
      "the_number_of_words:  2719\n",
      "complex_words:  674\n",
      "percentage of complex word:  24.788525193085693\n",
      "Average_Sentence_Length: 28.322916666666668\n",
      "percentage of complex word:  24.788525193085693\n",
      "Fog Index : 21.244576743900947\n",
      "the_number_of_words:  2719\n",
      "sentence_length: 96\n",
      "Average_Number_of_Words_Per_Sentence: 28.322916666666668\n",
      "word count: 1135\n",
      "Count of Personal Pronoun: 1\n",
      "Sum_character: 11568\n",
      "the_number_of_words:  2719\n",
      "average_word_length: 4.254505332842957\n",
      "3800\n",
      "None\n"
     ]
    },
    {
     "name": "stderr",
     "output_type": "stream",
     "text": [
      "C:\\Users\\gagan\\AppData\\Local\\Temp\\ipykernel_6308\\125688054.py:18: DeprecationWarning: The 'text' argument to find()-type methods is deprecated. Use 'string' instead.\n",
      "  texts = soup.findAll(text=True)\n"
     ]
    },
    {
     "name": "stdout",
     "output_type": "stream",
     "text": [
      "62\n",
      "50\n",
      "0.1071428561862245\n",
      "2087\n",
      "1993\n",
      "1944\n",
      "1415\n",
      "1315\n",
      "1304\n",
      "1267\n",
      "0.08839778998547924\n"
     ]
    },
    {
     "name": "stderr",
     "output_type": "stream",
     "text": [
      "C:\\Users\\gagan\\AppData\\Local\\Temp\\ipykernel_6308\\125688054.py:245: DeprecationWarning: The 'text' argument to find()-type methods is deprecated. Use 'string' instead.\n",
      "  texts = soup.findAll(text=True)\n"
     ]
    },
    {
     "name": "stdout",
     "output_type": "stream",
     "text": [
      "2720\n",
      "92\n",
      "29.565217391304348\n",
      "672\n",
      "the_number_of_words:  2720\n",
      "complex_words:  672\n",
      "percentage of complex word:  24.705882352941178\n",
      "Average_Sentence_Length: 29.565217391304348\n",
      "percentage of complex word:  24.705882352941178\n",
      "Fog Index : 21.708439897698213\n",
      "the_number_of_words:  2720\n",
      "sentence_length: 92\n",
      "Average_Number_of_Words_Per_Sentence: 29.565217391304348\n",
      "word count: 1230\n",
      "Count of Personal Pronoun: 2\n",
      "Sum_character: 11940\n",
      "the_number_of_words:  2720\n",
      "average_word_length: 4.389705882352941\n",
      "3907\n",
      "None\n"
     ]
    },
    {
     "name": "stderr",
     "output_type": "stream",
     "text": [
      "C:\\Users\\gagan\\AppData\\Local\\Temp\\ipykernel_6308\\125688054.py:18: DeprecationWarning: The 'text' argument to find()-type methods is deprecated. Use 'string' instead.\n",
      "  texts = soup.findAll(text=True)\n"
     ]
    },
    {
     "name": "stdout",
     "output_type": "stream",
     "text": [
      "64\n",
      "35\n",
      "0.29292928997041123\n",
      "2285\n",
      "2196\n",
      "2151\n",
      "1522\n",
      "1370\n",
      "1361\n",
      "1319\n",
      "0.07505686120162482\n"
     ]
    },
    {
     "name": "stderr",
     "output_type": "stream",
     "text": [
      "C:\\Users\\gagan\\AppData\\Local\\Temp\\ipykernel_6308\\125688054.py:245: DeprecationWarning: The 'text' argument to find()-type methods is deprecated. Use 'string' instead.\n",
      "  texts = soup.findAll(text=True)\n"
     ]
    },
    {
     "name": "stdout",
     "output_type": "stream",
     "text": [
      "2721\n",
      "96\n",
      "28.34375\n",
      "677\n",
      "the_number_of_words:  2721\n",
      "complex_words:  677\n",
      "percentage of complex word:  24.880558618155092\n",
      "Average_Sentence_Length: 28.34375\n",
      "percentage of complex word:  24.880558618155092\n",
      "Fog Index : 21.289723447262038\n",
      "the_number_of_words:  2721\n",
      "sentence_length: 96\n",
      "Average_Number_of_Words_Per_Sentence: 28.34375\n",
      "word count: 1277\n",
      "Count of Personal Pronoun: 3\n",
      "Sum_character: 12582\n",
      "the_number_of_words:  2721\n",
      "average_word_length: 4.624035281146638\n",
      "4141\n",
      "None\n"
     ]
    },
    {
     "name": "stderr",
     "output_type": "stream",
     "text": [
      "C:\\Users\\gagan\\AppData\\Local\\Temp\\ipykernel_6308\\125688054.py:18: DeprecationWarning: The 'text' argument to find()-type methods is deprecated. Use 'string' instead.\n",
      "  texts = soup.findAll(text=True)\n"
     ]
    },
    {
     "name": "stdout",
     "output_type": "stream",
     "text": [
      "86\n",
      "47\n",
      "0.2932330805020069\n",
      "2585\n",
      "2464\n",
      "2417\n",
      "1645\n",
      "1481\n",
      "1462\n",
      "1409\n",
      "0.09439318659021065\n"
     ]
    },
    {
     "name": "stderr",
     "output_type": "stream",
     "text": [
      "C:\\Users\\gagan\\AppData\\Local\\Temp\\ipykernel_6308\\125688054.py:245: DeprecationWarning: The 'text' argument to find()-type methods is deprecated. Use 'string' instead.\n",
      "  texts = soup.findAll(text=True)\n"
     ]
    },
    {
     "name": "stdout",
     "output_type": "stream",
     "text": [
      "2740\n",
      "104\n",
      "26.346153846153847\n",
      "680\n",
      "the_number_of_words:  2740\n",
      "complex_words:  680\n",
      "percentage of complex word:  24.817518248175183\n",
      "Average_Sentence_Length: 26.346153846153847\n",
      "percentage of complex word:  24.817518248175183\n",
      "Fog Index : 20.465468837731613\n",
      "the_number_of_words:  2740\n",
      "sentence_length: 104\n",
      "Average_Number_of_Words_Per_Sentence: 26.346153846153847\n",
      "word count: 1364\n",
      "Count of Personal Pronoun: 1\n",
      "Sum_character: 13763\n",
      "the_number_of_words:  2740\n",
      "average_word_length: 5.022992700729927\n",
      "4572\n",
      "None\n"
     ]
    },
    {
     "name": "stderr",
     "output_type": "stream",
     "text": [
      "C:\\Users\\gagan\\AppData\\Local\\Temp\\ipykernel_6308\\125688054.py:18: DeprecationWarning: The 'text' argument to find()-type methods is deprecated. Use 'string' instead.\n",
      "  texts = soup.findAll(text=True)\n"
     ]
    },
    {
     "name": "stdout",
     "output_type": "stream",
     "text": [
      "65\n",
      "52\n",
      "0.11111111016144351\n",
      "2856\n",
      "2755\n",
      "2692\n",
      "1871\n",
      "1692\n",
      "1667\n",
      "1614\n",
      "0.0724907062747889\n"
     ]
    },
    {
     "name": "stderr",
     "output_type": "stream",
     "text": [
      "C:\\Users\\gagan\\AppData\\Local\\Temp\\ipykernel_6308\\125688054.py:245: DeprecationWarning: The 'text' argument to find()-type methods is deprecated. Use 'string' instead.\n",
      "  texts = soup.findAll(text=True)\n"
     ]
    },
    {
     "name": "stdout",
     "output_type": "stream",
     "text": [
      "2739\n",
      "103\n",
      "26.59223300970874\n",
      "682\n",
      "the_number_of_words:  2739\n",
      "complex_words:  682\n",
      "percentage of complex word:  24.899598393574294\n",
      "Average_Sentence_Length: 26.59223300970874\n",
      "percentage of complex word:  24.899598393574294\n",
      "Fog Index : 20.596732561313214\n",
      "the_number_of_words:  2739\n",
      "sentence_length: 103\n",
      "Average_Number_of_Words_Per_Sentence: 26.59223300970874\n",
      "word count: 1576\n",
      "Count of Personal Pronoun: 1\n",
      "Sum_character: 15400\n",
      "the_number_of_words:  2739\n",
      "average_word_length: 5.622489959839357\n",
      "5048\n",
      "None\n"
     ]
    },
    {
     "name": "stderr",
     "output_type": "stream",
     "text": [
      "C:\\Users\\gagan\\AppData\\Local\\Temp\\ipykernel_6308\\125688054.py:18: DeprecationWarning: The 'text' argument to find()-type methods is deprecated. Use 'string' instead.\n",
      "  texts = soup.findAll(text=True)\n"
     ]
    },
    {
     "name": "stdout",
     "output_type": "stream",
     "text": [
      "63\n",
      "32\n",
      "0.3263157860387812\n",
      "1923\n",
      "1849\n",
      "1795\n",
      "1241\n",
      "1116\n",
      "1105\n",
      "1059\n",
      "0.08970727092567773\n"
     ]
    },
    {
     "name": "stderr",
     "output_type": "stream",
     "text": [
      "C:\\Users\\gagan\\AppData\\Local\\Temp\\ipykernel_6308\\125688054.py:245: DeprecationWarning: The 'text' argument to find()-type methods is deprecated. Use 'string' instead.\n",
      "  texts = soup.findAll(text=True)\n"
     ]
    },
    {
     "name": "stdout",
     "output_type": "stream",
     "text": [
      "2720\n",
      "95\n",
      "28.63157894736842\n",
      "672\n",
      "the_number_of_words:  2720\n",
      "complex_words:  672\n",
      "percentage of complex word:  24.705882352941178\n",
      "Average_Sentence_Length: 28.63157894736842\n",
      "percentage of complex word:  24.705882352941178\n",
      "Fog Index : 21.33498452012384\n",
      "the_number_of_words:  2720\n",
      "sentence_length: 95\n",
      "Average_Number_of_Words_Per_Sentence: 28.63157894736842\n",
      "word count: 1021\n",
      "Count of Personal Pronoun: 2\n",
      "Sum_character: 9939\n",
      "the_number_of_words:  2720\n",
      "average_word_length: 3.6540441176470586\n",
      "3252\n",
      "None\n"
     ]
    },
    {
     "name": "stderr",
     "output_type": "stream",
     "text": [
      "C:\\Users\\gagan\\AppData\\Local\\Temp\\ipykernel_6308\\125688054.py:18: DeprecationWarning: The 'text' argument to find()-type methods is deprecated. Use 'string' instead.\n",
      "  texts = soup.findAll(text=True)\n"
     ]
    },
    {
     "name": "stdout",
     "output_type": "stream",
     "text": [
      "85\n",
      "79\n",
      "0.03658536563057704\n",
      "2976\n",
      "2866\n",
      "2819\n",
      "1969\n",
      "1793\n",
      "1769\n",
      "1690\n",
      "0.09704142006092223\n"
     ]
    },
    {
     "name": "stderr",
     "output_type": "stream",
     "text": [
      "C:\\Users\\gagan\\AppData\\Local\\Temp\\ipykernel_6308\\125688054.py:245: DeprecationWarning: The 'text' argument to find()-type methods is deprecated. Use 'string' instead.\n",
      "  texts = soup.findAll(text=True)\n"
     ]
    },
    {
     "name": "stdout",
     "output_type": "stream",
     "text": [
      "2728\n",
      "102\n",
      "26.745098039215687\n",
      "669\n",
      "the_number_of_words:  2728\n",
      "complex_words:  669\n",
      "percentage of complex word:  24.523460410557185\n",
      "Average_Sentence_Length: 26.745098039215687\n",
      "percentage of complex word:  24.523460410557185\n",
      "Fog Index : 20.50742337990915\n",
      "the_number_of_words:  2728\n",
      "sentence_length: 102\n",
      "Average_Number_of_Words_Per_Sentence: 26.745098039215687\n",
      "word count: 1630\n",
      "Count of Personal Pronoun: 2\n",
      "Sum_character: 16449\n",
      "the_number_of_words:  2728\n",
      "average_word_length: 6.029692082111437\n",
      "5373\n",
      "None\n"
     ]
    },
    {
     "name": "stderr",
     "output_type": "stream",
     "text": [
      "C:\\Users\\gagan\\AppData\\Local\\Temp\\ipykernel_6308\\125688054.py:18: DeprecationWarning: The 'text' argument to find()-type methods is deprecated. Use 'string' instead.\n",
      "  texts = soup.findAll(text=True)\n"
     ]
    },
    {
     "name": "stdout",
     "output_type": "stream",
     "text": [
      "76\n",
      "57\n",
      "0.14285714178302902\n",
      "2312\n",
      "2229\n",
      "2185\n",
      "1453\n",
      "1289\n",
      "1283\n",
      "1245\n",
      "0.10682730915114272\n"
     ]
    },
    {
     "name": "stderr",
     "output_type": "stream",
     "text": [
      "C:\\Users\\gagan\\AppData\\Local\\Temp\\ipykernel_6308\\125688054.py:245: DeprecationWarning: The 'text' argument to find()-type methods is deprecated. Use 'string' instead.\n",
      "  texts = soup.findAll(text=True)\n"
     ]
    },
    {
     "name": "stdout",
     "output_type": "stream",
     "text": [
      "2725\n",
      "98\n",
      "27.806122448979593\n",
      "677\n",
      "the_number_of_words:  2725\n",
      "complex_words:  677\n",
      "percentage of complex word:  24.844036697247706\n",
      "Average_Sentence_Length: 27.806122448979593\n",
      "percentage of complex word:  24.844036697247706\n",
      "Fog Index : 21.060063658490918\n",
      "the_number_of_words:  2725\n",
      "sentence_length: 98\n",
      "Average_Number_of_Words_Per_Sentence: 27.806122448979593\n",
      "word count: 1208\n",
      "Count of Personal Pronoun: 1\n",
      "Sum_character: 12009\n",
      "the_number_of_words:  2725\n",
      "average_word_length: 4.40697247706422\n",
      "3945\n",
      "None\n"
     ]
    },
    {
     "name": "stderr",
     "output_type": "stream",
     "text": [
      "C:\\Users\\gagan\\AppData\\Local\\Temp\\ipykernel_6308\\125688054.py:18: DeprecationWarning: The 'text' argument to find()-type methods is deprecated. Use 'string' instead.\n",
      "  texts = soup.findAll(text=True)\n"
     ]
    },
    {
     "name": "stdout",
     "output_type": "stream",
     "text": [
      "48\n",
      "19\n",
      "0.43283581443528635\n",
      "1373\n",
      "1311\n",
      "1276\n",
      "990\n",
      "937\n",
      "930\n",
      "907\n",
      "0.07386990069033086\n"
     ]
    },
    {
     "name": "stderr",
     "output_type": "stream",
     "text": [
      "C:\\Users\\gagan\\AppData\\Local\\Temp\\ipykernel_6308\\125688054.py:245: DeprecationWarning: The 'text' argument to find()-type methods is deprecated. Use 'string' instead.\n",
      "  texts = soup.findAll(text=True)\n"
     ]
    },
    {
     "name": "stdout",
     "output_type": "stream",
     "text": [
      "2720\n",
      "99\n",
      "27.474747474747474\n",
      "676\n",
      "the_number_of_words:  2720\n",
      "complex_words:  676\n",
      "percentage of complex word:  24.852941176470587\n",
      "Average_Sentence_Length: 27.474747474747474\n",
      "percentage of complex word:  24.852941176470587\n",
      "Fog Index : 20.931075460487225\n",
      "the_number_of_words:  2720\n",
      "sentence_length: 99\n",
      "Average_Number_of_Words_Per_Sentence: 27.474747474747474\n",
      "word count: 867\n",
      "Count of Personal Pronoun: 1\n",
      "Sum_character: 8046\n",
      "the_number_of_words:  2720\n",
      "average_word_length: 2.9580882352941176\n",
      "2611\n",
      "None\n"
     ]
    },
    {
     "name": "stderr",
     "output_type": "stream",
     "text": [
      "C:\\Users\\gagan\\AppData\\Local\\Temp\\ipykernel_6308\\125688054.py:18: DeprecationWarning: The 'text' argument to find()-type methods is deprecated. Use 'string' instead.\n",
      "  texts = soup.findAll(text=True)\n"
     ]
    },
    {
     "name": "stdout",
     "output_type": "stream",
     "text": [
      "89\n",
      "93\n",
      "-0.021978021857263618\n",
      "3185\n",
      "3059\n",
      "3002\n",
      "2105\n",
      "1959\n",
      "1939\n",
      "1834\n",
      "0.09923664116726463\n"
     ]
    },
    {
     "name": "stderr",
     "output_type": "stream",
     "text": [
      "C:\\Users\\gagan\\AppData\\Local\\Temp\\ipykernel_6308\\125688054.py:245: DeprecationWarning: The 'text' argument to find()-type methods is deprecated. Use 'string' instead.\n",
      "  texts = soup.findAll(text=True)\n"
     ]
    },
    {
     "name": "stdout",
     "output_type": "stream",
     "text": [
      "2735\n",
      "99\n",
      "27.626262626262626\n",
      "671\n",
      "the_number_of_words:  2735\n",
      "complex_words:  671\n",
      "percentage of complex word:  24.53382084095064\n",
      "Average_Sentence_Length: 27.626262626262626\n",
      "percentage of complex word:  24.53382084095064\n",
      "Fog Index : 20.86403338688531\n",
      "the_number_of_words:  2735\n",
      "sentence_length: 99\n",
      "Average_Number_of_Words_Per_Sentence: 27.626262626262626\n",
      "word count: 1798\n",
      "Count of Personal Pronoun: 3\n",
      "Sum_character: 17587\n",
      "the_number_of_words:  2735\n",
      "average_word_length: 6.430347349177331\n",
      "5728\n",
      "None\n"
     ]
    },
    {
     "name": "stderr",
     "output_type": "stream",
     "text": [
      "C:\\Users\\gagan\\AppData\\Local\\Temp\\ipykernel_6308\\125688054.py:18: DeprecationWarning: The 'text' argument to find()-type methods is deprecated. Use 'string' instead.\n",
      "  texts = soup.findAll(text=True)\n"
     ]
    },
    {
     "name": "stdout",
     "output_type": "stream",
     "text": [
      "84\n",
      "64\n",
      "0.13513513422205992\n",
      "2625\n",
      "2526\n",
      "2467\n",
      "1566\n",
      "1345\n",
      "1337\n",
      "1278\n",
      "0.11580594670124729\n"
     ]
    },
    {
     "name": "stderr",
     "output_type": "stream",
     "text": [
      "C:\\Users\\gagan\\AppData\\Local\\Temp\\ipykernel_6308\\125688054.py:245: DeprecationWarning: The 'text' argument to find()-type methods is deprecated. Use 'string' instead.\n",
      "  texts = soup.findAll(text=True)\n"
     ]
    },
    {
     "name": "stdout",
     "output_type": "stream",
     "text": [
      "2731\n",
      "98\n",
      "27.867346938775512\n",
      "674\n",
      "the_number_of_words:  2731\n",
      "complex_words:  674\n",
      "percentage of complex word:  24.67960454046137\n",
      "Average_Sentence_Length: 27.867346938775512\n",
      "percentage of complex word:  24.67960454046137\n",
      "Fog Index : 21.018780591694753\n",
      "the_number_of_words:  2731\n",
      "sentence_length: 98\n",
      "Average_Number_of_Words_Per_Sentence: 27.867346938775512\n",
      "word count: 1241\n",
      "Count of Personal Pronoun: 1\n",
      "Sum_character: 13336\n",
      "the_number_of_words:  2731\n",
      "average_word_length: 4.883192969608202\n",
      "4400\n",
      "None\n"
     ]
    },
    {
     "name": "stderr",
     "output_type": "stream",
     "text": [
      "C:\\Users\\gagan\\AppData\\Local\\Temp\\ipykernel_6308\\125688054.py:18: DeprecationWarning: The 'text' argument to find()-type methods is deprecated. Use 'string' instead.\n",
      "  texts = soup.findAll(text=True)\n"
     ]
    },
    {
     "name": "stdout",
     "output_type": "stream",
     "text": [
      "78\n",
      "59\n",
      "0.1386861303745538\n",
      "2750\n",
      "2646\n",
      "2586\n",
      "1802\n",
      "1598\n",
      "1567\n",
      "1519\n",
      "0.0901909150163325\n"
     ]
    },
    {
     "name": "stderr",
     "output_type": "stream",
     "text": [
      "C:\\Users\\gagan\\AppData\\Local\\Temp\\ipykernel_6308\\125688054.py:245: DeprecationWarning: The 'text' argument to find()-type methods is deprecated. Use 'string' instead.\n",
      "  texts = soup.findAll(text=True)\n"
     ]
    },
    {
     "name": "stdout",
     "output_type": "stream",
     "text": [
      "2730\n",
      "98\n",
      "27.857142857142858\n",
      "672\n",
      "the_number_of_words:  2730\n",
      "complex_words:  672\n",
      "percentage of complex word:  24.615384615384617\n",
      "Average_Sentence_Length: 27.857142857142858\n",
      "percentage of complex word:  24.615384615384617\n",
      "Fog Index : 20.989010989010993\n",
      "the_number_of_words:  2730\n",
      "sentence_length: 98\n",
      "Average_Number_of_Words_Per_Sentence: 27.857142857142858\n",
      "word count: 1482\n",
      "Count of Personal Pronoun: 3\n",
      "Sum_character: 14917\n",
      "the_number_of_words:  2730\n",
      "average_word_length: 5.464102564102564\n",
      "4886\n",
      "None\n"
     ]
    },
    {
     "name": "stderr",
     "output_type": "stream",
     "text": [
      "C:\\Users\\gagan\\AppData\\Local\\Temp\\ipykernel_6308\\125688054.py:18: DeprecationWarning: The 'text' argument to find()-type methods is deprecated. Use 'string' instead.\n",
      "  texts = soup.findAll(text=True)\n"
     ]
    },
    {
     "name": "stdout",
     "output_type": "stream",
     "text": [
      "90\n",
      "75\n",
      "0.09090909035812672\n",
      "2839\n",
      "2715\n",
      "2654\n",
      "1831\n",
      "1605\n",
      "1581\n",
      "1531\n",
      "0.10777269751288523\n"
     ]
    },
    {
     "name": "stderr",
     "output_type": "stream",
     "text": [
      "C:\\Users\\gagan\\AppData\\Local\\Temp\\ipykernel_6308\\125688054.py:245: DeprecationWarning: The 'text' argument to find()-type methods is deprecated. Use 'string' instead.\n",
      "  texts = soup.findAll(text=True)\n"
     ]
    },
    {
     "name": "stdout",
     "output_type": "stream",
     "text": [
      "2710\n",
      "93\n",
      "29.13978494623656\n",
      "672\n",
      "the_number_of_words:  2710\n",
      "complex_words:  672\n",
      "percentage of complex word:  24.797047970479706\n",
      "Average_Sentence_Length: 29.13978494623656\n",
      "percentage of complex word:  24.797047970479706\n",
      "Fog Index : 21.57473316668651\n",
      "the_number_of_words:  2710\n",
      "sentence_length: 93\n",
      "Average_Number_of_Words_Per_Sentence: 29.13978494623656\n",
      "word count: 1494\n",
      "Count of Personal Pronoun: 3\n",
      "Sum_character: 15344\n",
      "the_number_of_words:  2710\n",
      "average_word_length: 5.661992619926199\n",
      "5030\n",
      "None\n"
     ]
    },
    {
     "name": "stderr",
     "output_type": "stream",
     "text": [
      "C:\\Users\\gagan\\AppData\\Local\\Temp\\ipykernel_6308\\125688054.py:18: DeprecationWarning: The 'text' argument to find()-type methods is deprecated. Use 'string' instead.\n",
      "  texts = soup.findAll(text=True)\n"
     ]
    },
    {
     "name": "stdout",
     "output_type": "stream",
     "text": [
      "92\n",
      "77\n",
      "0.08875739592451246\n",
      "2978\n",
      "2844\n",
      "2776\n",
      "1990\n",
      "1803\n",
      "1783\n",
      "1736\n",
      "0.09735023035866922\n"
     ]
    },
    {
     "name": "stderr",
     "output_type": "stream",
     "text": [
      "C:\\Users\\gagan\\AppData\\Local\\Temp\\ipykernel_6308\\125688054.py:245: DeprecationWarning: The 'text' argument to find()-type methods is deprecated. Use 'string' instead.\n",
      "  texts = soup.findAll(text=True)\n"
     ]
    },
    {
     "name": "stdout",
     "output_type": "stream",
     "text": [
      "2731\n",
      "96\n",
      "28.447916666666668\n",
      "674\n",
      "the_number_of_words:  2731\n",
      "complex_words:  674\n",
      "percentage of complex word:  24.67960454046137\n",
      "Average_Sentence_Length: 28.447916666666668\n",
      "percentage of complex word:  24.67960454046137\n",
      "Fog Index : 21.25100848285122\n",
      "the_number_of_words:  2731\n",
      "sentence_length: 96\n",
      "Average_Number_of_Words_Per_Sentence: 28.447916666666668\n",
      "word count: 1676\n",
      "Count of Personal Pronoun: 1\n",
      "Sum_character: 16499\n",
      "the_number_of_words:  2731\n",
      "average_word_length: 6.041376785060417\n",
      "5334\n",
      "None\n"
     ]
    },
    {
     "name": "stderr",
     "output_type": "stream",
     "text": [
      "C:\\Users\\gagan\\AppData\\Local\\Temp\\ipykernel_6308\\125688054.py:18: DeprecationWarning: The 'text' argument to find()-type methods is deprecated. Use 'string' instead.\n",
      "  texts = soup.findAll(text=True)\n"
     ]
    },
    {
     "name": "stdout",
     "output_type": "stream",
     "text": [
      "90\n",
      "22\n",
      "0.6071428517219388\n",
      "2862\n",
      "2756\n",
      "2711\n",
      "1799\n",
      "1640\n",
      "1624\n",
      "1561\n",
      "0.0717488788778034\n"
     ]
    },
    {
     "name": "stderr",
     "output_type": "stream",
     "text": [
      "C:\\Users\\gagan\\AppData\\Local\\Temp\\ipykernel_6308\\125688054.py:245: DeprecationWarning: The 'text' argument to find()-type methods is deprecated. Use 'string' instead.\n",
      "  texts = soup.findAll(text=True)\n"
     ]
    },
    {
     "name": "stdout",
     "output_type": "stream",
     "text": [
      "2719\n",
      "93\n",
      "29.236559139784948\n",
      "673\n",
      "the_number_of_words:  2719\n",
      "complex_words:  673\n",
      "percentage of complex word:  24.751746965796247\n",
      "Average_Sentence_Length: 29.236559139784948\n",
      "percentage of complex word:  24.751746965796247\n",
      "Fog Index : 21.59532244223248\n",
      "the_number_of_words:  2719\n",
      "sentence_length: 93\n",
      "Average_Number_of_Words_Per_Sentence: 29.236559139784948\n",
      "word count: 1524\n",
      "Count of Personal Pronoun: 1\n",
      "Sum_character: 15819\n",
      "the_number_of_words:  2719\n",
      "average_word_length: 5.817947774917249\n",
      "5253\n",
      "None\n"
     ]
    },
    {
     "name": "stderr",
     "output_type": "stream",
     "text": [
      "C:\\Users\\gagan\\AppData\\Local\\Temp\\ipykernel_6308\\125688054.py:18: DeprecationWarning: The 'text' argument to find()-type methods is deprecated. Use 'string' instead.\n",
      "  texts = soup.findAll(text=True)\n"
     ]
    },
    {
     "name": "stdout",
     "output_type": "stream",
     "text": [
      "55\n",
      "27\n",
      "0.34146341046995843\n",
      "1850\n",
      "1773\n",
      "1729\n",
      "1227\n",
      "1140\n",
      "1128\n",
      "1093\n",
      "0.07502287275844201\n"
     ]
    },
    {
     "name": "stderr",
     "output_type": "stream",
     "text": [
      "C:\\Users\\gagan\\AppData\\Local\\Temp\\ipykernel_6308\\125688054.py:245: DeprecationWarning: The 'text' argument to find()-type methods is deprecated. Use 'string' instead.\n",
      "  texts = soup.findAll(text=True)\n"
     ]
    },
    {
     "name": "stdout",
     "output_type": "stream",
     "text": [
      "2713\n",
      "98\n",
      "27.683673469387756\n",
      "673\n",
      "the_number_of_words:  2713\n",
      "complex_words:  673\n",
      "percentage of complex word:  24.806487283450053\n",
      "Average_Sentence_Length: 27.683673469387756\n",
      "percentage of complex word:  24.806487283450053\n",
      "Fog Index : 20.996064301135124\n",
      "the_number_of_words:  2713\n",
      "sentence_length: 98\n",
      "Average_Number_of_Words_Per_Sentence: 27.683673469387756\n",
      "word count: 1057\n",
      "Count of Personal Pronoun: 1\n",
      "Sum_character: 10339\n",
      "the_number_of_words:  2713\n",
      "average_word_length: 3.8109104312569113\n",
      "3371\n",
      "None\n"
     ]
    },
    {
     "name": "stderr",
     "output_type": "stream",
     "text": [
      "C:\\Users\\gagan\\AppData\\Local\\Temp\\ipykernel_6308\\125688054.py:18: DeprecationWarning: The 'text' argument to find()-type methods is deprecated. Use 'string' instead.\n",
      "  texts = soup.findAll(text=True)\n"
     ]
    },
    {
     "name": "stdout",
     "output_type": "stream",
     "text": [
      "85\n",
      "85\n",
      "0.0\n",
      "2699\n",
      "2578\n",
      "2525\n",
      "1769\n",
      "1591\n",
      "1580\n",
      "1535\n",
      "0.11074918559560312\n"
     ]
    },
    {
     "name": "stderr",
     "output_type": "stream",
     "text": [
      "C:\\Users\\gagan\\AppData\\Local\\Temp\\ipykernel_6308\\125688054.py:245: DeprecationWarning: The 'text' argument to find()-type methods is deprecated. Use 'string' instead.\n",
      "  texts = soup.findAll(text=True)\n"
     ]
    },
    {
     "name": "stdout",
     "output_type": "stream",
     "text": [
      "2719\n",
      "96\n",
      "28.322916666666668\n",
      "670\n",
      "the_number_of_words:  2719\n",
      "complex_words:  670\n",
      "percentage of complex word:  24.641412283927917\n",
      "Average_Sentence_Length: 28.322916666666668\n",
      "percentage of complex word:  24.641412283927917\n",
      "Fog Index : 21.185731580237835\n",
      "the_number_of_words:  2719\n",
      "sentence_length: 96\n",
      "Average_Number_of_Words_Per_Sentence: 28.322916666666668\n",
      "word count: 1495\n",
      "Count of Personal Pronoun: 1\n",
      "Sum_character: 14972\n",
      "the_number_of_words:  2719\n",
      "average_word_length: 5.506436189775653\n",
      "4950\n",
      "None\n"
     ]
    },
    {
     "name": "stderr",
     "output_type": "stream",
     "text": [
      "C:\\Users\\gagan\\AppData\\Local\\Temp\\ipykernel_6308\\125688054.py:18: DeprecationWarning: The 'text' argument to find()-type methods is deprecated. Use 'string' instead.\n",
      "  texts = soup.findAll(text=True)\n"
     ]
    },
    {
     "name": "stdout",
     "output_type": "stream",
     "text": [
      "66\n",
      "51\n",
      "0.12820512710935789\n",
      "2021\n",
      "1955\n",
      "1918\n",
      "1364\n",
      "1194\n",
      "1189\n",
      "1137\n",
      "0.10290237457968128\n"
     ]
    },
    {
     "name": "stderr",
     "output_type": "stream",
     "text": [
      "C:\\Users\\gagan\\AppData\\Local\\Temp\\ipykernel_6308\\125688054.py:245: DeprecationWarning: The 'text' argument to find()-type methods is deprecated. Use 'string' instead.\n",
      "  texts = soup.findAll(text=True)\n"
     ]
    },
    {
     "name": "stdout",
     "output_type": "stream",
     "text": [
      "2722\n",
      "98\n",
      "27.775510204081634\n",
      "673\n",
      "the_number_of_words:  2722\n",
      "complex_words:  673\n",
      "percentage of complex word:  24.72446730345334\n",
      "Average_Sentence_Length: 27.775510204081634\n",
      "percentage of complex word:  24.72446730345334\n",
      "Fog Index : 20.999991003013992\n",
      "the_number_of_words:  2722\n",
      "sentence_length: 98\n",
      "Average_Number_of_Words_Per_Sentence: 27.775510204081634\n",
      "word count: 1100\n",
      "Count of Personal Pronoun: 2\n",
      "Sum_character: 11038\n",
      "the_number_of_words:  2722\n",
      "average_word_length: 4.055106539309332\n",
      "3633\n",
      "None\n"
     ]
    },
    {
     "name": "stderr",
     "output_type": "stream",
     "text": [
      "C:\\Users\\gagan\\AppData\\Local\\Temp\\ipykernel_6308\\125688054.py:18: DeprecationWarning: The 'text' argument to find()-type methods is deprecated. Use 'string' instead.\n",
      "  texts = soup.findAll(text=True)\n"
     ]
    },
    {
     "name": "stdout",
     "output_type": "stream",
     "text": [
      "52\n",
      "30\n",
      "0.26829267965496734\n",
      "1770\n",
      "1698\n",
      "1650\n",
      "1231\n",
      "1161\n",
      "1131\n",
      "1088\n",
      "0.07536764698955178\n"
     ]
    },
    {
     "name": "stderr",
     "output_type": "stream",
     "text": [
      "C:\\Users\\gagan\\AppData\\Local\\Temp\\ipykernel_6308\\125688054.py:245: DeprecationWarning: The 'text' argument to find()-type methods is deprecated. Use 'string' instead.\n",
      "  texts = soup.findAll(text=True)\n"
     ]
    },
    {
     "name": "stdout",
     "output_type": "stream",
     "text": [
      "2724\n",
      "101\n",
      "26.97029702970297\n",
      "673\n",
      "the_number_of_words:  2724\n",
      "complex_words:  673\n",
      "percentage of complex word:  24.706314243759177\n",
      "Average_Sentence_Length: 26.97029702970297\n",
      "percentage of complex word:  24.706314243759177\n",
      "Fog Index : 20.670644509384857\n",
      "the_number_of_words:  2724\n",
      "sentence_length: 101\n",
      "Average_Number_of_Words_Per_Sentence: 26.97029702970297\n",
      "word count: 1052\n",
      "Count of Personal Pronoun: 2\n",
      "Sum_character: 10076\n",
      "the_number_of_words:  2724\n",
      "average_word_length: 3.6989720998531572\n",
      "3296\n",
      "None\n"
     ]
    },
    {
     "name": "stderr",
     "output_type": "stream",
     "text": [
      "C:\\Users\\gagan\\AppData\\Local\\Temp\\ipykernel_6308\\125688054.py:18: DeprecationWarning: The 'text' argument to find()-type methods is deprecated. Use 'string' instead.\n",
      "  texts = soup.findAll(text=True)\n"
     ]
    },
    {
     "name": "stdout",
     "output_type": "stream",
     "text": [
      "64\n",
      "67\n",
      "-0.02290076318396364\n",
      "2757\n",
      "2669\n",
      "2607\n",
      "1902\n",
      "1742\n",
      "1686\n",
      "1600\n",
      "0.08187499994882812\n"
     ]
    },
    {
     "name": "stderr",
     "output_type": "stream",
     "text": [
      "C:\\Users\\gagan\\AppData\\Local\\Temp\\ipykernel_6308\\125688054.py:245: DeprecationWarning: The 'text' argument to find()-type methods is deprecated. Use 'string' instead.\n",
      "  texts = soup.findAll(text=True)\n"
     ]
    },
    {
     "name": "stdout",
     "output_type": "stream",
     "text": [
      "2722\n",
      "92\n",
      "29.58695652173913\n",
      "672\n",
      "the_number_of_words:  2722\n",
      "complex_words:  672\n",
      "percentage of complex word:  24.687729610580455\n",
      "Average_Sentence_Length: 29.58695652173913\n",
      "percentage of complex word:  24.687729610580455\n",
      "Fog Index : 21.709874452927835\n",
      "the_number_of_words:  2722\n",
      "sentence_length: 92\n",
      "Average_Number_of_Words_Per_Sentence: 29.58695652173913\n",
      "word count: 1538\n",
      "Count of Personal Pronoun: 2\n",
      "Sum_character: 15009\n",
      "the_number_of_words:  2722\n",
      "average_word_length: 5.513960323291697\n",
      "4959\n",
      "None\n"
     ]
    },
    {
     "name": "stderr",
     "output_type": "stream",
     "text": [
      "C:\\Users\\gagan\\AppData\\Local\\Temp\\ipykernel_6308\\125688054.py:18: DeprecationWarning: The 'text' argument to find()-type methods is deprecated. Use 'string' instead.\n",
      "  texts = soup.findAll(text=True)\n"
     ]
    },
    {
     "name": "stdout",
     "output_type": "stream",
     "text": [
      "121\n",
      "32\n",
      "0.5816993426032723\n",
      "2795\n",
      "2668\n",
      "2607\n",
      "1846\n",
      "1672\n",
      "1666\n",
      "1625\n",
      "0.09415384609590532\n"
     ]
    },
    {
     "name": "stderr",
     "output_type": "stream",
     "text": [
      "C:\\Users\\gagan\\AppData\\Local\\Temp\\ipykernel_6308\\125688054.py:245: DeprecationWarning: The 'text' argument to find()-type methods is deprecated. Use 'string' instead.\n",
      "  texts = soup.findAll(text=True)\n"
     ]
    },
    {
     "name": "stdout",
     "output_type": "stream",
     "text": [
      "2742\n",
      "104\n",
      "26.365384615384617\n",
      "676\n",
      "the_number_of_words:  2742\n",
      "complex_words:  676\n",
      "percentage of complex word:  24.653537563822027\n",
      "Average_Sentence_Length: 26.365384615384617\n",
      "percentage of complex word:  24.653537563822027\n",
      "Fog Index : 20.407568871682656\n",
      "the_number_of_words:  2742\n",
      "sentence_length: 104\n",
      "Average_Number_of_Words_Per_Sentence: 26.365384615384617\n",
      "word count: 1587\n",
      "Count of Personal Pronoun: 1\n",
      "Sum_character: 15553\n",
      "the_number_of_words:  2742\n",
      "average_word_length: 5.672137126185266\n",
      "5129\n",
      "None\n"
     ]
    },
    {
     "name": "stderr",
     "output_type": "stream",
     "text": [
      "C:\\Users\\gagan\\AppData\\Local\\Temp\\ipykernel_6308\\125688054.py:18: DeprecationWarning: The 'text' argument to find()-type methods is deprecated. Use 'string' instead.\n",
      "  texts = soup.findAll(text=True)\n"
     ]
    },
    {
     "name": "stdout",
     "output_type": "stream",
     "text": [
      "69\n",
      "27\n",
      "0.4374999954427084\n",
      "2370\n",
      "2298\n",
      "2251\n",
      "1540\n",
      "1393\n",
      "1382\n",
      "1347\n",
      "0.071269487697647\n"
     ]
    },
    {
     "name": "stderr",
     "output_type": "stream",
     "text": [
      "C:\\Users\\gagan\\AppData\\Local\\Temp\\ipykernel_6308\\125688054.py:245: DeprecationWarning: The 'text' argument to find()-type methods is deprecated. Use 'string' instead.\n",
      "  texts = soup.findAll(text=True)\n"
     ]
    },
    {
     "name": "stdout",
     "output_type": "stream",
     "text": [
      "2726\n",
      "98\n",
      "27.816326530612244\n",
      "673\n",
      "the_number_of_words:  2726\n",
      "complex_words:  673\n",
      "percentage of complex word:  24.688187820983128\n",
      "Average_Sentence_Length: 27.816326530612244\n",
      "percentage of complex word:  24.688187820983128\n",
      "Fog Index : 21.00180574063815\n",
      "the_number_of_words:  2726\n",
      "sentence_length: 98\n",
      "Average_Number_of_Words_Per_Sentence: 27.816326530612244\n",
      "word count: 1311\n",
      "Count of Personal Pronoun: 4\n",
      "Sum_character: 13343\n",
      "the_number_of_words:  2726\n",
      "average_word_length: 4.894717534849597\n",
      "4364\n",
      "None\n"
     ]
    },
    {
     "name": "stderr",
     "output_type": "stream",
     "text": [
      "C:\\Users\\gagan\\AppData\\Local\\Temp\\ipykernel_6308\\125688054.py:18: DeprecationWarning: The 'text' argument to find()-type methods is deprecated. Use 'string' instead.\n",
      "  texts = soup.findAll(text=True)\n"
     ]
    },
    {
     "name": "stdout",
     "output_type": "stream",
     "text": [
      "94\n",
      "38\n",
      "0.42424242102846654\n",
      "2040\n",
      "1939\n",
      "1902\n",
      "1403\n",
      "1297\n",
      "1288\n",
      "1251\n",
      "0.10551558744563101\n"
     ]
    },
    {
     "name": "stderr",
     "output_type": "stream",
     "text": [
      "C:\\Users\\gagan\\AppData\\Local\\Temp\\ipykernel_6308\\125688054.py:245: DeprecationWarning: The 'text' argument to find()-type methods is deprecated. Use 'string' instead.\n",
      "  texts = soup.findAll(text=True)\n"
     ]
    },
    {
     "name": "stdout",
     "output_type": "stream",
     "text": [
      "2731\n",
      "100\n",
      "27.31\n",
      "678\n",
      "the_number_of_words:  2731\n",
      "complex_words:  678\n",
      "percentage of complex word:  24.826071036250458\n",
      "Average_Sentence_Length: 27.31\n",
      "percentage of complex word:  24.826071036250458\n",
      "Fog Index : 20.854428414500184\n",
      "the_number_of_words:  2731\n",
      "sentence_length: 100\n",
      "Average_Number_of_Words_Per_Sentence: 27.31\n",
      "word count: 1206\n",
      "Count of Personal Pronoun: 1\n",
      "Sum_character: 12081\n",
      "the_number_of_words:  2731\n",
      "average_word_length: 4.423654339069937\n",
      "4025\n",
      "None\n"
     ]
    }
   ],
   "source": [
    "# auto fill\n",
    "def auto_fill(link):\n",
    "    from bs4 import BeautifulSoup\n",
    "    from bs4.element import Comment\n",
    "    import requests\n",
    "    import pandas as pd\n",
    "    \n",
    "    def tag_visible(element):\n",
    "        if element.parent.name in ['style', 'script', 'head', 'title', 'meta', '[document]',\"#menu-main-6\"]:\n",
    "            return False\n",
    "        if isinstance(element, Comment):\n",
    "            return False\n",
    "        return True\n",
    "    \n",
    "    \n",
    "    def text_from_html(body):\n",
    "        soup = BeautifulSoup(body)\n",
    "        texts = soup.findAll(text=True)\n",
    "        visible_texts = filter(tag_visible, texts)  \n",
    "        return u\" \".join(t.strip() for t in visible_texts)\n",
    "    \n",
    "    headers = {\"User-Agent\": \"Mozilla/5.0 (Windows NT 10.0; Win64; x64) AppleWebKit/537.36 (KHTML, like Gecko) Chrome/102.0.0.0 Safari/537.36\"}\n",
    "    \n",
    "    \n",
    "    response = requests.get(link, headers=headers, cookies={'cookies':''})\n",
    "    \n",
    "    \n",
    "    blog=text_from_html(response.text)\n",
    "    \n",
    "    blog=blog.split()\n",
    "    \n",
    "    # blog=list(map(lambda x:x.lower(),blog))\n",
    "    # print(blog)\n",
    "    \n",
    "    blog = [word.lower() for word in blog]\n",
    "    # print(blog)\n",
    "    \n",
    "    pos=open(r'C:\\Users\\gagan\\text analytics\\MasterDictionary\\positive-words.txt','r')\n",
    "    postive_words=pos.read()\n",
    "    # print(postive_words)\n",
    "    \n",
    "    \n",
    "    postive_words=postive_words.split()\n",
    "    \n",
    "    # postive_words=list(map(lambda x:x.lower(),postive_words))\n",
    "    # print(postive_words)\n",
    "    \n",
    "    pos.close()\n",
    "    \n",
    "    p=0\n",
    "    for x in blog:\n",
    "        if x in postive_words:\n",
    "            p+=1\n",
    "    # print(p)      \n",
    "    \n",
    "    # df=pd.read_excel(r\"C:\\Users\\gagan\\text analytics\\Output Data Structure.xlsx\")\n",
    "    # df.loc[0,\"POSITIVE SCORE\"]=p\n",
    "    # # print(df)\n",
    "    # df.to_excel(r\"C:\\Users\\gagan\\text analytics\\Output Data Structure.xlsx\")\n",
    "    \n",
    "    \n",
    "    # positive score\n",
    "    pos=open(r'C:\\Users\\gagan\\text analytics\\MasterDictionary\\positive-words.txt','r')\n",
    "    postive_words=pos.read()\n",
    "    # print(postive_words)\n",
    "    \n",
    "    \n",
    "    postive_words=postive_words.split(\"\\n\")\n",
    "    # print(postive_words)\n",
    "    \n",
    "    pos.close()\n",
    "    \n",
    "    P=0\n",
    "    for x in blog:\n",
    "        if x in postive_words:\n",
    "            P+=1\n",
    "    print(P)   \n",
    "    df=pd.read_excel(r\"C:\\Users\\gagan\\text analytics\\Output Data Structure.xlsx\")\n",
    "    df.loc[h,\"POSITIVE SCORE\"]=P\n",
    "    # print(df)\n",
    "    df.to_excel(r\"C:\\Users\\gagan\\text analytics\\Output Data Structure.xlsx\",index=False)\n",
    "    \n",
    "    \n",
    "    #negative score\n",
    "    neg=open(r\"C:\\Users\\gagan\\text analytics\\MasterDictionary\\negative-words.txt\",'r')\n",
    "    negative_words=neg.read()\n",
    "    # print(negative_words)\n",
    "    \n",
    "    \n",
    "    negative_words=negative_words.split(\"\\n\")\n",
    "    negative_words = [word.lower() for word in negative_words]\n",
    "    # print(negative_words)\n",
    "    pos.close()\n",
    "    \n",
    "    \n",
    "    N=0\n",
    "    for x in blog:\n",
    "        if x in negative_words:\n",
    "            N+=1\n",
    "    print(N)   \n",
    "    df=pd.read_excel(r\"C:\\Users\\gagan\\text analytics\\Output Data Structure.xlsx\")\n",
    "    df.loc[h,\"NEGATIVE SCORE\"]=N\n",
    "    # print(df)\n",
    "    df.to_excel(r\"C:\\Users\\gagan\\text analytics\\Output Data Structure.xlsx\",index=False)\n",
    "    \n",
    "    \n",
    "    \n",
    "    #Polarity Score\n",
    "    polarity_score = (P - N) / ((P + N) + 0.000001)\n",
    "    print(polarity_score)\n",
    "    df=pd.read_excel(r\"C:\\Users\\gagan\\text analytics\\Output Data Structure.xlsx\")\n",
    "    df.loc[h,\"POLARITY SCORE\"]=polarity_score\n",
    "    # print(df)\n",
    "    df.to_excel(r\"C:\\Users\\gagan\\text analytics\\Output Data Structure.xlsx\",index=False)\n",
    "    \n",
    "    \n",
    "    \n",
    "    \n",
    "    # Subjectivity Score\n",
    "    stop1=open(r\"C:\\Users\\gagan\\text analytics\\StopWords\\StopWords_Auditor.txt\",'r')\n",
    "    stop1=stop1.read()\n",
    "    stop1=stop1.split()\n",
    "    stop1 = [word.lower() for word in stop1]\n",
    "    # print(stop1)\n",
    "    l1=[]\n",
    "    for s in blog:\n",
    "        if s not in stop1:\n",
    "            l1.append(s)\n",
    "    # print(l1)\n",
    "    print(len(l1))\n",
    "    \n",
    "    \n",
    "    l1\n",
    "    stop2=open(r\"C:\\Users\\gagan\\text analytics\\StopWords\\StopWords_Currencies.txt\",'r')\n",
    "    stop2=stop2.read()\n",
    "    stop2=stop2.split()\n",
    "    stop2 = [word.lower() for word in stop2]\n",
    "    # print(stop2)\n",
    "    \n",
    "    l2=[]\n",
    "    for c in l1:\n",
    "        if c not in stop2:\n",
    "            l2.append(c)\n",
    "    # print(l2)\n",
    "    print(len(l2))\n",
    "    \n",
    "    \n",
    "    \n",
    "    stop3=open(r\"C:\\Users\\gagan\\text analytics\\StopWords\\StopWords_DatesandNumbers.txt\",'r')\n",
    "    stop3=stop3.read()\n",
    "    stop3=stop3.split()\n",
    "    stop3 = [word.lower() for word in stop3]\n",
    "    # print(stop3)\n",
    "    l3=[]\n",
    "    for d in l2:\n",
    "        if d not in stop3:\n",
    "            l3.append(d)\n",
    "    # print(l3)\n",
    "    print(len(l3))\n",
    "    \n",
    "    \n",
    "    \n",
    "    stop4=open(r\"C:\\Users\\gagan\\text analytics\\StopWords\\StopWords_Generic.txt\",'r')\n",
    "    stop4=stop4.read()\n",
    "    stop4=stop4.split()\n",
    "    stop4 = [word.lower() for word in stop4]\n",
    "    # print(stop4)\n",
    "    l4=[]\n",
    "    for d in l3:\n",
    "        if d not in stop4:\n",
    "            l4.append(d)\n",
    "    # print(l4)\n",
    "    print(len(l4))\n",
    "    \n",
    "    \n",
    "    \n",
    "    l4\n",
    "    stop5=open(r\"C:\\Users\\gagan\\text analytics\\StopWords\\StopWords_GenericLong.txt\",'r')\n",
    "    stop5=stop5.read()\n",
    "    stop5=stop5.split()\n",
    "    stop5 = [word.lower() for word in stop5]\n",
    "    # print(stop5)\n",
    "    l5=[]\n",
    "    for d in l4:\n",
    "        if d not in stop5:\n",
    "            l5.append(d)\n",
    "    # print(l5)\n",
    "    print(len(l5))\n",
    "    \n",
    "    l5\n",
    "    stop6=open(r\"C:\\Users\\gagan\\text analytics\\StopWords\\StopWords_Geographic.txt\",'r')\n",
    "    stop6=stop6.read()\n",
    "    stop6=stop6.split()\n",
    "    stop6 = [word.lower() for word in stop6]\n",
    "    # print(stop6)\n",
    "    \n",
    "    l6=[]\n",
    "    for d in l5:\n",
    "        if d not in stop6:\n",
    "            l6.append(d)\n",
    "    # print(l6)\n",
    "    print(len(l6))\n",
    "    l6\n",
    "    stop7=open(r\"C:\\Users\\gagan\\text analytics\\StopWords\\StopWords_Names.txt\",'r')\n",
    "    stop7=stop7.read()\n",
    "    stop7=stop7.split()\n",
    "    stop7 = [word.lower() for word in stop7]\n",
    "    # print(stop7)\n",
    "    l7=[]\n",
    "    for d in l6:\n",
    "        if d  not in stop7:\n",
    "            l7.append(d)\n",
    "    # print(l7)\n",
    "    print(len(l7))\n",
    "    total_words_after_cleaning=len(l7)\n",
    "    \n",
    "    \n",
    "    \n",
    "    # Subjectivity Score\n",
    "    Subjectivity_Score = (P + N)/ ((total_words_after_cleaning) + 0.000001)\n",
    "    print(Subjectivity_Score)\n",
    "    df=pd.read_excel(r\"C:\\Users\\gagan\\text analytics\\Output Data Structure.xlsx\")\n",
    "    df.loc[h,\"SUBJECTIVITY SCORE\"]=Subjectivity_Score\n",
    "    # print(df)\n",
    "    df.to_excel(r\"C:\\Users\\gagan\\text analytics\\Output Data Structure.xlsx\",index=False) \n",
    "    \n",
    "    \n",
    "    \n",
    "    # Average Sentence Length \n",
    "    from bs4 import BeautifulSoup\n",
    "    from bs4.element import Comment\n",
    "    import requests\n",
    "    import pandas as pd\n",
    "    \n",
    "    def tag_visible(element):\n",
    "        if element.parent.name in ['style', 'script', 'head', 'title', 'meta', '[document]',\"#menu-main-6\"]:\n",
    "            return False\n",
    "        if isinstance(element, Comment):\n",
    "            return False\n",
    "        return True\n",
    "    \n",
    "    \n",
    "    def text_from_html(body):\n",
    "        soup = BeautifulSoup(body)\n",
    "        texts = soup.findAll(text=True)\n",
    "        visible_texts = filter(tag_visible, texts)  \n",
    "        return u\" \".join(t.strip() for t in visible_texts)\n",
    "    \n",
    "    headers = {\"User-Agent\": \"Mozilla/5.0 (Windows NT 10.0; Win64; x64) AppleWebKit/537.36 (KHTML, like Gecko) Chrome/102.0.0.0 Safari/537.36\"}\n",
    "    \n",
    "    \n",
    "    response = requests.get('https://insights.blackcoffer.com/rise-of-telemedicine-and-its-impact-on-livelihood-by-2040-3-2/',\n",
    "                            headers=headers, cookies={'cookies':''})\n",
    "    \n",
    "    \n",
    "    word1=text_from_html(response.text)\n",
    "    word=word1.split( )\n",
    "    # print(word)\n",
    "    the_number_of_words=len(word)\n",
    "    \n",
    "    print(the_number_of_words)\n",
    "    \n",
    "    sentence=word1.split(\".\")\n",
    "    # print(sentence)\n",
    "    sentence_length=len(sentence)\n",
    "    print(sentence_length)\n",
    "    \n",
    "    # average sentence lenght\n",
    "    Average_Sentence_Length = the_number_of_words / sentence_length\n",
    "    print(Average_Sentence_Length)\n",
    "    \n",
    "    df=pd.read_excel(r\"C:\\Users\\gagan\\text analytics\\Output Data Structure.xlsx\")\n",
    "    df.loc[h,\"AVG SENTENCE LENGTH\"]=Average_Sentence_Length\n",
    "    # print(df)\n",
    "    df.to_excel(r\"C:\\Users\\gagan\\text analytics\\Output Data Structure.xlsx\",index=False)\n",
    "    \n",
    "    # complex words\n",
    "    word=word1.split( )\n",
    "    def count_syllables(r):\n",
    "        vowels = \"aeiouAEIOU\"\n",
    "        count = 0\n",
    "        \n",
    "        for i in range(len(r)):\n",
    "            if r[i] in vowels:\n",
    "                # To avoid counting consecutive vowels as multiple syllables\n",
    "                if i == 0 or r[i-1] not in vowels:\n",
    "                    count += 1\n",
    "        \n",
    "        return count\n",
    "    \n",
    "    def is_complex(r):\n",
    "        syllable_count = count_syllables(r)\n",
    "        if syllable_count == 2:\n",
    "            return True\n",
    "        else:\n",
    "            return False\n",
    "    \n",
    "    # Input from the user\n",
    "    # word = input(\"Enter a word: \")\n",
    "    \n",
    "    # # Determine if the word is complex\n",
    "    # if is_complex(word):\n",
    "    #     print(f\"The word '{word}' is complex.\")\n",
    "    # else:\n",
    "    #     print(f\"The word '{word}' is not complex.\")\n",
    "    \n",
    "    c=0\n",
    "    for r in word:\n",
    "        if is_complex(r):\n",
    "            c=c+1\n",
    "    complex_words=c\n",
    "    print(complex_words)\n",
    "    \n",
    "    \n",
    "    df=pd.read_excel(r\"C:\\Users\\gagan\\text analytics\\Output Data Structure.xlsx\")\n",
    "    df.loc[h,\"COMPLEX WORD COUNT\"]=complex_words\n",
    "    # print(df)\n",
    "    df.to_excel(r\"C:\\Users\\gagan\\text analytics\\Output Data Structure.xlsx\",index=False)\n",
    "    \n",
    "    \n",
    "    # Percentage of Complex words = the number of complex words / the number of words \n",
    "    \n",
    "    print(\"the_number_of_words: \", the_number_of_words)\n",
    "    print(\"complex_words: \", complex_words)\n",
    "    \n",
    "    Percentage_of_Complex_words=(complex_words/the_number_of_words)*100\n",
    "    print(\"percentage of complex word: \", Percentage_of_Complex_words)\n",
    "    \n",
    "    df=pd.read_excel(r\"C:\\Users\\gagan\\text analytics\\Output Data Structure.xlsx\")\n",
    "    df.loc[h,\"PERCENTAGE OF COMPLEX WORDS\"]=Percentage_of_Complex_words\n",
    "    # print(df)\n",
    "    df.to_excel(r\"C:\\Users\\gagan\\text analytics\\Output Data Structure.xlsx\",index=False)\n",
    "    \n",
    "    \n",
    "    \n",
    "    # Fog Index = 0.4 * (Average Sentence Length + Percentage of Complex words)\n",
    "    print(\"Average_Sentence_Length:\",Average_Sentence_Length)\n",
    "    print(\"percentage of complex word: \", Percentage_of_Complex_words)\n",
    "    # Fog Index = 0.4 * (Average Sentence Length + Percentage of Complex words)\n",
    "    fog_index=0.4 * (Average_Sentence_Length + Percentage_of_Complex_words)\n",
    "    print(\"Fog Index :\",fog_index)\n",
    "    \n",
    "    \n",
    "    \n",
    "    df=pd.read_excel(r\"C:\\Users\\gagan\\text analytics\\Output Data Structure.xlsx\")\n",
    "    df.loc[h,\"FOG INDEX\"]=fog_index\n",
    "    # print(df)\n",
    "    df.to_excel(r\"C:\\Users\\gagan\\text analytics\\Output Data Structure.xlsx\",index=False)\n",
    "    \n",
    "    print(\"the_number_of_words: \", the_number_of_words)\n",
    "    print(\"sentence_length:\", sentence_length)\n",
    "    Average_Number_of_Words_Per_Sentence = the_number_of_words / sentence_length\n",
    "    print(\"Average_Number_of_Words_Per_Sentence:\", Average_Number_of_Words_Per_Sentence)\n",
    "    \n",
    "    \n",
    "    \n",
    "    df=pd.read_excel(r\"C:\\Users\\gagan\\text analytics\\Output Data Structure.xlsx\")\n",
    "    df.loc[h,\"AVG NUMBER OF WORDS PER SENTENCE\"]=Average_Number_of_Words_Per_Sentence\n",
    "    # print(df)\n",
    "    df.to_excel(r\"C:\\Users\\gagan\\text analytics\\Output Data Structure.xlsx\",index=False)\n",
    "    \n",
    "    \n",
    "    \n",
    "    # word_count\n",
    "    \n",
    "    l7\n",
    "    # print(len(l7))\n",
    "    s=\" \".join(l7)\n",
    "    text=s\n",
    "    # print(text)\n",
    "    punc = '''!()-[]{};:'\"\\,<>./?@#$%^&*_~'''\n",
    "     \n",
    "    for i in text:\n",
    "        if i in punc:\n",
    "            text = text.replace(i, \"\")\n",
    "     \n",
    "    \n",
    "    # print( text)\n",
    "    word_count=text.split()\n",
    "    # print(word_count)\n",
    "    word_count=len(word_count)\n",
    "    print(\"word count:\",word_count)\n",
    "    \n",
    "    \n",
    "    df=pd.read_excel(r\"C:\\Users\\gagan\\text analytics\\Output Data Structure.xlsx\")\n",
    "    df.loc[h,\"WORD COUNT\"]=word_count\n",
    "    # print(df)\n",
    "    df.to_excel(r\"C:\\Users\\gagan\\text analytics\\Output Data Structure.xlsx\",index=False)\n",
    "    \n",
    "    \n",
    "    \n",
    "    \n",
    "    # personal pronouns\n",
    "    word_count=text.split()\n",
    "    p=[\"I\",\"We\",\"My\",\"Our\",\"Us\"]\n",
    "    \n",
    "    pro=[word.lower() for word in p]\n",
    "    # print(pro)\n",
    "    \n",
    "    \n",
    "    \n",
    "    # print(word_count)\n",
    "    \n",
    "    count=0\n",
    "    for d in word_count:\n",
    "        if d in pro:\n",
    "            count=count+1\n",
    "    print(\"Count of Personal Pronoun:\",count)\n",
    "    \n",
    "            \n",
    "    \n",
    "    df=pd.read_excel(r\"C:\\Users\\gagan\\text analytics\\Output Data Structure.xlsx\")\n",
    "    df.loc[h,\"PERSONAL PRONOUNS\"]=count\n",
    "    # print(df)\n",
    "    df.to_excel(r\"C:\\Users\\gagan\\text analytics\\Output Data Structure.xlsx\",index=False)\n",
    "    \n",
    "    \n",
    "    \n",
    "    \n",
    "    # print(blog)\n",
    "    l=0\n",
    "    for i in blog:\n",
    "        l=l+len(i)\n",
    "    Sum_character=l\n",
    "    print(\"Sum_character:\",Sum_character)\n",
    "    print(\"the_number_of_words: \", the_number_of_words)\n",
    "    average_word_length=Sum_character/the_number_of_words\n",
    "    print(\"average_word_length:\",average_word_length)\n",
    "    \n",
    "    \n",
    "    df=pd.read_excel(r\"C:\\Users\\gagan\\text analytics\\Output Data Structure.xlsx\")\n",
    "    df.loc[h,\"AVG WORD LENGTH\"]=average_word_length\n",
    "    # print(df)\n",
    "    df.to_excel(r\"C:\\Users\\gagan\\text analytics\\Output Data Structure.xlsx\",index=False)\n",
    "    \n",
    "    \n",
    "    # syllabe per word\n",
    "    blog\n",
    "    \n",
    "    count=0\n",
    "    s='My vowel ios zoo'\n",
    "    s=s.split()\n",
    "    s=blog\n",
    "    for word in s:\n",
    "         for i in range(len(word)):\n",
    "            if i==len(word)-1 and word[i] in 'aeiou':\n",
    "                count+=1\n",
    "        \n",
    "            elif word[i] in 'aeiou' and word[i+1] not in 'aeiou':\n",
    "                count+=1\n",
    "    print(count)\n",
    "    \n",
    "    df=pd.read_excel(r\"C:\\Users\\gagan\\text analytics\\Output Data Structure.xlsx\")\n",
    "    df.loc[h,\"SYLLABLE PER WORD\"]=count\n",
    "    # print(df)\n",
    "    df.to_excel(r\"C:\\Users\\gagan\\text analytics\\Output Data Structure.xlsx\",index=False)\n",
    "    \n",
    "import pandas as pd\n",
    "h=0\n",
    "df=pd.read_excel(r\"C:\\Users\\gagan\\text analytics\\Output Data Structure.xlsx\")\n",
    "for link in df[\"URL\"]:\n",
    "    print(auto_fill(link))\n",
    "    h=h+1"
   ]
  },
  {
   "cell_type": "code",
   "execution_count": null,
   "id": "0261e4f0-a91b-4c44-a565-4fb7b303e031",
   "metadata": {},
   "outputs": [],
   "source": []
  }
 ],
 "metadata": {
  "kernelspec": {
   "display_name": "Python 3 (ipykernel)",
   "language": "python",
   "name": "python3"
  },
  "language_info": {
   "codemirror_mode": {
    "name": "ipython",
    "version": 3
   },
   "file_extension": ".py",
   "mimetype": "text/x-python",
   "name": "python",
   "nbconvert_exporter": "python",
   "pygments_lexer": "ipython3",
   "version": "3.11.5"
  },
  "widgets": {
   "application/vnd.jupyter.widget-state+json": {
    "state": {},
    "version_major": 2,
    "version_minor": 0
   }
  }
 },
 "nbformat": 4,
 "nbformat_minor": 5
}
